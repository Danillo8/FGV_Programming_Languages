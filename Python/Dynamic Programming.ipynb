{
 "cells": [
  {
   "cell_type": "markdown",
   "metadata": {},
   "source": [
    "Bellman-Ford Algorithm"
   ]
  },
  {
   "cell_type": "code",
   "execution_count": 96,
   "metadata": {},
   "outputs": [],
   "source": [
    "import numpy as np"
   ]
  },
  {
   "cell_type": "code",
   "execution_count": 56,
   "metadata": {},
   "outputs": [],
   "source": [
    "G={\n",
    "    's':[('u',2),('v',5)],\n",
    "    'u':[('s',1),('v',2)],\n",
    "    'v':[('t',-2)],\n",
    "    't':[]\n",
    "}\n"
   ]
  },
  {
   "cell_type": "code",
   "execution_count": 62,
   "metadata": {},
   "outputs": [],
   "source": [
    "def BFA(G,inicial):\n",
    "    d=[]\n",
    "    for i in range(len(G.keys())):\n",
    "        d.append({})\n",
    "        \n",
    "    for j in list(G.keys()):\n",
    "        if j==inicial: \n",
    "            d[0][j]=0\n",
    "        else:\n",
    "            d[0][j]=float('inf')\n",
    "            \n",
    "            \n",
    "    for k in range(1,len(G.keys())):\n",
    "        for b in list(G.keys()):\n",
    "            R=reverse_graph(G)\n",
    "            d[k][b]=min(d[k-1][b] , min(list(  (  d[k-1][R[b][i][0]]+R[b][i][1] for i in range(len(R[b]))   )   )  )   )\n",
    "                        \n",
    "    return d"
   ]
  },
  {
   "cell_type": "code",
   "execution_count": 61,
   "metadata": {},
   "outputs": [
    {
     "data": {
      "text/plain": [
       "{'s': [('u', 1)], 't': [('v', -2)], 'u': [('s', 2)], 'v': [('s', 5), ('u', 2)]}"
      ]
     },
     "execution_count": 61,
     "metadata": {},
     "output_type": "execute_result"
    }
   ],
   "source": [
    "def reverse_graph(G):\n",
    "    R={}\n",
    "    for i in list(G.keys()):\n",
    "        R[i]=[]\n",
    "    \n",
    "    for i in list(G.keys()):\n",
    "        for p in G[i]:\n",
    "            R[p[0]].append((i,p[1]))\n",
    "    return R\n",
    "\n",
    "reverse_graph(G)"
   ]
  },
  {
   "cell_type": "code",
   "execution_count": 63,
   "metadata": {},
   "outputs": [
    {
     "data": {
      "text/plain": [
       "[{'s': 0, 't': inf, 'u': inf, 'v': inf},\n",
       " {'s': 0, 't': inf, 'u': 2, 'v': 5},\n",
       " {'s': 0, 't': 3, 'u': 2, 'v': 4},\n",
       " {'s': 0, 't': 2, 'u': 2, 'v': 4}]"
      ]
     },
     "execution_count": 63,
     "metadata": {},
     "output_type": "execute_result"
    }
   ],
   "source": [
    "BFA(G,'s')"
   ]
  },
  {
   "cell_type": "code",
   "execution_count": 29,
   "metadata": {},
   "outputs": [],
   "source": [
    "a='#INTENTION'\n",
    "b='#EXECUTION'"
   ]
  },
  {
   "cell_type": "code",
   "execution_count": 135,
   "metadata": {},
   "outputs": [],
   "source": [
    "def Dis(a,b):\n",
    "    M=np.zeros((len(a),len(b)))\n",
    "    N=np.zeros((len(a),len(b)))\n",
    "    for i in range(1,len(a)):\n",
    "        M[i,0]=i\n",
    "    for i in range(1,len(b)):\n",
    "        M[0,i]=i\n",
    "    \n",
    "    for i in range(1,len(a)):\n",
    "        for j in range(1,len(b)):\n",
    "            if a[i]==b[j]:\n",
    "                M[i,j]=min(M[i-1,j]+1,M[i,j-1]+1,M[i-1,j-1])\n",
    "            else:\n",
    "                M[i,j]=min(M[i-1,j]+1,M[i,j-1]+1,M[i-1,j-1]+2)\n",
    "    i,j=len(a)-1,len(b)-1\n",
    "    k=M[i,j]\n",
    "    N[i,j]=1\n",
    "        \n",
    "    \n",
    "    print(M)\n",
    "    print(N)\n",
    " \n",
    "    \n"
   ]
  },
  {
   "cell_type": "code",
   "execution_count": 136,
   "metadata": {},
   "outputs": [
    {
     "name": "stdout",
     "output_type": "stream",
     "text": [
      "[[ 0.  1.  2.  3.  4.  5.  6.  7.  8.  9.]\n",
      " [ 1.  2.  3.  4.  5.  6.  7.  6.  7.  8.]\n",
      " [ 2.  3.  4.  5.  6.  7.  8.  7.  8.  7.]\n",
      " [ 3.  4.  5.  6.  7.  8.  7.  8.  9.  8.]\n",
      " [ 4.  3.  4.  5.  6.  7.  8.  9. 10.  9.]\n",
      " [ 5.  4.  5.  6.  7.  8.  9. 10. 11. 10.]\n",
      " [ 6.  5.  6.  7.  8.  9.  8.  9. 10. 11.]\n",
      " [ 7.  6.  7.  8.  9. 10.  9.  8.  9. 10.]\n",
      " [ 8.  7.  8.  9. 10. 11. 10.  9.  8.  9.]\n",
      " [ 9.  8.  9. 10. 11. 12. 11. 10.  9.  8.]]\n",
      "[[0. 0. 0. 0. 0. 0. 0. 0. 0. 0.]\n",
      " [0. 0. 0. 0. 0. 0. 0. 0. 0. 0.]\n",
      " [0. 0. 0. 0. 0. 0. 0. 0. 0. 0.]\n",
      " [0. 0. 0. 0. 0. 0. 0. 0. 0. 0.]\n",
      " [0. 0. 0. 0. 0. 0. 0. 0. 0. 0.]\n",
      " [0. 0. 0. 0. 0. 0. 0. 0. 0. 0.]\n",
      " [0. 0. 0. 0. 0. 0. 0. 0. 0. 0.]\n",
      " [0. 0. 0. 0. 0. 0. 0. 0. 0. 0.]\n",
      " [0. 0. 0. 0. 0. 0. 0. 0. 0. 0.]\n",
      " [0. 0. 0. 0. 0. 0. 0. 0. 0. 1.]]\n"
     ]
    }
   ],
   "source": [
    "Dis(a,b)"
   ]
  },
  {
   "cell_type": "code",
   "execution_count": 137,
   "metadata": {},
   "outputs": [],
   "source": [
    "def Dis2(a,b):\n",
    "    M=np.zeros((len(a),len(b)))\n",
    "    N=np.chararray((len(a),len(b)),dtype='str')\n",
    "    ptr=['deletion','insertion','substiution']\n",
    "    for i in range(1,len(a)):\n",
    "        M[i,0]=i\n",
    "    for i in range(1,len(b)):\n",
    "        M[0,i]=i\n",
    "    \n",
    "    for i in range(1,len(a)):\n",
    "        for j in range(1,len(b)):\n",
    "            if a[i]==b[j]:\n",
    "                L=[M[i-1,j]+1,M[i,j-1]+1,M[i-1,j-1]]\n",
    "                min=L[0]\n",
    "                for i in range(len(L)):\n",
    "                    if L[i]<min:\n",
    "                        M[i,j]=\n",
    "                        \n",
    "                    \n",
    "            else:\n",
    "                M[i,j]=min(M[i-1,j]+1,M[i,j-1]+1,M[i-1,j-1]+2)           \n",
    "    print M\n",
    "    print N"
   ]
  },
  {
   "cell_type": "code",
   "execution_count": 151,
   "metadata": {},
   "outputs": [],
   "source": [
    "N=np.chararray((len(a),len(b)))"
   ]
  },
  {
   "cell_type": "code",
   "execution_count": 156,
   "metadata": {},
   "outputs": [
    {
     "data": {
      "text/plain": [
       "chararray([[b'\\xd8', b'\\xdb', b'!', b'\\x1f', b'\\x18', b'\\x7f', '', '',\n",
       "            b'@', b'e'],\n",
       "           [b'\\x12', b'\\x02', '', '', '', '', '', '', '', ''],\n",
       "           ['', '', '', '', '', '', '', '', '', ''],\n",
       "           ['', '', '', '', '', '', '', '', '', ''],\n",
       "           ['', '', '', '', '', '', '', '', '', ''],\n",
       "           ['', '', '', '', '', b'r', '', '', '', ''],\n",
       "           ['', '', '', '', '', '', '', '', '', ''],\n",
       "           ['', '', '', '', '', '', '', '', '', ''],\n",
       "           ['', '', '', '', '', '', '', '', '', ''],\n",
       "           ['', '', '', '', '', '', b'p', '', '', '']], dtype='|S1')"
      ]
     },
     "execution_count": 156,
     "metadata": {},
     "output_type": "execute_result"
    }
   ],
   "source": [
    "N"
   ]
  },
  {
   "cell_type": "code",
   "execution_count": 155,
   "metadata": {},
   "outputs": [],
   "source": [
    "N[5,5]=\"rapolho\""
   ]
  },
  {
   "cell_type": "code",
   "execution_count": 157,
   "metadata": {},
   "outputs": [],
   "source": [
    "data = np.array([['a','b'],['c','d']])"
   ]
  },
  {
   "cell_type": "code",
   "execution_count": 160,
   "metadata": {},
   "outputs": [
    {
     "data": {
      "text/plain": [
       "array([['a', 'b'],\n",
       "       ['c', 'a']], dtype='<U1')"
      ]
     },
     "execution_count": 160,
     "metadata": {},
     "output_type": "execute_result"
    }
   ],
   "source": [
    "data\n"
   ]
  },
  {
   "cell_type": "code",
   "execution_count": 159,
   "metadata": {},
   "outputs": [],
   "source": [
    "data[1,1]='abc'"
   ]
  },
  {
   "cell_type": "markdown",
   "metadata": {},
   "source": [
    "Knapsack"
   ]
  },
  {
   "cell_type": "code",
   "execution_count": 88,
   "metadata": {},
   "outputs": [],
   "source": [
    "weights=[6,2,4,3,11]\n",
    "values=[20,8,14,13,35]"
   ]
  },
  {
   "cell_type": "code",
   "execution_count": 133,
   "metadata": {},
   "outputs": [],
   "source": [
    "ueit=[1,2,3]\n",
    "valei=[1,4,6]"
   ]
  },
  {
   "cell_type": "code",
   "execution_count": 144,
   "metadata": {},
   "outputs": [],
   "source": [
    "def unb_knapsack(capacity, weights, values):   #Unbounded Snapsack\n",
    "    W=capacity\n",
    "    n=len(weights)\n",
    "    K={}\n",
    "    K[0]=0\n",
    "    items={}\n",
    "    items[0]=[]\n",
    "    for x in range(1,W+1):\n",
    "        K[x]=0\n",
    "        items[x]=[]\n",
    "        for i in range(n):\n",
    "            if weights[i]<=x:\n",
    "                a=K[x]\n",
    "                K[x]=max(K[x],K[x-weights[i]]+values[i])\n",
    "                if K[x]!=a:\n",
    "                    items[x]=items[x-weights[i]]+[i]\n",
    "    return K"
   ]
  },
  {
   "cell_type": "code",
   "execution_count": 145,
   "metadata": {},
   "outputs": [
    {
     "data": {
      "text/plain": [
       "{0: 0, 1: 0, 2: 8, 3: 13, 4: 16, 5: 21, 6: 26, 7: 29, 8: 34, 9: 39, 10: 42}"
      ]
     },
     "execution_count": 145,
     "metadata": {},
     "output_type": "execute_result"
    }
   ],
   "source": [
    "unb_knapsack(10,weights,values)"
   ]
  },
  {
   "cell_type": "code",
   "execution_count": 147,
   "metadata": {},
   "outputs": [],
   "source": [
    "def zeroumknapsack(capacity, weights, values):  #0/1 knapsack\n",
    "    W=capacity\n",
    "    n=len(weights)\n",
    "    K=np.zeros((W+1,n+1))\n",
    "    \n",
    "    for x in range(1,W+1):\n",
    "        for j in range(1,n+1):\n",
    "            K[x,j] = K[x,j-1]   #igual ao anterior\n",
    "            if weights[j-1]<=x:\n",
    "                K[x,j] = max(K[x,j],K[x-weights[j-1],j-1]+values[j-1])  #max entre o anterior na linha e o outro \n",
    "    \n",
    "    return K[W,n]\n",
    "\n",
    "#Obs: esse ta com a matriz transposta em relação ao do exemplo nos sildes \n",
    "#"
   ]
  },
  {
   "cell_type": "code",
   "execution_count": 148,
   "metadata": {},
   "outputs": [
    {
     "data": {
      "text/plain": [
       "35.0"
      ]
     },
     "execution_count": 148,
     "metadata": {},
     "output_type": "execute_result"
    }
   ],
   "source": [
    "zeroumknapsack(10,weights,values)"
   ]
  },
  {
   "cell_type": "code",
   "execution_count": 142,
   "metadata": {},
   "outputs": [
    {
     "data": {
      "text/plain": [
       "array([[0., 0., 0., 0.],\n",
       "       [0., 1., 1., 1.],\n",
       "       [0., 1., 4., 4.],\n",
       "       [0., 1., 5., 6.]])"
      ]
     },
     "execution_count": 142,
     "metadata": {},
     "output_type": "execute_result"
    }
   ],
   "source": [
    "zeroumknapsack(3,ueit,valei)"
   ]
  },
  {
   "cell_type": "code",
   "execution_count": null,
   "metadata": {},
   "outputs": [],
   "source": []
  }
 ],
 "metadata": {
  "kernelspec": {
   "display_name": "Python 3",
   "language": "python",
   "name": "python3"
  },
  "language_info": {
   "codemirror_mode": {
    "name": "ipython",
    "version": 3
   },
   "file_extension": ".py",
   "mimetype": "text/x-python",
   "name": "python",
   "nbconvert_exporter": "python",
   "pygments_lexer": "ipython3",
   "version": "3.5.2"
  }
 },
 "nbformat": 4,
 "nbformat_minor": 2
}
