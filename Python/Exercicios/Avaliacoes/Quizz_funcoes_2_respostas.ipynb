{
 "cells": [
  {
   "cell_type": "markdown",
   "metadata": {},
   "source": [
    "1 - Dadas uma lista qualquer, como a do exemplo abaixo:"
   ]
  },
  {
   "cell_type": "code",
   "execution_count": 5,
   "metadata": {},
   "outputs": [],
   "source": [
    "lista = [1,2,3,'4',5,6.3,7.4 + 2j,\"123\",[1,2,3], 93, \"98\", (1,2,3,'4')]"
   ]
  },
  {
   "cell_type": "markdown",
   "metadata": {},
   "source": [
    "Crie uma função recursiva para imprimir o antecessor e o sucessor de cada elemento de uma lista:\n",
    "+ Caso este elemento seja inteiro, imprimir o valor;  \n",
    "+ Caso seja uma string, imprimir o inteiro correspondente;  \n",
    "+ Caso seja um real, imprima a parte inteira;\n",
    "+ Caso seja um imaginário, imprima a parte inteira e real;\n",
    "+ Caso seja uma sequência, aplique as regras acima para cada elemento da sequência.  "
   ]
  },
  {
   "cell_type": "code",
   "execution_count": 7,
   "metadata": {},
   "outputs": [
    {
     "name": "stdout",
     "output_type": "stream",
     "text": [
      "[1, 2, 3, '4', 5, 6.3, (7.4+2j), '123', [1, 2, 3], 93, '98', (1, 2, 3, '4')]\n"
     ]
    }
   ],
   "source": [
    "def imprime_a_s(container):\n",
    "    for i in range(len(container)):\n",
    "        if i == 0:\n",
    "            print(container)\n",
    "imprime_a_s(lista)"
   ]
  },
  {
   "cell_type": "markdown",
   "metadata": {},
   "source": [
    "2 - Crie uma função, ou conjunto de funções, para exibir por extenso o valor de qualquer número inteiro até 1000.  \n",
    "Exemplo:  \n",
    "\n",
    "    print(imprime_extenso(234))  \n",
    "    > 'duzentos e trinta e quatro'  "
   ]
  },
  {
   "cell_type": "code",
   "execution_count": null,
   "metadata": {
    "collapsed": true
   },
   "outputs": [],
   "source": []
  },
  {
   "cell_type": "markdown",
   "metadata": {},
   "source": [
    "3- Em alguns lugares é comum lembrar um número do telefone associando seus dígitos a letras. Dessa maneira a expressão MY LOVE significa 69 5683. Claro que existem alguns problemas, uma vez que alguns números de telefone não formam uma palavra ou uma frase e os dígitos 1 e 0 não estão associados a nenhuma letra.  \n",
    "\n",
    "Sua tarefa é ler uma expressão e encontrar o número de telefone correspondente baseado na tabela abaixo. Uma expressão é composta por letras maiúsculas (A-Z), hifens (-) e os números 1 e 0.  \n",
    "\n",
    "Letras  ->  Número  \n",
    "ABC    ->  2   \n",
    "DEF    ->  3   \n",
    "GHI    ->  4   \n",
    "JKL    ->  5   \n",
    "MNO    ->  6   \n",
    "PQRS    ->  7   \n",
    "TUV    ->  8   \n",
    "WXYZ   ->  9   \n",
    "\n",
    "Entrada  \n",
    "\n",
    "A entrada consiste de um conjunto de expressões. Cada expressão está sozinha em uma linha e possui C caracteres, onde 1 ≤ C ≤ 30. A entrada é terminada por fim de arquivo (EOF).  \n",
    "\n",
    "Saída  \n",
    "\n",
    "Para cada expressão você deve imprimir o número de telefone correspondente.  \n",
    "\n",
    "Exemplo de entrada:  \n",
    "\n",
    "1-HOME-SWEET-HOME  \n",
    "MY-MISERABLE-JOB  \n",
    "\n",
    "Saída correspondente:\n",
    "\n",
    "1-4663-79338-4663  \n",
    "69-647372253-562  "
   ]
  },
  {
   "cell_type": "code",
   "execution_count": 20,
   "metadata": {},
   "outputs": [
    {
     "name": "stdout",
     "output_type": "stream",
     "text": [
      "2\n",
      "1-HOME-SWEET-HOME\n",
      "MY-MISERABLE-JOB\n",
      "1-4663-79338-4663\n",
      "69-647372253-562\n"
     ]
    }
   ],
   "source": [
    "lista=[]\n",
    "numero=int(input())\n",
    "for n in range(1,numero+1):\n",
    "    lista.append(str(input()))\n",
    "\n",
    "for k in lista:\n",
    "    N=''\n",
    "    for p in k:\n",
    "        if p in 'ABC':\n",
    "            p='2'\n",
    "            N+=p\n",
    "        elif p in 'DEF':\n",
    "            p='3'\n",
    "            N+=p\n",
    "        elif p in 'GHI':\n",
    "            p='4'\n",
    "            N+=p\n",
    "        elif p in 'JKL':\n",
    "            p='5'\n",
    "            N+=p\n",
    "        elif p in 'MNO':\n",
    "            p='6'\n",
    "            N+=p\n",
    "        elif p in 'PQRS':\n",
    "            p='7'\n",
    "            N+=p\n",
    "        elif p in 'TUV':\n",
    "            p='8'\n",
    "            N+=p\n",
    "        elif p in 'WXYZ':\n",
    "            p='9'\n",
    "            N+=p\n",
    "        else:\n",
    "            p=p\n",
    "            N+=p       \n",
    "    print(N)"
   ]
  },
  {
   "cell_type": "markdown",
   "metadata": {},
   "source": [
    "4- Dada um texto em formato string, encontre todas as palavras pertencentes a esta string que contenham uma determinada letra, passada como parâmetro. "
   ]
  },
  {
   "cell_type": "code",
   "execution_count": 8,
   "metadata": {},
   "outputs": [],
   "source": [
    "import string\n",
    "def acha_letra(texto,letra):\n",
    "    palavras = [p.lower().strip(string.punctuation) for p in texto.split()]\n",
    "    escolhidas = [p for p in palavras if letra in p]\n",
    "    print(palavras)\n",
    "    print(escolhidas)"
   ]
  },
  {
   "cell_type": "code",
   "execution_count": 9,
   "metadata": {},
   "outputs": [
    {
     "name": "stdout",
     "output_type": "stream",
     "text": [
      "['quero', 'ver', 'se', 'vocês', 'conseguem', 'encontrar', 'as', 'palavras', 'neste', 'texto', 'sem', 'erros']\n",
      "['quero', 'ver', 'encontrar', 'palavras', 'erros']\n"
     ]
    }
   ],
   "source": [
    "texto = \"Quero ver se vocÊs conseguem encontrar as palavras neste texto sem erros\"\n",
    "\n",
    "acha_letra(texto, 'r')"
   ]
  },
  {
   "cell_type": "code",
   "execution_count": null,
   "metadata": {},
   "outputs": [],
   "source": []
  }
 ],
 "metadata": {
  "kernelspec": {
   "display_name": "Python 3",
   "language": "python",
   "name": "python3"
  },
  "language_info": {
   "codemirror_mode": {
    "name": "ipython",
    "version": 3
   },
   "file_extension": ".py",
   "mimetype": "text/x-python",
   "name": "python",
   "nbconvert_exporter": "python",
   "pygments_lexer": "ipython3",
   "version": "3.5.2"
  }
 },
 "nbformat": 4,
 "nbformat_minor": 2
}
