{
 "cells": [
  {
   "cell_type": "code",
   "execution_count": 230,
   "metadata": {},
   "outputs": [],
   "source": [
    "import random\n",
    "import pandas as pd\n",
    "import math"
   ]
  },
  {
   "cell_type": "markdown",
   "metadata": {},
   "source": [
    "# Capítulo 1"
   ]
  },
  {
   "cell_type": "markdown",
   "metadata": {},
   "source": [
    "### Questão 8 "
   ]
  },
  {
   "cell_type": "code",
   "execution_count": 124,
   "metadata": {},
   "outputs": [
    {
     "data": {
      "text/plain": [
       "2"
      ]
     },
     "execution_count": 124,
     "metadata": {},
     "output_type": "execute_result"
    }
   ],
   "source": [
    "20 // 7"
   ]
  },
  {
   "cell_type": "code",
   "execution_count": 125,
   "metadata": {},
   "outputs": [
    {
     "data": {
      "text/plain": [
       "6"
      ]
     },
     "execution_count": 125,
     "metadata": {},
     "output_type": "execute_result"
    }
   ],
   "source": [
    "20%7"
   ]
  },
  {
   "cell_type": "markdown",
   "metadata": {},
   "source": [
    "### Questão 9"
   ]
  },
  {
   "cell_type": "code",
   "execution_count": 69,
   "metadata": {},
   "outputs": [],
   "source": [
    "def mdc(a,b):\n",
    "    if a==0 or b==0:\n",
    "        return \"Não da pra achar o mdc de com 0\"\n",
    "    else:\n",
    "        if a>b:\n",
    "            maior=a\n",
    "            menor=b\n",
    "        else: \n",
    "            maior=b\n",
    "            menor=a\n",
    "     \n",
    "    D=maior\n",
    "    d=menor\n",
    "    r= D%d\n",
    "    if r==0:\n",
    "        x=menor\n",
    "    while r>0:\n",
    "        D=d\n",
    "        d=r\n",
    "        r=D%d\n",
    "        x=d\n",
    "    return x\n",
    "\n",
    "def pares(n):\n",
    "    r=0\n",
    "    for i in range(n):\n",
    "        a=random.randint(1,10000)\n",
    "        b=random.randint(1,10000)\n",
    "        k=mdc(a,b)\n",
    "        if k==1:\n",
    "            r+=1\n",
    "    return r/n\n",
    "            "
   ]
  },
  {
   "cell_type": "code",
   "execution_count": 74,
   "metadata": {},
   "outputs": [
    {
     "data": {
      "text/plain": [
       "0.612"
      ]
     },
     "execution_count": 74,
     "metadata": {},
     "output_type": "execute_result"
    }
   ],
   "source": [
    "pares(1000)"
   ]
  },
  {
   "cell_type": "markdown",
   "metadata": {},
   "source": [
    "# Capítulo 2"
   ]
  },
  {
   "cell_type": "markdown",
   "metadata": {},
   "source": [
    "### Questão 11"
   ]
  },
  {
   "cell_type": "code",
   "execution_count": 106,
   "metadata": {},
   "outputs": [
    {
     "name": "stdout",
     "output_type": "stream",
     "text": [
      "[2, 4, 6, 12, 24, 36, 48, 60, 120, 180, 240, 360, 720, 840, 1260, 1680, 2520]\n"
     ]
    }
   ],
   "source": [
    "def ndivisores(n):\n",
    "    cont=0\n",
    "    for i in range(1,n+1):\n",
    "        if n%i==0:\n",
    "            cont+=1\n",
    "    return cont\n",
    "\n",
    "ndiv=[]\n",
    "lista=[]\n",
    "for i in range(1,5000):\n",
    "    ndiv.append(ndivisores(i))\n",
    "    if i>1:\n",
    "        if max(ndiv[0:i])>max(ndiv[0:i-1]):\n",
    "            lista.append(i)\n",
    "print(lista)\n",
    "ndiv()    "
   ]
  },
  {
   "cell_type": "code",
   "execution_count": 102,
   "metadata": {},
   "outputs": [],
   "source": [
    "lista=[1,2,3,4,5]"
   ]
  },
  {
   "cell_type": "code",
   "execution_count": 114,
   "metadata": {},
   "outputs": [
    {
     "data": {
      "text/plain": [
       "4999"
      ]
     },
     "execution_count": 114,
     "metadata": {},
     "output_type": "execute_result"
    }
   ],
   "source": [
    "len(ndiv)"
   ]
  },
  {
   "cell_type": "code",
   "execution_count": 115,
   "metadata": {},
   "outputs": [
    {
     "ename": "IndexError",
     "evalue": "list index out of range",
     "output_type": "error",
     "traceback": [
      "\u001b[0;31m---------------------------------------------------------------------------\u001b[0m",
      "\u001b[0;31mIndexError\u001b[0m                                Traceback (most recent call last)",
      "\u001b[0;32m<ipython-input-115-8d0ef1d7a918>\u001b[0m in \u001b[0;36m<module>\u001b[0;34m()\u001b[0m\n\u001b[0;32m----> 1\u001b[0;31m \u001b[0mndiv\u001b[0m\u001b[0;34m[\u001b[0m\u001b[0;36m4999\u001b[0m\u001b[0;34m]\u001b[0m\u001b[0;34m\u001b[0m\u001b[0m\n\u001b[0m",
      "\u001b[0;31mIndexError\u001b[0m: list index out of range"
     ]
    }
   ],
   "source": [
    "ndiv[4999]"
   ]
  },
  {
   "cell_type": "code",
   "execution_count": 116,
   "metadata": {},
   "outputs": [
    {
     "data": {
      "text/plain": [
       "2"
      ]
     },
     "execution_count": 116,
     "metadata": {},
     "output_type": "execute_result"
    }
   ],
   "source": [
    "ndivisores(4999)"
   ]
  },
  {
   "cell_type": "markdown",
   "metadata": {},
   "source": [
    "### Questão 12"
   ]
  },
  {
   "cell_type": "code",
   "execution_count": 179,
   "metadata": {},
   "outputs": [],
   "source": [
    "def Fermat(n):\n",
    "    if n<2**32:\n",
    "        if n%2==0:\n",
    "            return print(\"2 é fator\")\n",
    "        x=int(n**(1/2))\n",
    "        if n==x**2:\n",
    "            return print(x,'é fator')\n",
    "    \n",
    "        x+=1\n",
    "        y=(x**2-n)**(1/2)\n",
    "        while y!=int(y) and x!=(n+1)/2:\n",
    "            x+=1\n",
    "            y=(x**2-n)**(1/2)\n",
    "        \n",
    "        if x==(n+1)/2:\n",
    "            return print(int(n),'é primo')\n",
    "        else:\n",
    "            return print(int(x+y),'e',int(x-y),'são fatores')\n",
    "    else:\n",
    "        return print(\"O número colocado é maior que 2**32\")"
   ]
  },
  {
   "cell_type": "code",
   "execution_count": 180,
   "metadata": {},
   "outputs": [
    {
     "name": "stdout",
     "output_type": "stream",
     "text": [
      "O número colocado é maior que 2**32\n"
     ]
    }
   ],
   "source": [
    "Fermat(2**32+1)"
   ]
  },
  {
   "cell_type": "markdown",
   "metadata": {},
   "source": [
    "# Capítulo 3"
   ]
  },
  {
   "cell_type": "markdown",
   "metadata": {},
   "source": [
    "### Questão 10"
   ]
  },
  {
   "cell_type": "code",
   "execution_count": 216,
   "metadata": {},
   "outputs": [],
   "source": [
    "def crivo(n):\n",
    "    v=[]\n",
    "    for i in range(int((n-1)/2)):\n",
    "        v.append(1)\n",
    "    P=3\n",
    "    while P**2<=n:\n",
    "        if v[int((P-1)/2)-1]==0:\n",
    "            P+=2\n",
    "        else:\n",
    "            T=P**2\n",
    "            while T<=n:\n",
    "                v[int((T-1)/2)-1]=0\n",
    "                T+=2*P\n",
    "            P+=2\n",
    "    \n",
    "    primos=[]\n",
    "    for i in range(len(v)):\n",
    "        if v[i]==1:\n",
    "            primos.append(2*(i+1)+1)\n",
    "    return primos   "
   ]
  },
  {
   "cell_type": "code",
   "execution_count": 228,
   "metadata": {},
   "outputs": [],
   "source": [
    "def polinomio(a,b,c):\n",
    "    fdeene=[]\n",
    "    primooun=[]\n",
    "    m=abs(a*100**2+b*100+c)\n",
    "    n=abs(a*0**2+b*0+c)\n",
    "    if m>n:\n",
    "        maior=m\n",
    "        menor=n\n",
    "    else: \n",
    "        maior=n\n",
    "        menor=m\n",
    "\n",
    "    for n in range(101):\n",
    "        fdeene.append(a*n**2+b*n+c)\n",
    "    for i in range(101):\n",
    "        if (fdeene[i] in crivo(maior)) or (-fdeene[i] in crivo(maior)):\n",
    "            primooun.append('Primo')\n",
    "        else:\n",
    "            primooun.append('Não Primo')\n",
    "            \n",
    "    data={'f(n)':fdeene,'Classificação':primooun}\n",
    "    tabela=pd.DataFrame(data,columns=['f(n)','Classificação'])\n",
    "    return tabela"
   ]
  },
  {
   "cell_type": "markdown",
   "metadata": {},
   "source": [
    "### Questão 11"
   ]
  },
  {
   "cell_type": "code",
   "execution_count": 234,
   "metadata": {},
   "outputs": [
    {
     "data": {
      "text/plain": [
       "1.0"
      ]
     },
     "execution_count": 234,
     "metadata": {},
     "output_type": "execute_result"
    }
   ],
   "source": [
    "math.log(math.e)"
   ]
  },
  {
   "cell_type": "code",
   "execution_count": 251,
   "metadata": {},
   "outputs": [],
   "source": [
    "def S(x):\n",
    "    a0=229168.50747390\n",
    "    a1=-429449.7206839\n",
    "    a2=199330.41355048\n",
    "    a3=28226.22049280\n",
    "    a4=0\n",
    "    a5=0\n",
    "    a6=-34712.81875914\n",
    "    a7=0\n",
    "    a8=33820.10886195\n",
    "    a9=-25379.82656589\n",
    "    a10=8386.14942934\n",
    "    a11=-1360.44512548\n",
    "    a12=89.14545378\n",
    "    k=x/math.log(x)*(1+(a0*math.log(math.log(x))**0+\n",
    "                        a1*math.log(math.log(x))**1+\n",
    "                        a2*math.log(math.log(x))**2+\n",
    "                        a3*math.log(math.log(x))**3+\n",
    "                        a4*math.log(math.log(x))**4+\n",
    "                        a5*math.log(math.log(x))**5+\n",
    "                        a6*math.log(math.log(x))**6+\n",
    "                        a7*math.log(math.log(x))**7+\n",
    "                        a8*math.log(math.log(x))**8+\n",
    "                        a9*math.log(math.log(x))**9+\n",
    "                        a10*math.log(math.log(x))**10+\n",
    "                        a11*math.log(math.log(x))**11+\n",
    "                        a12*math.log(math.log(x))**12)**(-1/4))\n",
    "    return k\n",
    "    data={'n':numeros,'Pi(n)-S(n)':pih}\n",
    "    tabela=pd.DataFrame(data,columns=['n','Pi(n)-S(n)'])"
   ]
  },
  {
   "cell_type": "code",
   "execution_count": 249,
   "metadata": {},
   "outputs": [],
   "source": [
    "def Pi(x):\n",
    "    if x%2==0:\n",
    "        x=x-1\n",
    "    k=len(crivo(x))+1\n",
    "    return k"
   ]
  },
  {
   "cell_type": "code",
   "execution_count": 254,
   "metadata": {},
   "outputs": [
    {
     "data": {
      "text/html": [
       "<div>\n",
       "<style scoped>\n",
       "    .dataframe tbody tr th:only-of-type {\n",
       "        vertical-align: middle;\n",
       "    }\n",
       "\n",
       "    .dataframe tbody tr th {\n",
       "        vertical-align: top;\n",
       "    }\n",
       "\n",
       "    .dataframe thead th {\n",
       "        text-align: right;\n",
       "    }\n",
       "</style>\n",
       "<table border=\"1\" class=\"dataframe\">\n",
       "  <thead>\n",
       "    <tr style=\"text-align: right;\">\n",
       "      <th></th>\n",
       "      <th>n</th>\n",
       "      <th>Pi(n)-S(n)</th>\n",
       "    </tr>\n",
       "  </thead>\n",
       "  <tbody>\n",
       "    <tr>\n",
       "      <th>0</th>\n",
       "      <td>11</td>\n",
       "      <td>7.715298e-07</td>\n",
       "    </tr>\n",
       "    <tr>\n",
       "      <th>1</th>\n",
       "      <td>100</td>\n",
       "      <td>-1.390319e-03</td>\n",
       "    </tr>\n",
       "    <tr>\n",
       "      <th>2</th>\n",
       "      <td>1000</td>\n",
       "      <td>1.065077e-01</td>\n",
       "    </tr>\n",
       "    <tr>\n",
       "      <th>3</th>\n",
       "      <td>2000</td>\n",
       "      <td>-1.108184e+00</td>\n",
       "    </tr>\n",
       "    <tr>\n",
       "      <th>4</th>\n",
       "      <td>3000</td>\n",
       "      <td>-1.301255e+00</td>\n",
       "    </tr>\n",
       "    <tr>\n",
       "      <th>5</th>\n",
       "      <td>4000</td>\n",
       "      <td>-3.188114e+00</td>\n",
       "    </tr>\n",
       "    <tr>\n",
       "      <th>6</th>\n",
       "      <td>5000</td>\n",
       "      <td>-2.410696e+00</td>\n",
       "    </tr>\n",
       "    <tr>\n",
       "      <th>7</th>\n",
       "      <td>6000</td>\n",
       "      <td>-3.874818e+00</td>\n",
       "    </tr>\n",
       "    <tr>\n",
       "      <th>8</th>\n",
       "      <td>7000</td>\n",
       "      <td>-1.469938e-01</td>\n",
       "    </tr>\n",
       "    <tr>\n",
       "      <th>9</th>\n",
       "      <td>8000</td>\n",
       "      <td>-4.611767e+00</td>\n",
       "    </tr>\n",
       "    <tr>\n",
       "      <th>10</th>\n",
       "      <td>9000</td>\n",
       "      <td>-4.545672e+00</td>\n",
       "    </tr>\n",
       "    <tr>\n",
       "      <th>11</th>\n",
       "      <td>10000</td>\n",
       "      <td>-1.156281e+00</td>\n",
       "    </tr>\n",
       "  </tbody>\n",
       "</table>\n",
       "</div>"
      ],
      "text/plain": [
       "        n    Pi(n)-S(n)\n",
       "0      11  7.715298e-07\n",
       "1     100 -1.390319e-03\n",
       "2    1000  1.065077e-01\n",
       "3    2000 -1.108184e+00\n",
       "4    3000 -1.301255e+00\n",
       "5    4000 -3.188114e+00\n",
       "6    5000 -2.410696e+00\n",
       "7    6000 -3.874818e+00\n",
       "8    7000 -1.469938e-01\n",
       "9    8000 -4.611767e+00\n",
       "10   9000 -4.545672e+00\n",
       "11  10000 -1.156281e+00"
      ]
     },
     "execution_count": 254,
     "metadata": {},
     "output_type": "execute_result"
    }
   ],
   "source": [
    "numeros=[11,100,1000,2000,3000,4000,5000,6000,7000,8000,9000,10000]\n",
    "pih=[]\n",
    "for i in range(len(numeros)):\n",
    "    pih.append(Pi(numeros[i])-S(numeros[i]))\n",
    "    \n",
    "data={'n':numeros,'Pi(n)-S(n)':pih}\n",
    "tabel=pd.DataFrame(data,columns=['n','Pi(n)-S(n)'])\n",
    "tabel"
   ]
  },
  {
   "cell_type": "code",
   "execution_count": 244,
   "metadata": {},
   "outputs": [
    {
     "data": {
      "text/plain": [
       "4.999999228470246"
      ]
     },
     "execution_count": 244,
     "metadata": {},
     "output_type": "execute_result"
    }
   ],
   "source": [
    "S(11)"
   ]
  },
  {
   "cell_type": "code",
   "execution_count": 250,
   "metadata": {},
   "outputs": [
    {
     "data": {
      "text/plain": [
       "5"
      ]
     },
     "execution_count": 250,
     "metadata": {},
     "output_type": "execute_result"
    }
   ],
   "source": [
    "Pi(11)"
   ]
  },
  {
   "cell_type": "code",
   "execution_count": null,
   "metadata": {},
   "outputs": [],
   "source": [
    "data={'n':numeros,'Pi1(n)':razao[0],'Pi2(n)':razao[1],'Pi1(n)/Pi2(n)':razao[2]}\n",
    "tabelinha=pd.DataFrame(data,columns=['n','Pi(n)-S(n)'])\n",
    "tabelinha"
   ]
  },
  {
   "cell_type": "markdown",
   "metadata": {},
   "source": [
    "### Questão 12"
   ]
  },
  {
   "cell_type": "code",
   "execution_count": 257,
   "metadata": {},
   "outputs": [],
   "source": [
    "def razao(x):\n",
    "    if x%2==0:\n",
    "        x=x-1\n",
    "    pi1=[]\n",
    "    pi3=[]\n",
    "    for i in crivo(x):\n",
    "        if i%4==1:\n",
    "            pi1.append(i)\n",
    "        elif i%4==3:\n",
    "            pi3.append(i)\n",
    "    return (len(pi1),len(pi3),len(pi1)/len(pi3))\n",
    "    "
   ]
  },
  {
   "cell_type": "code",
   "execution_count": 270,
   "metadata": {},
   "outputs": [
    {
     "data": {
      "text/plain": [
       "(11, 13, 0.8461538461538461)"
      ]
     },
     "execution_count": 270,
     "metadata": {},
     "output_type": "execute_result"
    }
   ],
   "source": [
    "razao(100)"
   ]
  },
  {
   "cell_type": "code",
   "execution_count": 273,
   "metadata": {},
   "outputs": [
    {
     "data": {
      "text/html": [
       "<div>\n",
       "<style scoped>\n",
       "    .dataframe tbody tr th:only-of-type {\n",
       "        vertical-align: middle;\n",
       "    }\n",
       "\n",
       "    .dataframe tbody tr th {\n",
       "        vertical-align: top;\n",
       "    }\n",
       "\n",
       "    .dataframe thead th {\n",
       "        text-align: right;\n",
       "    }\n",
       "</style>\n",
       "<table border=\"1\" class=\"dataframe\">\n",
       "  <thead>\n",
       "    <tr style=\"text-align: right;\">\n",
       "      <th></th>\n",
       "      <th>n</th>\n",
       "      <th>Pi1(n)</th>\n",
       "      <th>Pi2(n)</th>\n",
       "      <th>Pi1(n)/Pi2(n)</th>\n",
       "    </tr>\n",
       "  </thead>\n",
       "  <tbody>\n",
       "    <tr>\n",
       "      <th>0</th>\n",
       "      <td>100</td>\n",
       "      <td>11</td>\n",
       "      <td>13</td>\n",
       "      <td>0.846154</td>\n",
       "    </tr>\n",
       "    <tr>\n",
       "      <th>1</th>\n",
       "      <td>200</td>\n",
       "      <td>21</td>\n",
       "      <td>24</td>\n",
       "      <td>0.875000</td>\n",
       "    </tr>\n",
       "    <tr>\n",
       "      <th>2</th>\n",
       "      <td>300</td>\n",
       "      <td>29</td>\n",
       "      <td>32</td>\n",
       "      <td>0.906250</td>\n",
       "    </tr>\n",
       "    <tr>\n",
       "      <th>3</th>\n",
       "      <td>400</td>\n",
       "      <td>37</td>\n",
       "      <td>40</td>\n",
       "      <td>0.925000</td>\n",
       "    </tr>\n",
       "    <tr>\n",
       "      <th>4</th>\n",
       "      <td>500</td>\n",
       "      <td>44</td>\n",
       "      <td>50</td>\n",
       "      <td>0.880000</td>\n",
       "    </tr>\n",
       "    <tr>\n",
       "      <th>5</th>\n",
       "      <td>600</td>\n",
       "      <td>51</td>\n",
       "      <td>57</td>\n",
       "      <td>0.894737</td>\n",
       "    </tr>\n",
       "    <tr>\n",
       "      <th>6</th>\n",
       "      <td>700</td>\n",
       "      <td>59</td>\n",
       "      <td>65</td>\n",
       "      <td>0.907692</td>\n",
       "    </tr>\n",
       "    <tr>\n",
       "      <th>7</th>\n",
       "      <td>800</td>\n",
       "      <td>67</td>\n",
       "      <td>71</td>\n",
       "      <td>0.943662</td>\n",
       "    </tr>\n",
       "    <tr>\n",
       "      <th>8</th>\n",
       "      <td>900</td>\n",
       "      <td>74</td>\n",
       "      <td>79</td>\n",
       "      <td>0.936709</td>\n",
       "    </tr>\n",
       "    <tr>\n",
       "      <th>9</th>\n",
       "      <td>1000</td>\n",
       "      <td>80</td>\n",
       "      <td>87</td>\n",
       "      <td>0.919540</td>\n",
       "    </tr>\n",
       "    <tr>\n",
       "      <th>10</th>\n",
       "      <td>1100</td>\n",
       "      <td>89</td>\n",
       "      <td>94</td>\n",
       "      <td>0.946809</td>\n",
       "    </tr>\n",
       "    <tr>\n",
       "      <th>11</th>\n",
       "      <td>1200</td>\n",
       "      <td>95</td>\n",
       "      <td>100</td>\n",
       "      <td>0.950000</td>\n",
       "    </tr>\n",
       "    <tr>\n",
       "      <th>12</th>\n",
       "      <td>1300</td>\n",
       "      <td>104</td>\n",
       "      <td>106</td>\n",
       "      <td>0.981132</td>\n",
       "    </tr>\n",
       "    <tr>\n",
       "      <th>13</th>\n",
       "      <td>1400</td>\n",
       "      <td>109</td>\n",
       "      <td>112</td>\n",
       "      <td>0.973214</td>\n",
       "    </tr>\n",
       "    <tr>\n",
       "      <th>14</th>\n",
       "      <td>1500</td>\n",
       "      <td>116</td>\n",
       "      <td>122</td>\n",
       "      <td>0.950820</td>\n",
       "    </tr>\n",
       "    <tr>\n",
       "      <th>15</th>\n",
       "      <td>1600</td>\n",
       "      <td>119</td>\n",
       "      <td>131</td>\n",
       "      <td>0.908397</td>\n",
       "    </tr>\n",
       "    <tr>\n",
       "      <th>16</th>\n",
       "      <td>1700</td>\n",
       "      <td>128</td>\n",
       "      <td>137</td>\n",
       "      <td>0.934307</td>\n",
       "    </tr>\n",
       "    <tr>\n",
       "      <th>17</th>\n",
       "      <td>1800</td>\n",
       "      <td>135</td>\n",
       "      <td>142</td>\n",
       "      <td>0.950704</td>\n",
       "    </tr>\n",
       "    <tr>\n",
       "      <th>18</th>\n",
       "      <td>1900</td>\n",
       "      <td>140</td>\n",
       "      <td>149</td>\n",
       "      <td>0.939597</td>\n",
       "    </tr>\n",
       "    <tr>\n",
       "      <th>19</th>\n",
       "      <td>2000</td>\n",
       "      <td>147</td>\n",
       "      <td>155</td>\n",
       "      <td>0.948387</td>\n",
       "    </tr>\n",
       "    <tr>\n",
       "      <th>20</th>\n",
       "      <td>2100</td>\n",
       "      <td>153</td>\n",
       "      <td>163</td>\n",
       "      <td>0.938650</td>\n",
       "    </tr>\n",
       "    <tr>\n",
       "      <th>21</th>\n",
       "      <td>2200</td>\n",
       "      <td>159</td>\n",
       "      <td>167</td>\n",
       "      <td>0.952096</td>\n",
       "    </tr>\n",
       "    <tr>\n",
       "      <th>22</th>\n",
       "      <td>2300</td>\n",
       "      <td>167</td>\n",
       "      <td>174</td>\n",
       "      <td>0.959770</td>\n",
       "    </tr>\n",
       "    <tr>\n",
       "      <th>23</th>\n",
       "      <td>2400</td>\n",
       "      <td>175</td>\n",
       "      <td>181</td>\n",
       "      <td>0.966851</td>\n",
       "    </tr>\n",
       "    <tr>\n",
       "      <th>24</th>\n",
       "      <td>2500</td>\n",
       "      <td>180</td>\n",
       "      <td>186</td>\n",
       "      <td>0.967742</td>\n",
       "    </tr>\n",
       "    <tr>\n",
       "      <th>25</th>\n",
       "      <td>2600</td>\n",
       "      <td>184</td>\n",
       "      <td>193</td>\n",
       "      <td>0.953368</td>\n",
       "    </tr>\n",
       "    <tr>\n",
       "      <th>26</th>\n",
       "      <td>2700</td>\n",
       "      <td>192</td>\n",
       "      <td>200</td>\n",
       "      <td>0.960000</td>\n",
       "    </tr>\n",
       "    <tr>\n",
       "      <th>27</th>\n",
       "      <td>2800</td>\n",
       "      <td>200</td>\n",
       "      <td>206</td>\n",
       "      <td>0.970874</td>\n",
       "    </tr>\n",
       "    <tr>\n",
       "      <th>28</th>\n",
       "      <td>2900</td>\n",
       "      <td>206</td>\n",
       "      <td>212</td>\n",
       "      <td>0.971698</td>\n",
       "    </tr>\n",
       "    <tr>\n",
       "      <th>29</th>\n",
       "      <td>3000</td>\n",
       "      <td>211</td>\n",
       "      <td>218</td>\n",
       "      <td>0.967890</td>\n",
       "    </tr>\n",
       "    <tr>\n",
       "      <th>...</th>\n",
       "      <td>...</td>\n",
       "      <td>...</td>\n",
       "      <td>...</td>\n",
       "      <td>...</td>\n",
       "    </tr>\n",
       "    <tr>\n",
       "      <th>70</th>\n",
       "      <td>7100</td>\n",
       "      <td>446</td>\n",
       "      <td>462</td>\n",
       "      <td>0.965368</td>\n",
       "    </tr>\n",
       "    <tr>\n",
       "      <th>71</th>\n",
       "      <td>7200</td>\n",
       "      <td>451</td>\n",
       "      <td>467</td>\n",
       "      <td>0.965739</td>\n",
       "    </tr>\n",
       "    <tr>\n",
       "      <th>72</th>\n",
       "      <td>7300</td>\n",
       "      <td>456</td>\n",
       "      <td>473</td>\n",
       "      <td>0.964059</td>\n",
       "    </tr>\n",
       "    <tr>\n",
       "      <th>73</th>\n",
       "      <td>7400</td>\n",
       "      <td>462</td>\n",
       "      <td>476</td>\n",
       "      <td>0.970588</td>\n",
       "    </tr>\n",
       "    <tr>\n",
       "      <th>74</th>\n",
       "      <td>7500</td>\n",
       "      <td>468</td>\n",
       "      <td>481</td>\n",
       "      <td>0.972973</td>\n",
       "    </tr>\n",
       "    <tr>\n",
       "      <th>75</th>\n",
       "      <td>7600</td>\n",
       "      <td>477</td>\n",
       "      <td>487</td>\n",
       "      <td>0.979466</td>\n",
       "    </tr>\n",
       "    <tr>\n",
       "      <th>76</th>\n",
       "      <td>7700</td>\n",
       "      <td>482</td>\n",
       "      <td>494</td>\n",
       "      <td>0.975709</td>\n",
       "    </tr>\n",
       "    <tr>\n",
       "      <th>77</th>\n",
       "      <td>7800</td>\n",
       "      <td>488</td>\n",
       "      <td>498</td>\n",
       "      <td>0.979920</td>\n",
       "    </tr>\n",
       "    <tr>\n",
       "      <th>78</th>\n",
       "      <td>7900</td>\n",
       "      <td>494</td>\n",
       "      <td>502</td>\n",
       "      <td>0.984064</td>\n",
       "    </tr>\n",
       "    <tr>\n",
       "      <th>79</th>\n",
       "      <td>8000</td>\n",
       "      <td>499</td>\n",
       "      <td>507</td>\n",
       "      <td>0.984221</td>\n",
       "    </tr>\n",
       "    <tr>\n",
       "      <th>80</th>\n",
       "      <td>8100</td>\n",
       "      <td>506</td>\n",
       "      <td>511</td>\n",
       "      <td>0.990215</td>\n",
       "    </tr>\n",
       "    <tr>\n",
       "      <th>81</th>\n",
       "      <td>8200</td>\n",
       "      <td>509</td>\n",
       "      <td>518</td>\n",
       "      <td>0.982625</td>\n",
       "    </tr>\n",
       "    <tr>\n",
       "      <th>82</th>\n",
       "      <td>8300</td>\n",
       "      <td>517</td>\n",
       "      <td>524</td>\n",
       "      <td>0.986641</td>\n",
       "    </tr>\n",
       "    <tr>\n",
       "      <th>83</th>\n",
       "      <td>8400</td>\n",
       "      <td>523</td>\n",
       "      <td>527</td>\n",
       "      <td>0.992410</td>\n",
       "    </tr>\n",
       "    <tr>\n",
       "      <th>84</th>\n",
       "      <td>8500</td>\n",
       "      <td>525</td>\n",
       "      <td>533</td>\n",
       "      <td>0.984991</td>\n",
       "    </tr>\n",
       "    <tr>\n",
       "      <th>85</th>\n",
       "      <td>8600</td>\n",
       "      <td>532</td>\n",
       "      <td>538</td>\n",
       "      <td>0.988848</td>\n",
       "    </tr>\n",
       "    <tr>\n",
       "      <th>86</th>\n",
       "      <td>8700</td>\n",
       "      <td>540</td>\n",
       "      <td>543</td>\n",
       "      <td>0.994475</td>\n",
       "    </tr>\n",
       "    <tr>\n",
       "      <th>87</th>\n",
       "      <td>8800</td>\n",
       "      <td>545</td>\n",
       "      <td>549</td>\n",
       "      <td>0.992714</td>\n",
       "    </tr>\n",
       "    <tr>\n",
       "      <th>88</th>\n",
       "      <td>8900</td>\n",
       "      <td>550</td>\n",
       "      <td>557</td>\n",
       "      <td>0.987433</td>\n",
       "    </tr>\n",
       "    <tr>\n",
       "      <th>89</th>\n",
       "      <td>9000</td>\n",
       "      <td>554</td>\n",
       "      <td>562</td>\n",
       "      <td>0.985765</td>\n",
       "    </tr>\n",
       "    <tr>\n",
       "      <th>90</th>\n",
       "      <td>9100</td>\n",
       "      <td>559</td>\n",
       "      <td>568</td>\n",
       "      <td>0.984155</td>\n",
       "    </tr>\n",
       "    <tr>\n",
       "      <th>91</th>\n",
       "      <td>9200</td>\n",
       "      <td>566</td>\n",
       "      <td>573</td>\n",
       "      <td>0.987784</td>\n",
       "    </tr>\n",
       "    <tr>\n",
       "      <th>92</th>\n",
       "      <td>9300</td>\n",
       "      <td>573</td>\n",
       "      <td>577</td>\n",
       "      <td>0.993068</td>\n",
       "    </tr>\n",
       "    <tr>\n",
       "      <th>93</th>\n",
       "      <td>9400</td>\n",
       "      <td>578</td>\n",
       "      <td>583</td>\n",
       "      <td>0.991424</td>\n",
       "    </tr>\n",
       "    <tr>\n",
       "      <th>94</th>\n",
       "      <td>9500</td>\n",
       "      <td>585</td>\n",
       "      <td>591</td>\n",
       "      <td>0.989848</td>\n",
       "    </tr>\n",
       "    <tr>\n",
       "      <th>95</th>\n",
       "      <td>9600</td>\n",
       "      <td>587</td>\n",
       "      <td>596</td>\n",
       "      <td>0.984899</td>\n",
       "    </tr>\n",
       "    <tr>\n",
       "      <th>96</th>\n",
       "      <td>9700</td>\n",
       "      <td>595</td>\n",
       "      <td>601</td>\n",
       "      <td>0.990017</td>\n",
       "    </tr>\n",
       "    <tr>\n",
       "      <th>97</th>\n",
       "      <td>9800</td>\n",
       "      <td>600</td>\n",
       "      <td>607</td>\n",
       "      <td>0.988468</td>\n",
       "    </tr>\n",
       "    <tr>\n",
       "      <th>98</th>\n",
       "      <td>9900</td>\n",
       "      <td>604</td>\n",
       "      <td>615</td>\n",
       "      <td>0.982114</td>\n",
       "    </tr>\n",
       "    <tr>\n",
       "      <th>99</th>\n",
       "      <td>10000</td>\n",
       "      <td>609</td>\n",
       "      <td>619</td>\n",
       "      <td>0.983845</td>\n",
       "    </tr>\n",
       "  </tbody>\n",
       "</table>\n",
       "<p>100 rows × 4 columns</p>\n",
       "</div>"
      ],
      "text/plain": [
       "        n  Pi1(n)  Pi2(n)  Pi1(n)/Pi2(n)\n",
       "0     100      11      13       0.846154\n",
       "1     200      21      24       0.875000\n",
       "2     300      29      32       0.906250\n",
       "3     400      37      40       0.925000\n",
       "4     500      44      50       0.880000\n",
       "5     600      51      57       0.894737\n",
       "6     700      59      65       0.907692\n",
       "7     800      67      71       0.943662\n",
       "8     900      74      79       0.936709\n",
       "9    1000      80      87       0.919540\n",
       "10   1100      89      94       0.946809\n",
       "11   1200      95     100       0.950000\n",
       "12   1300     104     106       0.981132\n",
       "13   1400     109     112       0.973214\n",
       "14   1500     116     122       0.950820\n",
       "15   1600     119     131       0.908397\n",
       "16   1700     128     137       0.934307\n",
       "17   1800     135     142       0.950704\n",
       "18   1900     140     149       0.939597\n",
       "19   2000     147     155       0.948387\n",
       "20   2100     153     163       0.938650\n",
       "21   2200     159     167       0.952096\n",
       "22   2300     167     174       0.959770\n",
       "23   2400     175     181       0.966851\n",
       "24   2500     180     186       0.967742\n",
       "25   2600     184     193       0.953368\n",
       "26   2700     192     200       0.960000\n",
       "27   2800     200     206       0.970874\n",
       "28   2900     206     212       0.971698\n",
       "29   3000     211     218       0.967890\n",
       "..    ...     ...     ...            ...\n",
       "70   7100     446     462       0.965368\n",
       "71   7200     451     467       0.965739\n",
       "72   7300     456     473       0.964059\n",
       "73   7400     462     476       0.970588\n",
       "74   7500     468     481       0.972973\n",
       "75   7600     477     487       0.979466\n",
       "76   7700     482     494       0.975709\n",
       "77   7800     488     498       0.979920\n",
       "78   7900     494     502       0.984064\n",
       "79   8000     499     507       0.984221\n",
       "80   8100     506     511       0.990215\n",
       "81   8200     509     518       0.982625\n",
       "82   8300     517     524       0.986641\n",
       "83   8400     523     527       0.992410\n",
       "84   8500     525     533       0.984991\n",
       "85   8600     532     538       0.988848\n",
       "86   8700     540     543       0.994475\n",
       "87   8800     545     549       0.992714\n",
       "88   8900     550     557       0.987433\n",
       "89   9000     554     562       0.985765\n",
       "90   9100     559     568       0.984155\n",
       "91   9200     566     573       0.987784\n",
       "92   9300     573     577       0.993068\n",
       "93   9400     578     583       0.991424\n",
       "94   9500     585     591       0.989848\n",
       "95   9600     587     596       0.984899\n",
       "96   9700     595     601       0.990017\n",
       "97   9800     600     607       0.988468\n",
       "98   9900     604     615       0.982114\n",
       "99  10000     609     619       0.983845\n",
       "\n",
       "[100 rows x 4 columns]"
      ]
     },
     "execution_count": 273,
     "metadata": {},
     "output_type": "execute_result"
    }
   ],
   "source": [
    "valores=list(range(100,10000+1,100))\n",
    "um=[]\n",
    "tres=[]\n",
    "razaum=[]\n",
    "for i in valores:\n",
    "    um.append(razao(i)[0])\n",
    "    tres.append(razao(i)[1])\n",
    "    razaum.append(razao(i)[2])\n",
    "    \n",
    "    \n",
    "\n",
    "data={'n':valores,'Pi1(n)':um,'Pi2(n)':tres,'Pi1(n)/Pi2(n)':razaum}\n",
    "tabelinha=pd.DataFrame(data,columns=['n','Pi1(n)','Pi2(n)','Pi1(n)/Pi2(n)'])\n",
    "tabelinha"
   ]
  },
  {
   "cell_type": "markdown",
   "metadata": {},
   "source": [
    "### Questão 13"
   ]
  },
  {
   "cell_type": "code",
   "execution_count": 279,
   "metadata": {},
   "outputs": [
    {
     "ename": "KeyboardInterrupt",
     "evalue": "",
     "output_type": "error",
     "traceback": [
      "\u001b[0;31m---------------------------------------------------------------------------\u001b[0m",
      "\u001b[0;31mKeyboardInterrupt\u001b[0m                         Traceback (most recent call last)",
      "\u001b[0;32m<ipython-input-279-7ca24b88aeea>\u001b[0m in \u001b[0;36m<module>\u001b[0;34m()\u001b[0m\n\u001b[1;32m      1\u001b[0m \u001b[0mx\u001b[0m\u001b[0;34m=\u001b[0m\u001b[0;36m10000\u001b[0m\u001b[0;34m\u001b[0m\u001b[0m\n\u001b[0;32m----> 2\u001b[0;31m \u001b[0;32mwhile\u001b[0m \u001b[0mrazao\u001b[0m\u001b[0;34m(\u001b[0m\u001b[0mx\u001b[0m\u001b[0;34m)\u001b[0m\u001b[0;34m[\u001b[0m\u001b[0;36m0\u001b[0m\u001b[0;34m]\u001b[0m\u001b[0;34m<=\u001b[0m\u001b[0mrazao\u001b[0m\u001b[0;34m(\u001b[0m\u001b[0mx\u001b[0m\u001b[0;34m)\u001b[0m\u001b[0;34m[\u001b[0m\u001b[0;36m1\u001b[0m\u001b[0;34m]\u001b[0m\u001b[0;34m:\u001b[0m\u001b[0;34m\u001b[0m\u001b[0m\n\u001b[0m\u001b[1;32m      3\u001b[0m     \u001b[0mx\u001b[0m\u001b[0;34m+=\u001b[0m\u001b[0;36m1\u001b[0m\u001b[0;34m\u001b[0m\u001b[0m\n\u001b[1;32m      4\u001b[0m \u001b[0mprint\u001b[0m\u001b[0;34m(\u001b[0m\u001b[0mx\u001b[0m\u001b[0;34m)\u001b[0m\u001b[0;34m\u001b[0m\u001b[0m\n",
      "\u001b[0;32m<ipython-input-257-8ef7f6b40a14>\u001b[0m in \u001b[0;36mrazao\u001b[0;34m(x)\u001b[0m\n\u001b[1;32m      4\u001b[0m     \u001b[0mpi1\u001b[0m\u001b[0;34m=\u001b[0m\u001b[0;34m[\u001b[0m\u001b[0;34m]\u001b[0m\u001b[0;34m\u001b[0m\u001b[0m\n\u001b[1;32m      5\u001b[0m     \u001b[0mpi3\u001b[0m\u001b[0;34m=\u001b[0m\u001b[0;34m[\u001b[0m\u001b[0;34m]\u001b[0m\u001b[0;34m\u001b[0m\u001b[0m\n\u001b[0;32m----> 6\u001b[0;31m     \u001b[0;32mfor\u001b[0m \u001b[0mi\u001b[0m \u001b[0;32min\u001b[0m \u001b[0mcrivo\u001b[0m\u001b[0;34m(\u001b[0m\u001b[0mx\u001b[0m\u001b[0;34m)\u001b[0m\u001b[0;34m:\u001b[0m\u001b[0;34m\u001b[0m\u001b[0m\n\u001b[0m\u001b[1;32m      7\u001b[0m         \u001b[0;32mif\u001b[0m \u001b[0mi\u001b[0m\u001b[0;34m%\u001b[0m\u001b[0;36m4\u001b[0m\u001b[0;34m==\u001b[0m\u001b[0;36m1\u001b[0m\u001b[0;34m:\u001b[0m\u001b[0;34m\u001b[0m\u001b[0m\n\u001b[1;32m      8\u001b[0m             \u001b[0mpi1\u001b[0m\u001b[0;34m.\u001b[0m\u001b[0mappend\u001b[0m\u001b[0;34m(\u001b[0m\u001b[0mi\u001b[0m\u001b[0;34m)\u001b[0m\u001b[0;34m\u001b[0m\u001b[0m\n",
      "\u001b[0;32m<ipython-input-216-032211ea5554>\u001b[0m in \u001b[0;36mcrivo\u001b[0;34m(n)\u001b[0m\n\u001b[1;32m     10\u001b[0m             \u001b[0mT\u001b[0m\u001b[0;34m=\u001b[0m\u001b[0mP\u001b[0m\u001b[0;34m**\u001b[0m\u001b[0;36m2\u001b[0m\u001b[0;34m\u001b[0m\u001b[0m\n\u001b[1;32m     11\u001b[0m             \u001b[0;32mwhile\u001b[0m \u001b[0mT\u001b[0m\u001b[0;34m<=\u001b[0m\u001b[0mn\u001b[0m\u001b[0;34m:\u001b[0m\u001b[0;34m\u001b[0m\u001b[0m\n\u001b[0;32m---> 12\u001b[0;31m                 \u001b[0mv\u001b[0m\u001b[0;34m[\u001b[0m\u001b[0mint\u001b[0m\u001b[0;34m(\u001b[0m\u001b[0;34m(\u001b[0m\u001b[0mT\u001b[0m\u001b[0;34m-\u001b[0m\u001b[0;36m1\u001b[0m\u001b[0;34m)\u001b[0m\u001b[0;34m/\u001b[0m\u001b[0;36m2\u001b[0m\u001b[0;34m)\u001b[0m\u001b[0;34m-\u001b[0m\u001b[0;36m1\u001b[0m\u001b[0;34m]\u001b[0m\u001b[0;34m=\u001b[0m\u001b[0;36m0\u001b[0m\u001b[0;34m\u001b[0m\u001b[0m\n\u001b[0m\u001b[1;32m     13\u001b[0m                 \u001b[0mT\u001b[0m\u001b[0;34m+=\u001b[0m\u001b[0;36m2\u001b[0m\u001b[0;34m*\u001b[0m\u001b[0mP\u001b[0m\u001b[0;34m\u001b[0m\u001b[0m\n\u001b[1;32m     14\u001b[0m             \u001b[0mP\u001b[0m\u001b[0;34m+=\u001b[0m\u001b[0;36m2\u001b[0m\u001b[0;34m\u001b[0m\u001b[0m\n",
      "\u001b[0;31mKeyboardInterrupt\u001b[0m: "
     ]
    }
   ],
   "source": [
    "x=10000\n",
    "while razao(x)[0]<=razao(x)[1]:\n",
    "    x+=1\n",
    "print(x)"
   ]
  },
  {
   "cell_type": "code",
   "execution_count": 283,
   "metadata": {},
   "outputs": [
    {
     "data": {
      "text/plain": [
       "(2880504, 2880950, 0.9998451899547024)"
      ]
     },
     "execution_count": 283,
     "metadata": {},
     "output_type": "execute_result"
    }
   ],
   "source": []
  },
  {
   "cell_type": "code",
   "execution_count": null,
   "metadata": {},
   "outputs": [],
   "source": []
  },
  {
   "cell_type": "markdown",
   "metadata": {},
   "source": [
    "# Capítulo 4"
   ]
  },
  {
   "cell_type": "markdown",
   "metadata": {},
   "source": [
    "### Questão 11"
   ]
  },
  {
   "cell_type": "code",
   "execution_count": 288,
   "metadata": {},
   "outputs": [],
   "source": [
    "def modulo(a,k,n):\n",
    "    A,P,K=a,1,k\n",
    "    while K!=0:\n",
    "        if K%2==1:\n",
    "            P=(A*P)%n\n",
    "            K=(K-1)/2\n",
    "        else:\n",
    "            K=K/2\n",
    "        A=A**2%n\n",
    "    return P"
   ]
  },
  {
   "cell_type": "code",
   "execution_count": 290,
   "metadata": {},
   "outputs": [
    {
     "data": {
      "text/plain": [
       "73"
      ]
     },
     "execution_count": 290,
     "metadata": {},
     "output_type": "execute_result"
    }
   ],
   "source": [
    "modulo(13,2009,100)"
   ]
  },
  {
   "cell_type": "markdown",
   "metadata": {},
   "source": [
    "# Capítulo 5"
   ]
  },
  {
   "cell_type": "markdown",
   "metadata": {},
   "source": [
    "### Questão 16"
   ]
  },
  {
   "cell_type": "code",
   "execution_count": 296,
   "metadata": {},
   "outputs": [],
   "source": [
    "def inverso(a,p):\n",
    "    if a%p!=0:\n",
    "        inv=a**(p-2)\n",
    "        k=modulo(inv,1,p)\n",
    "        return k\n",
    "    else:\n",
    "        return print('A divide p!')"
   ]
  },
  {
   "cell_type": "code",
   "execution_count": 298,
   "metadata": {},
   "outputs": [
    {
     "data": {
      "text/plain": [
       "25"
      ]
     },
     "execution_count": 298,
     "metadata": {},
     "output_type": "execute_result"
    }
   ],
   "source": [
    "inverso(17,53)"
   ]
  },
  {
   "cell_type": "code",
   "execution_count": 302,
   "metadata": {},
   "outputs": [],
   "source": [
    "def inverso_modulo(a,b,p):\n",
    "    i=inverso(a,p)\n",
    "    reduz=modulo(b*i,1,p)\n",
    "    return print('x é congruente à',reduz,'módulo',p)"
   ]
  },
  {
   "cell_type": "code",
   "execution_count": 303,
   "metadata": {},
   "outputs": [
    {
     "name": "stdout",
     "output_type": "stream",
     "text": [
      "x é congruente à 41 módulo 53\n"
     ]
    }
   ],
   "source": [
    "inverso_modulo(17,8,53)"
   ]
  },
  {
   "cell_type": "markdown",
   "metadata": {},
   "source": [
    "### Questão 17"
   ]
  },
  {
   "cell_type": "code",
   "execution_count": null,
   "metadata": {},
   "outputs": [],
   "source": []
  },
  {
   "cell_type": "code",
   "execution_count": null,
   "metadata": {},
   "outputs": [],
   "source": []
  },
  {
   "cell_type": "markdown",
   "metadata": {},
   "source": [
    "### Questão 18"
   ]
  },
  {
   "cell_type": "code",
   "execution_count": null,
   "metadata": {},
   "outputs": [],
   "source": []
  },
  {
   "cell_type": "code",
   "execution_count": null,
   "metadata": {},
   "outputs": [],
   "source": []
  }
 ],
 "metadata": {
  "kernelspec": {
   "display_name": "Python 3",
   "language": "python",
   "name": "python3"
  },
  "language_info": {
   "codemirror_mode": {
    "name": "ipython",
    "version": 3
   },
   "file_extension": ".py",
   "mimetype": "text/x-python",
   "name": "python",
   "nbconvert_exporter": "python",
   "pygments_lexer": "ipython3",
   "version": "3.5.2"
  }
 },
 "nbformat": 4,
 "nbformat_minor": 2
}
