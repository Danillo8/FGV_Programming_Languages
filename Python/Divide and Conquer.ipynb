{
 "cells": [
  {
   "cell_type": "markdown",
   "metadata": {},
   "source": [
    "Insertion Sort (Inserção)"
   ]
  },
  {
   "cell_type": "code",
   "execution_count": 4,
   "metadata": {},
   "outputs": [],
   "source": [
    "def insertion_sort(A):\n",
    "    for i in range(0,len(A)):\n",
    "        x=A[i]\n",
    "        j=i-1\n",
    "        while (j>=0 and A[j]>x):\n",
    "            A[j+1]=A[j]\n",
    "            j=j-1\n",
    "            A[j+1]=x\n",
    "    return A"
   ]
  },
  {
   "cell_type": "code",
   "execution_count": 5,
   "metadata": {},
   "outputs": [],
   "source": [
    "A=[121,23,6,7,345,23,98,1,3434,878,131]"
   ]
  },
  {
   "cell_type": "code",
   "execution_count": 6,
   "metadata": {},
   "outputs": [
    {
     "data": {
      "text/plain": [
       "[1, 6, 7, 23, 23, 98, 121, 131, 345, 878, 3434]"
      ]
     },
     "execution_count": 6,
     "metadata": {},
     "output_type": "execute_result"
    }
   ],
   "source": [
    "insertion_sort(A)"
   ]
  },
  {
   "cell_type": "markdown",
   "metadata": {},
   "source": [
    "Merge Sort(Itercalação)"
   ]
  },
  {
   "cell_type": "code",
   "execution_count": 7,
   "metadata": {},
   "outputs": [],
   "source": [
    "def merge(A,B):\n",
    "    resultado = []\n",
    "    while len(A)!=0 and len(B)!=0:\n",
    "        if A[0] < B[0]:\n",
    "            resultado.append(A[0])\n",
    "            A.pop(0)         \n",
    "        else:\n",
    "            resultado.append(B[0])\n",
    "            B.pop(0)\n",
    "    if len(A)==0:\n",
    "        resultado.extend(B)\n",
    "    elif len(B)==0:\n",
    "        resultado.extend(A)\n",
    "    return resultado\n",
    "\n",
    "\n",
    "def mergesort(A):\n",
    "    if len(A)<=1:\n",
    "        return A\n",
    "    e=[]\n",
    "    d=[]\n",
    "    for i in range(int(len(A)/2)):\n",
    "        e.append(A[i])\n",
    "    for i in range(int(len(A)/2),len(A)):\n",
    "        d.append(A[i])\n",
    "    return merge(mergesort(e),mergesort(d))\n"
   ]
  },
  {
   "cell_type": "code",
   "execution_count": 8,
   "metadata": {},
   "outputs": [
    {
     "data": {
      "text/plain": [
       "[1, 6, 7, 23, 23, 98, 121, 131, 345, 878, 3434]"
      ]
     },
     "execution_count": 8,
     "metadata": {},
     "output_type": "execute_result"
    }
   ],
   "source": [
    "mergesort(A)"
   ]
  },
  {
   "cell_type": "code",
   "execution_count": null,
   "metadata": {},
   "outputs": [],
   "source": []
  }
 ],
 "metadata": {
  "kernelspec": {
   "display_name": "Python 3",
   "language": "python",
   "name": "python3"
  },
  "language_info": {
   "codemirror_mode": {
    "name": "ipython",
    "version": 3
   },
   "file_extension": ".py",
   "mimetype": "text/x-python",
   "name": "python",
   "nbconvert_exporter": "python",
   "pygments_lexer": "ipython3",
   "version": "3.5.2"
  }
 },
 "nbformat": 4,
 "nbformat_minor": 2
}
