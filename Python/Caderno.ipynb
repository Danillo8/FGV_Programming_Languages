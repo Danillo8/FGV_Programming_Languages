{
 "cells": [
  {
   "cell_type": "code",
   "execution_count": 29,
   "metadata": {},
   "outputs": [
    {
     "name": "stdout",
     "output_type": "stream",
     "text": [
      "345\n",
      "A=373927.7497\n"
     ]
    }
   ],
   "source": [
    "pi=3.14159\n",
    "R=float(input())\n",
    "area=pi*R**2\n",
    "print('A=%.4f'%area)"
   ]
  },
  {
   "cell_type": "code",
   "execution_count": 8,
   "metadata": {},
   "outputs": [
    {
     "ename": "TypeError",
     "evalue": "not all arguments converted during string formatting",
     "output_type": "error",
     "traceback": [
      "\u001b[0;31m---------------------------------------------------------------------------\u001b[0m",
      "\u001b[0;31mTypeError\u001b[0m                                 Traceback (most recent call last)",
      "\u001b[0;32m<ipython-input-8-b1619b4d58c8>\u001b[0m in \u001b[0;36m<module>\u001b[0;34m()\u001b[0m\n\u001b[0;32m----> 1\u001b[0;31m \u001b[0mprint\u001b[0m\u001b[0;34m(\u001b[0m\u001b[0;34m\"123\"\u001b[0m\u001b[0;34m%\u001b[0m\u001b[0;36m456\u001b[0m\u001b[0;34m)\u001b[0m\u001b[0;34m\u001b[0m\u001b[0m\n\u001b[0m",
      "\u001b[0;31mTypeError\u001b[0m: not all arguments converted during string formatting"
     ]
    }
   ],
   "source": [
    "print(\"123\"%456)"
   ]
  },
  {
   "cell_type": "code",
   "execution_count": 26,
   "metadata": {},
   "outputs": [
    {
     "name": "stdout",
     "output_type": "stream",
     "text": [
      "3.0000000 4\n"
     ]
    }
   ],
   "source": [
    "print('%.7f'%3,4)\n"
   ]
  },
  {
   "cell_type": "code",
   "execution_count": 30,
   "metadata": {},
   "outputs": [
    {
     "name": "stdout",
     "output_type": "stream",
     "text": [
      "1\n",
      "2\n",
      "X = 3\n"
     ]
    }
   ],
   "source": [
    "a=int(input())\n",
    "b=int(input())\n",
    "print('X =',a+b)"
   ]
  },
  {
   "cell_type": "code",
   "execution_count": 31,
   "metadata": {},
   "outputs": [
    {
     "name": "stdout",
     "output_type": "stream",
     "text": [
      "2\n",
      "3\n",
      "MEDIA=2.68182\n"
     ]
    }
   ],
   "source": [
    "A=float(input())\n",
    "B=float(input())\n",
    "X=(A*3.5+B*7.5)/11\n",
    "print('MEDIA=%.5f'%X)"
   ]
  },
  {
   "cell_type": "code",
   "execution_count": null,
   "metadata": {},
   "outputs": [],
   "source": [
    "A=float(input())\n",
    "B=float(input())\n",
    "C=float(input())\n",
    "X=(2*A+3*B+5*C)/10\n",
    "print('MEDIA = %.1f'%X)"
   ]
  },
  {
   "cell_type": "code",
   "execution_count": null,
   "metadata": {},
   "outputs": [],
   "source": [
    "A=int(input())\n",
    "B=int(input())\n",
    "C=int(input())\n",
    "D=int(input())\n",
    "print('DIFERENCA =',A*B-C*D)"
   ]
  },
  {
   "cell_type": "code",
   "execution_count": 1,
   "metadata": {},
   "outputs": [
    {
     "name": "stdout",
     "output_type": "stream",
     "text": [
      "'jaao'\n",
      "34\n",
      "100\n",
      "TOTAL =49.00\n"
     ]
    }
   ],
   "source": [
    "A=str(input())\n",
    "B=float(input())\n",
    "C=float(input())\n",
    "print('TOTAL =%.2f'%(B+0.15*C))\n"
   ]
  },
  {
   "cell_type": "code",
   "execution_count": 3,
   "metadata": {},
   "outputs": [
    {
     "ename": "SyntaxError",
     "evalue": "can't assign to function call (<ipython-input-3-7dba8c28a8c4>, line 1)",
     "output_type": "error",
     "traceback": [
      "\u001b[0;36m  File \u001b[0;32m\"<ipython-input-3-7dba8c28a8c4>\"\u001b[0;36m, line \u001b[0;32m1\u001b[0m\n\u001b[0;31m    A=int(input()),B=int(input())\u001b[0m\n\u001b[0m     ^\u001b[0m\n\u001b[0;31mSyntaxError\u001b[0m\u001b[0;31m:\u001b[0m can't assign to function call\n"
     ]
    }
   ],
   "source": [
    "\n"
   ]
  },
  {
   "cell_type": "code",
   "execution_count": null,
   "metadata": {},
   "outputs": [],
   "source": [
    "A,B,C=input().split()\n",
    "D,E,F=input().split()\n",
    "A=int(A)\n",
    "B=int(B)\n",
    "C=float(C)\n",
    "D=int(D)\n",
    "E=int(E)\n",
    "F=float(F)\n",
    "print('VALOR A PAGAR: R$ %.2f'%(B*C+E*F))\n",
    "\n"
   ]
  },
  {
   "cell_type": "code",
   "execution_count": null,
   "metadata": {},
   "outputs": [],
   "source": [
    "pi=3.14159\n",
    "R=float(input())\n",
    "V=(4.0/3)*pi*R**3\n",
    "print('VOLUME = %.3f'%V)"
   ]
  },
  {
   "cell_type": "code",
   "execution_count": null,
   "metadata": {},
   "outputs": [],
   "source": [
    "A,B,C=input().split()\n",
    "A=float(A)\n",
    "B=float(B)\n",
    "C=float(C)\n",
    "tri=A*C/2\n",
    "pi = 3.14159\n",
    "circ=pi*C**2\n",
    "trap=(A+B)*C/2\n",
    "quad=B**2\n",
    "ret=A*B\n",
    "print('TRIANGULO: %.3f'%tri)\n",
    "print('CIRCULO: %.3f'%circ)\n",
    "print('TRAPEZIO: %.3f'%trap)\n",
    "print('QUADRADO: %.3f'%quad)\n",
    "print('RETANGULO: %.3f'%ret)\n"
   ]
  },
  {
   "cell_type": "code",
   "execution_count": 11,
   "metadata": {},
   "outputs": [
    {
     "name": "stdout",
     "output_type": "stream",
     "text": [
      "45 7 8\n",
      "45 eh o maior\n"
     ]
    }
   ],
   "source": [
    "A,B,C=input().split()\n",
    "A=int(A)\n",
    "B=int(B)\n",
    "C=int(C)\n",
    "D=(A+B+abs(A-B))/2\n",
    "E=(B+C+abs(B-C))/2\n",
    "F=int((D+E+abs(D-E))/2)\n",
    "print(F,'eh o maior')"
   ]
  },
  {
   "cell_type": "code",
   "execution_count": 10,
   "metadata": {},
   "outputs": [
    {
     "name": "stdout",
     "output_type": "stream",
     "text": [
      "10.0\n"
     ]
    }
   ],
   "source": [
    "X=(6+10+abs(6-10))/2\n",
    "print(X)"
   ]
  },
  {
   "cell_type": "code",
   "execution_count": 12,
   "metadata": {},
   "outputs": [
    {
     "ename": "NameError",
     "evalue": "name 'srqt' is not defined",
     "output_type": "error",
     "traceback": [
      "\u001b[0;31m---------------------------------------------------------------------------\u001b[0m",
      "\u001b[0;31mNameError\u001b[0m                                 Traceback (most recent call last)",
      "\u001b[0;32m<ipython-input-12-c97fbe8c5446>\u001b[0m in \u001b[0;36m<module>\u001b[0;34m()\u001b[0m\n\u001b[0;32m----> 1\u001b[0;31m \u001b[0msrqt\u001b[0m\u001b[0;34m(\u001b[0m\u001b[0;36m25\u001b[0m\u001b[0;34m)\u001b[0m\u001b[0;34m\u001b[0m\u001b[0m\n\u001b[0m",
      "\u001b[0;31mNameError\u001b[0m: name 'srqt' is not defined"
     ]
    }
   ],
   "source": [
    "(25)"
   ]
  },
  {
   "cell_type": "code",
   "execution_count": 13,
   "metadata": {},
   "outputs": [
    {
     "ename": "NameError",
     "evalue": "name 'math' is not defined",
     "output_type": "error",
     "traceback": [
      "\u001b[0;31m---------------------------------------------------------------------------\u001b[0m",
      "\u001b[0;31mNameError\u001b[0m                                 Traceback (most recent call last)",
      "\u001b[0;32m<ipython-input-13-b1a01eea6359>\u001b[0m in \u001b[0;36m<module>\u001b[0;34m()\u001b[0m\n\u001b[0;32m----> 1\u001b[0;31m \u001b[0mmath\u001b[0m\u001b[0;34m.\u001b[0m\u001b[0msqrt\u001b[0m\u001b[0;34m(\u001b[0m\u001b[0;36m2\u001b[0m\u001b[0;34m)\u001b[0m\u001b[0;34m\u001b[0m\u001b[0m\n\u001b[0m",
      "\u001b[0;31mNameError\u001b[0m: name 'math' is not defined"
     ]
    }
   ],
   "source": [
    "math.sqrt(2)"
   ]
  },
  {
   "cell_type": "code",
   "execution_count": 19,
   "metadata": {},
   "outputs": [
    {
     "data": {
      "text/plain": [
       "76"
      ]
     },
     "execution_count": 19,
     "metadata": {},
     "output_type": "execute_result"
    }
   ],
   "source": [
    "576%100\n"
   ]
  },
  {
   "cell_type": "code",
   "execution_count": 21,
   "metadata": {},
   "outputs": [
    {
     "name": "stdout",
     "output_type": "stream",
     "text": [
      "576\n",
      "576\n",
      "5 nota(s) de R$ 100,00\n",
      "1 nota(s) de R$ 50,00\n",
      "1 nota(s) de R$ 20,00\n",
      "0 nota(s) de R$ 10,00\n",
      "1 nota(s) de R$ 5,00\n",
      "0 nota(s) de R$ 2,00\n",
      "1 nota(s) de R$ 1,00\n"
     ]
    }
   ],
   "source": [
    "N=int(input())\n",
    "if 0<N<1000000:\n",
    "    a=N // 100\n",
    "    N1=N%100\n",
    "    b=N1 // 50\n",
    "    N2=N1%50\n",
    "    c=N2 // 20\n",
    "    N3=N2%20\n",
    "    d=N3 // 10\n",
    "    N4=N3%10\n",
    "    e=N4 // 5\n",
    "    N5=N4%5\n",
    "    f=N5 // 2\n",
    "    N6=N5%2\n",
    "    g=N6\n",
    "    \n",
    "print(N)    \n",
    "print(a,\"nota(s) de R$ 100,00\")\n",
    "print(b,\"nota(s) de R$ 50,00\") \n",
    "print(c,\"nota(s) de R$ 20,00\") \n",
    "print(d,\"nota(s) de R$ 10,00\") \n",
    "print(e,\"nota(s) de R$ 5,00\") \n",
    "print(f,\"nota(s) de R$ 2,00\") \n",
    "print(g,\"nota(s) de R$ 1,00\") "
   ]
  },
  {
   "cell_type": "code",
   "execution_count": 33,
   "metadata": {},
   "outputs": [
    {
     "ename": "SyntaxError",
     "evalue": "invalid syntax (<ipython-input-33-c1dfc7988985>, line 4)",
     "output_type": "error",
     "traceback": [
      "\u001b[0;36m  File \u001b[0;32m\"<ipython-input-33-c1dfc7988985>\"\u001b[0;36m, line \u001b[0;32m4\u001b[0m\n\u001b[0;31m    print(a;b;c)\u001b[0m\n\u001b[0m           ^\u001b[0m\n\u001b[0;31mSyntaxError\u001b[0m\u001b[0;31m:\u001b[0m invalid syntax\n"
     ]
    }
   ],
   "source": [
    "a=1 \n",
    "b=2\n",
    "c=3\n",
    "print(a;b;c)"
   ]
  },
  {
   "cell_type": "code",
   "execution_count": 36,
   "metadata": {},
   "outputs": [
    {
     "name": "stdout",
     "output_type": "stream",
     "text": [
      "456346\n",
      "126:45:46\n"
     ]
    }
   ],
   "source": [
    "N=int(input())\n",
    "h=N // 3600\n",
    "N1=N%3600\n",
    "m=N1 // 60\n",
    "N2=N1%60\n",
    "s=N2\n",
    "print(h,':',m,':',s,sep='')"
   ]
  },
  {
   "cell_type": "code",
   "execution_count": 37,
   "metadata": {},
   "outputs": [
    {
     "data": {
      "text/plain": [
       "45"
      ]
     },
     "execution_count": 37,
     "metadata": {},
     "output_type": "execute_result"
    }
   ],
   "source": [
    "int(45)"
   ]
  },
  {
   "cell_type": "code",
   "execution_count": 38,
   "metadata": {},
   "outputs": [
    {
     "data": {
      "text/plain": [
       "4"
      ]
     },
     "execution_count": 38,
     "metadata": {},
     "output_type": "execute_result"
    }
   ],
   "source": [
    "int(4.5)"
   ]
  },
  {
   "cell_type": "code",
   "execution_count": 52,
   "metadata": {},
   "outputs": [
    {
     "name": "stdout",
     "output_type": "stream",
     "text": [
      "2141.56\n",
      "NOTAS:\n",
      "21 nota(s) de R$ 100.00\n",
      "0 nota(s) de R$ 50.00\n",
      "2 nota(s) de R$ 20.00\n",
      "0 nota(s) de R$ 10.00\n",
      "0 nota(s) de R$ 5.00\n",
      "0 nota(s) de R$ 2.00\n",
      "MOEDAS:\n",
      "1 moeda(s) de R$ 1.00\n",
      "1 moeda(s) de R$ 0.50\n",
      "0 moeda(s) de R$ 0.25\n",
      "0 moeda(s) de R$ 0.10\n",
      "1 moeda(s) de R$ 0.05\n",
      "0 moeda(s) de R$ 0.01\n"
     ]
    }
   ],
   "source": [
    "Np=float(input())\n",
    "if 0<Np<1000000.00:\n",
    "    N=int(Np)\n",
    "    a=N // 100\n",
    "    N1=N%100\n",
    "    b=N1 // 50\n",
    "    N2=N1%50\n",
    "    c=N2 // 20\n",
    "    N3=N2%20\n",
    "    d=N3 // 10\n",
    "    N4=N3%10\n",
    "    e=N4 // 5\n",
    "    N5=N4%5\n",
    "    f=N5 // 2\n",
    "    N6=N5%2\n",
    "    g=N6\n",
    "    M=int((Np-int(Np))*100)\n",
    "    h=M // 50\n",
    "    M1=M%50\n",
    "    i=M1 // 25\n",
    "    M2=M1%25\n",
    "    j=M2 // 10\n",
    "    M3=M2%10\n",
    "    k=M3 // 5\n",
    "    M4=M3%5\n",
    "    l=M4\n",
    "print('NOTAS:')   \n",
    "print(a,\"nota(s) de R$ 100.00\")\n",
    "print(b,\"nota(s) de R$ 50.00\") \n",
    "print(c,\"nota(s) de R$ 20.00\") \n",
    "print(d,\"nota(s) de R$ 10.00\") \n",
    "print(e,\"nota(s) de R$ 5.00\") \n",
    "print(f,\"nota(s) de R$ 2.00\")\n",
    "print('MOEDAS:')\n",
    "print(g,\"moeda(s) de R$ 1.00\") \n",
    "print(h,\"moeda(s) de R$ 0.50\")\n",
    "print(i,\"moeda(s) de R$ 0.25\") \n",
    "print(j,\"moeda(s) de R$ 0.10\") \n",
    "print(k,\"moeda(s) de R$ 0.05\") \n",
    "print(l,\"moeda(s) de R$ 0.01\") \n",
    "\n",
    "\n",
    "\n"
   ]
  },
  {
   "cell_type": "code",
   "execution_count": 51,
   "metadata": {},
   "outputs": [
    {
     "name": "stdout",
     "output_type": "stream",
     "text": [
      "66\n"
     ]
    }
   ],
   "source": [
    "x=1243.66\n",
    "k=x-int(x)\n",
    "print(int(k*100))"
   ]
  },
  {
   "cell_type": "code",
   "execution_count": 43,
   "metadata": {},
   "outputs": [
    {
     "data": {
      "text/plain": [
       "1243"
      ]
     },
     "execution_count": 43,
     "metadata": {},
     "output_type": "execute_result"
    }
   ],
   "source": [
    "int(N)"
   ]
  },
  {
   "cell_type": "code",
   "execution_count": 53,
   "metadata": {},
   "outputs": [
    {
     "data": {
      "text/plain": [
       "1"
      ]
     },
     "execution_count": 53,
     "metadata": {},
     "output_type": "execute_result"
    }
   ],
   "source": [
    "33%2"
   ]
  },
  {
   "cell_type": "code",
   "execution_count": 56,
   "metadata": {},
   "outputs": [
    {
     "name": "stdout",
     "output_type": "stream",
     "text": [
      "2 3 2 6\n",
      "Valores aceitos\n"
     ]
    }
   ],
   "source": [
    "A,B,C,D=input().split()\n",
    "A=int(A)\n",
    "B=int(B)\n",
    "C=int(C)\n",
    "D=int(D)\n",
    "if B>C and D>A and C+D>A+B and C>0 and D>0 and A%2==0:\n",
    "    print('Valores aceitos')\n",
    "else:\n",
    "    print('Valores nao aceitos')\n",
    "    "
   ]
  },
  {
   "cell_type": "code",
   "execution_count": null,
   "metadata": {},
   "outputs": [],
   "source": [
    "A,B,C=input().split()\n",
    "A=float(A)\n",
    "B=float(B)\n",
    "C=float(C)\n",
    "delta=B**2-4*A*C\n",
    "if delta<0:\n",
    "    print('Impossivel calcular')\n",
    "elif A==0:\n",
    "    print('Impossivel calcular')\n",
    "else:\n",
    "    R1=(-B+delta**(1/2))/(2*A)\n",
    "    R2=(-B-delta**(1/2))/(2*A)\n",
    "    print('R1 = %.5f'%R1)\n",
    "    print('R2 = %.5f'%R2)\n",
    "    "
   ]
  },
  {
   "cell_type": "code",
   "execution_count": 57,
   "metadata": {},
   "outputs": [
    {
     "name": "stdout",
     "output_type": "stream",
     "text": [
      "12\n",
      "Intervalo (25,50]\n"
     ]
    }
   ],
   "source": [
    "N=float(input())\n",
    "if 0<=N<=25:\n",
    "    print('Intervalo [0,25]')\n",
    "elif 25<N<=50:\n",
    "    print('Intervalo (25,50]')\n",
    "elif 50<N<=75:\n",
    "    print('Intervalo (50,75]')\n",
    "elif 75<N<=100:\n",
    "    print('Intervalo (75,100]')\n",
    "else:\n",
    "    print('Fora de intervalo')\n"
   ]
  },
  {
   "cell_type": "code",
   "execution_count": 60,
   "metadata": {},
   "outputs": [
    {
     "name": "stdout",
     "output_type": "stream",
     "text": [
      "9 3\n"
     ]
    }
   ],
   "source": [
    "C,Q=input().split()\n",
    "C=int(C)\n",
    "Q=int(Q)\n",
    "if 0<C<6:\n",
    "    if C==1:\n",
    "        print('Total: R$ %.2f'%(4*Q))\n",
    "    elif C==2:\n",
    "        print('Total: R$ %.2f'%(4.5*Q))\n",
    "    elif C==3:\n",
    "        print('Total: R$ %.2f'%(5*Q))\n",
    "    elif C==4:\n",
    "        print('Total: R$ %.2f'%(2*Q))\n",
    "    else:\n",
    "        print('Total: R$ %.2f'%(1.5*Q))"
   ]
  },
  {
   "cell_type": "code",
   "execution_count": 61,
   "metadata": {},
   "outputs": [
    {
     "name": "stdout",
     "output_type": "stream",
     "text": [
      "3 4 7 8\n",
      "Media: 5.4\n",
      "Aluno em exame.\n",
      "5\n",
      "Nota do exame: 5.0\n",
      "Aluno aprovado.\n",
      "Media final: 5.2\n"
     ]
    }
   ],
   "source": [
    "N1,N2,N3,N4=input().split()\n",
    "N1=float(N1)\n",
    "N2=float(N2)\n",
    "N3=float(N3)\n",
    "N4=float(N4)\n",
    "media=(2*N1+3*N2+4*N3+N4)/10\n",
    "if (media >= 7):\n",
    "    print(\"Media: %0.1f\" %media)\n",
    "    print(\"Aluno aprovado.\")\n",
    "  \n",
    "elif (media >= 5):\n",
    "    print(\"Media: %0.1f\" %media)\n",
    "    print(\"Aluno em exame.\")\n",
    "    \n",
    "    exame = input()\n",
    "    exame = float(exame)\n",
    "    \n",
    "    media2 = (media + exame) / 2\n",
    "    \n",
    "    if (media2 >= 5):\n",
    "      print(\"Nota do exame: %0.1f\" %exame)\n",
    "      print(\"Aluno aprovado.\")\n",
    "      print(\"Media final: %0.1f\" %media2)\n",
    "    \n",
    "    else:\n",
    "      print(\"Nota do exame: %0.1f\" %exame)\n",
    "      print(\"Aluno reprovado.\")\n",
    "      print(\"Media final: %0.1f\" %media2)\n",
    "\n",
    "else:\n",
    "  print(\"Media: %0.1f\" %media)\n",
    "  print(\"Aluno reprovado.\")\n"
   ]
  },
  {
   "cell_type": "code",
   "execution_count": 69,
   "metadata": {},
   "outputs": [
    {
     "name": "stdout",
     "output_type": "stream",
     "text": [
      "-3 -4\n",
      "Q3\n"
     ]
    }
   ],
   "source": [
    "x,y=input().split()\n",
    "x=float(x)\n",
    "y=float(y)\n",
    "if x==0 and y==0:\n",
    "    print('Origem')\n",
    "elif x==0:\n",
    "    print('Eixo Y')\n",
    "elif y==0:\n",
    "    print('Eixo X')\n",
    "elif x>0 and y>0:\n",
    "    print('Q1')\n",
    "elif x>0 and y<0:\n",
    "    print('Q4')\n",
    "elif x<0 and y>0:\n",
    "    print('Q2')\n",
    "elif x<0 and y<0:\n",
    "    print('Q3')\n",
    "    \n",
    "    \n",
    "    \n"
   ]
  },
  {
   "cell_type": "code",
   "execution_count": null,
   "metadata": {},
   "outputs": [],
   "source": [
    "n1, n2, n3 = input().split()\n",
    "\n",
    "n1 = int(n1)\n",
    "n2 = int(n2)\n",
    "n3 = int(n3)\n",
    "\n",
    "if (n1 < n2 and n1 < n3):\n",
    "    o1 = n1\n",
    "    if (n2 < n3):\n",
    "        o2 = n2\n",
    "        o3 = n3\n",
    "    else:\n",
    "        o2 = n3\n",
    "        o3 = n2\n",
    "elif (n2 < n1 and n2 < n3):\n",
    "    o1 = n2\n",
    "    if (n1 < n3):\n",
    "        o2 = n1\n",
    "        o3 = n3\n",
    "    else:\n",
    "        o2 = n3\n",
    "        o3 = n1\n",
    "elif (n3 < n1 and n3 < n2):\n",
    "    o1 = n3\n",
    "    if (n1 < n2):\n",
    "        o2 = n1\n",
    "        o3 = n2\n",
    "    else:\n",
    "        o2 = n2\n",
    "        o3 = n1\n",
    "\n",
    "print(o1)\n",
    "print(o2)\n",
    "print(o3)\n",
    "print()\n",
    "print(n1)\n",
    "print(n2)\n",
    "print(n3)"
   ]
  },
  {
   "cell_type": "code",
   "execution_count": 77,
   "metadata": {},
   "outputs": [
    {
     "name": "stdout",
     "output_type": "stream",
     "text": [
      "1 2 777\n",
      "Area = 1165.5\n"
     ]
    }
   ],
   "source": [
    "A,B,C=input().split()\n",
    "A=float(A)\n",
    "B=float(B)\n",
    "C=float(C)\n",
    "p=A+B+C\n",
    "area=(A+B)*C/2\n",
    "if abs(B-C)<A<B+C and abs(A-C)<B<A+C and abs(A-B)<C<A+B:\n",
    "    print('Perimetro = %.1f'%p)\n",
    "else:\n",
    "    print('Area = %.1f'%area)"
   ]
  },
  {
   "cell_type": "code",
   "execution_count": 79,
   "metadata": {},
   "outputs": [
    {
     "name": "stdout",
     "output_type": "stream",
     "text": [
      "24 4\n",
      "Sao Multiplos\n"
     ]
    }
   ],
   "source": [
    "A,B=input().split()\n",
    "A=int(A)\n",
    "B=int(B)\n",
    "if A>B:\n",
    "    maior=A\n",
    "    menor=B\n",
    "else:\n",
    "    maior=B\n",
    "    menor=A\n",
    "if maior%menor==0:\n",
    "    print('Sao Multiplos')\n",
    "else:\n",
    "    print('Nao sao Multiplos')\n"
   ]
  },
  {
   "cell_type": "code",
   "execution_count": 89,
   "metadata": {},
   "outputs": [
    {
     "name": "stdout",
     "output_type": "stream",
     "text": [
      "22 3\n",
      "O JOGO DUROU 5 HORA(S)\n"
     ]
    }
   ],
   "source": [
    "A,B=input().split()\n",
    "A=int(A)\n",
    "B=int(B)\n",
    "if A==B:\n",
    "    t=24\n",
    "    print('O JOGO DUROU',t,'HORA(S)')\n",
    "else:\n",
    "    if B>A:\n",
    "        t=B-A\n",
    "        print('O JOGO DUROU',t,'HORA(S)')\n",
    "    else:\n",
    "        t=24+B-A\n",
    "        print('O JOGO DUROU',t,'HORA(S)')\n",
    "        \n",
    "    "
   ]
  },
  {
   "cell_type": "code",
   "execution_count": 97,
   "metadata": {},
   "outputs": [
    {
     "name": "stdout",
     "output_type": "stream",
     "text": [
      "2 34 6 11\n",
      "O JOGO DUROU 4 HORA(S) E 37 MINUTO(S)\n"
     ]
    }
   ],
   "source": [
    "A,B,C,D=input().split()\n",
    "A=int(A)\n",
    "B=int(B)\n",
    "C=int(C)\n",
    "D=int(D)\n",
    "\n",
    "if A==C:\n",
    "    if B==D:\n",
    "        h=24\n",
    "        m=0\n",
    "    elif B>D:\n",
    "        h=0\n",
    "        m=60+D-B\n",
    "    elif B<D:\n",
    "        h=0 \n",
    "        m=D-B\n",
    "elif A>C:\n",
    "    h=24+C-A\n",
    "    if B==D:\n",
    "        m=0\n",
    "    elif B>D:\n",
    "        m=60+D-B\n",
    "    elif B<D:\n",
    "        m=D-B\n",
    "elif A<C:\n",
    "    h=C-A\n",
    "    if B==D:\n",
    "        m=0\n",
    "    elif B>D:\n",
    "        m=60+D-B\n",
    "    elif B<D:\n",
    "        m=D-B\n",
    "            \n",
    "print('O JOGO DUROU',h,'HORA(S) E',m,'MINUTO(S)')\n",
    "        "
   ]
  },
  {
   "cell_type": "code",
   "execution_count": 96,
   "metadata": {},
   "outputs": [
    {
     "ename": "SyntaxError",
     "evalue": "invalid syntax (<ipython-input-96-802363e79619>, line 1)",
     "output_type": "error",
     "traceback": [
      "\u001b[0;36m  File \u001b[0;32m\"<ipython-input-96-802363e79619>\"\u001b[0;36m, line \u001b[0;32m1\u001b[0m\n\u001b[0;31m    2 34 6 11\u001b[0m\n\u001b[0m       ^\u001b[0m\n\u001b[0;31mSyntaxError\u001b[0m\u001b[0;31m:\u001b[0m invalid syntax\n"
     ]
    }
   ],
   "source": [
    "2 34 6 11\n"
   ]
  },
  {
   "cell_type": "code",
   "execution_count": null,
   "metadata": {},
   "outputs": [],
   "source": []
  }
 ],
 "metadata": {
  "kernelspec": {
   "display_name": "Python 3",
   "language": "python",
   "name": "python3"
  },
  "language_info": {
   "codemirror_mode": {
    "name": "ipython",
    "version": 3
   },
   "file_extension": ".py",
   "mimetype": "text/x-python",
   "name": "python",
   "nbconvert_exporter": "python",
   "pygments_lexer": "ipython3",
   "version": "3.5.2"
  }
 },
 "nbformat": 4,
 "nbformat_minor": 2
}
