{
 "cells": [
  {
   "cell_type": "code",
   "execution_count": 29,
   "metadata": {},
   "outputs": [
    {
     "name": "stdout",
     "output_type": "stream",
     "text": [
      "345\n",
      "A=373927.7497\n"
     ]
    }
   ],
   "source": [
    "pi=3.14159\n",
    "R=float(input())\n",
    "area=pi*R**2\n",
    "print('A=%.4f'%area)"
   ]
  },
  {
   "cell_type": "code",
   "execution_count": 8,
   "metadata": {},
   "outputs": [
    {
     "ename": "TypeError",
     "evalue": "not all arguments converted during string formatting",
     "output_type": "error",
     "traceback": [
      "\u001b[0;31m---------------------------------------------------------------------------\u001b[0m",
      "\u001b[0;31mTypeError\u001b[0m                                 Traceback (most recent call last)",
      "\u001b[0;32m<ipython-input-8-b1619b4d58c8>\u001b[0m in \u001b[0;36m<module>\u001b[0;34m()\u001b[0m\n\u001b[0;32m----> 1\u001b[0;31m \u001b[0mprint\u001b[0m\u001b[0;34m(\u001b[0m\u001b[0;34m\"123\"\u001b[0m\u001b[0;34m%\u001b[0m\u001b[0;36m456\u001b[0m\u001b[0;34m)\u001b[0m\u001b[0;34m\u001b[0m\u001b[0m\n\u001b[0m",
      "\u001b[0;31mTypeError\u001b[0m: not all arguments converted during string formatting"
     ]
    }
   ],
   "source": [
    "print(\"123\"%456)"
   ]
  },
  {
   "cell_type": "code",
   "execution_count": 26,
   "metadata": {},
   "outputs": [
    {
     "name": "stdout",
     "output_type": "stream",
     "text": [
      "3.0000000 4\n"
     ]
    }
   ],
   "source": [
    "print('%.7f'%3,4)\n"
   ]
  },
  {
   "cell_type": "code",
   "execution_count": 30,
   "metadata": {},
   "outputs": [
    {
     "name": "stdout",
     "output_type": "stream",
     "text": [
      "1\n",
      "2\n",
      "X = 3\n"
     ]
    }
   ],
   "source": [
    "a=int(input())\n",
    "b=int(input())\n",
    "print('X =',a+b)"
   ]
  },
  {
   "cell_type": "code",
   "execution_count": 31,
   "metadata": {},
   "outputs": [
    {
     "name": "stdout",
     "output_type": "stream",
     "text": [
      "2\n",
      "3\n",
      "MEDIA=2.68182\n"
     ]
    }
   ],
   "source": [
    "A=float(input())\n",
    "B=float(input())\n",
    "X=(A*3.5+B*7.5)/11\n",
    "print('MEDIA=%.5f'%X)"
   ]
  },
  {
   "cell_type": "code",
   "execution_count": null,
   "metadata": {},
   "outputs": [],
   "source": [
    "A=float(input())\n",
    "B=float(input())\n",
    "C=float(input())\n",
    "X=(2*A+3*B+5*C)/10\n",
    "print('MEDIA = %.1f'%X)"
   ]
  },
  {
   "cell_type": "code",
   "execution_count": null,
   "metadata": {},
   "outputs": [],
   "source": [
    "A=int(input())\n",
    "B=int(input())\n",
    "C=int(input())\n",
    "D=int(input())\n",
    "print('DIFERENCA =',A*B-C*D)"
   ]
  },
  {
   "cell_type": "code",
   "execution_count": 1,
   "metadata": {},
   "outputs": [
    {
     "name": "stdout",
     "output_type": "stream",
     "text": [
      "'jaao'\n",
      "34\n",
      "100\n",
      "TOTAL =49.00\n"
     ]
    }
   ],
   "source": [
    "A=str(input())\n",
    "B=float(input())\n",
    "C=float(input())\n",
    "print('TOTAL =%.2f'%(B+0.15*C))\n"
   ]
  },
  {
   "cell_type": "code",
   "execution_count": 3,
   "metadata": {},
   "outputs": [
    {
     "ename": "SyntaxError",
     "evalue": "can't assign to function call (<ipython-input-3-7dba8c28a8c4>, line 1)",
     "output_type": "error",
     "traceback": [
      "\u001b[0;36m  File \u001b[0;32m\"<ipython-input-3-7dba8c28a8c4>\"\u001b[0;36m, line \u001b[0;32m1\u001b[0m\n\u001b[0;31m    A=int(input()),B=int(input())\u001b[0m\n\u001b[0m     ^\u001b[0m\n\u001b[0;31mSyntaxError\u001b[0m\u001b[0;31m:\u001b[0m can't assign to function call\n"
     ]
    }
   ],
   "source": [
    "\n"
   ]
  },
  {
   "cell_type": "code",
   "execution_count": null,
   "metadata": {},
   "outputs": [],
   "source": [
    "A,B,C=input().split()\n",
    "D,E,F=input().split()\n",
    "A=int(A)\n",
    "B=int(B)\n",
    "C=float(C)\n",
    "D=int(D)\n",
    "E=int(E)\n",
    "F=float(F)\n",
    "print('VALOR A PAGAR: R$ %.2f'%(B*C+E*F))\n",
    "\n"
   ]
  },
  {
   "cell_type": "code",
   "execution_count": 1,
   "metadata": {},
   "outputs": [
    {
     "name": "stdout",
     "output_type": "stream",
     "text": [
      "34\n",
      "VOLUME = 164636.071\n"
     ]
    }
   ],
   "source": [
    "pi=3.14159\n",
    "R=float(input())\n",
    "V=(4.0/3)*pi*R**3\n",
    "print('VOLUME = %.3f'%V)"
   ]
  },
  {
   "cell_type": "code",
   "execution_count": null,
   "metadata": {},
   "outputs": [],
   "source": [
    "A,B,C=input().split()\n",
    "A=float(A)\n",
    "B=float(B)\n",
    "C=float(C)\n",
    "tri=A*C/2\n",
    "pi = 3.14159\n",
    "circ=pi*C**2\n",
    "trap=(A+B)*C/2\n",
    "quad=B**2\n",
    "ret=A*B\n",
    "print('TRIANGULO: %.3f'%tri)\n",
    "print('CIRCULO: %.3f'%circ)\n",
    "print('TRAPEZIO: %.3f'%trap)\n",
    "print('QUADRADO: %.3f'%quad)\n",
    "print('RETANGULO: %.3f'%ret)\n"
   ]
  },
  {
   "cell_type": "code",
   "execution_count": 11,
   "metadata": {},
   "outputs": [
    {
     "name": "stdout",
     "output_type": "stream",
     "text": [
      "45 7 8\n",
      "45 eh o maior\n"
     ]
    }
   ],
   "source": [
    "A,B,C=input().split()\n",
    "A=int(A)\n",
    "B=int(B)\n",
    "C=int(C)\n",
    "D=(A+B+abs(A-B))/2\n",
    "E=(B+C+abs(B-C))/2\n",
    "F=int((D+E+abs(D-E))/2)\n",
    "print(F,'eh o maior')"
   ]
  },
  {
   "cell_type": "code",
   "execution_count": 10,
   "metadata": {},
   "outputs": [
    {
     "name": "stdout",
     "output_type": "stream",
     "text": [
      "10.0\n"
     ]
    }
   ],
   "source": [
    "X=(6+10+abs(6-10))/2\n",
    "print(X)"
   ]
  },
  {
   "cell_type": "code",
   "execution_count": 12,
   "metadata": {},
   "outputs": [
    {
     "ename": "NameError",
     "evalue": "name 'srqt' is not defined",
     "output_type": "error",
     "traceback": [
      "\u001b[0;31m---------------------------------------------------------------------------\u001b[0m",
      "\u001b[0;31mNameError\u001b[0m                                 Traceback (most recent call last)",
      "\u001b[0;32m<ipython-input-12-c97fbe8c5446>\u001b[0m in \u001b[0;36m<module>\u001b[0;34m()\u001b[0m\n\u001b[0;32m----> 1\u001b[0;31m \u001b[0msrqt\u001b[0m\u001b[0;34m(\u001b[0m\u001b[0;36m25\u001b[0m\u001b[0;34m)\u001b[0m\u001b[0;34m\u001b[0m\u001b[0m\n\u001b[0m",
      "\u001b[0;31mNameError\u001b[0m: name 'srqt' is not defined"
     ]
    }
   ],
   "source": [
    "(25)"
   ]
  },
  {
   "cell_type": "code",
   "execution_count": 13,
   "metadata": {},
   "outputs": [
    {
     "ename": "NameError",
     "evalue": "name 'math' is not defined",
     "output_type": "error",
     "traceback": [
      "\u001b[0;31m---------------------------------------------------------------------------\u001b[0m",
      "\u001b[0;31mNameError\u001b[0m                                 Traceback (most recent call last)",
      "\u001b[0;32m<ipython-input-13-b1a01eea6359>\u001b[0m in \u001b[0;36m<module>\u001b[0;34m()\u001b[0m\n\u001b[0;32m----> 1\u001b[0;31m \u001b[0mmath\u001b[0m\u001b[0;34m.\u001b[0m\u001b[0msqrt\u001b[0m\u001b[0;34m(\u001b[0m\u001b[0;36m2\u001b[0m\u001b[0;34m)\u001b[0m\u001b[0;34m\u001b[0m\u001b[0m\n\u001b[0m",
      "\u001b[0;31mNameError\u001b[0m: name 'math' is not defined"
     ]
    }
   ],
   "source": [
    "math.sqrt(2)"
   ]
  },
  {
   "cell_type": "code",
   "execution_count": 4,
   "metadata": {},
   "outputs": [
    {
     "name": "stdout",
     "output_type": "stream",
     "text": [
      "34\n"
     ]
    },
    {
     "data": {
      "text/plain": [
       "2"
      ]
     },
     "execution_count": 4,
     "metadata": {},
     "output_type": "execute_result"
    }
   ],
   "source": [
    "print(5734%100)\n",
    "20//7"
   ]
  },
  {
   "cell_type": "code",
   "execution_count": 21,
   "metadata": {},
   "outputs": [
    {
     "name": "stdout",
     "output_type": "stream",
     "text": [
      "576\n",
      "576\n",
      "5 nota(s) de R$ 100,00\n",
      "1 nota(s) de R$ 50,00\n",
      "1 nota(s) de R$ 20,00\n",
      "0 nota(s) de R$ 10,00\n",
      "1 nota(s) de R$ 5,00\n",
      "0 nota(s) de R$ 2,00\n",
      "1 nota(s) de R$ 1,00\n"
     ]
    }
   ],
   "source": [
    "N=int(input())\n",
    "if 0<N<1000000:\n",
    "    a=N // 100\n",
    "    N1=N%100\n",
    "    b=N1 // 50\n",
    "    N2=N1%50\n",
    "    c=N2 // 20\n",
    "    N3=N2%20\n",
    "    d=N3 // 10\n",
    "    N4=N3%10\n",
    "    e=N4 // 5\n",
    "    N5=N4%5\n",
    "    f=N5 // 2\n",
    "    N6=N5%2\n",
    "    g=N6\n",
    "    \n",
    "print(N)    \n",
    "print(a,\"nota(s) de R$ 100,00\")\n",
    "print(b,\"nota(s) de R$ 50,00\") \n",
    "print(c,\"nota(s) de R$ 20,00\") \n",
    "print(d,\"nota(s) de R$ 10,00\") \n",
    "print(e,\"nota(s) de R$ 5,00\") \n",
    "print(f,\"nota(s) de R$ 2,00\") \n",
    "print(g,\"nota(s) de R$ 1,00\") "
   ]
  },
  {
   "cell_type": "code",
   "execution_count": 33,
   "metadata": {},
   "outputs": [
    {
     "ename": "SyntaxError",
     "evalue": "invalid syntax (<ipython-input-33-c1dfc7988985>, line 4)",
     "output_type": "error",
     "traceback": [
      "\u001b[0;36m  File \u001b[0;32m\"<ipython-input-33-c1dfc7988985>\"\u001b[0;36m, line \u001b[0;32m4\u001b[0m\n\u001b[0;31m    print(a;b;c)\u001b[0m\n\u001b[0m           ^\u001b[0m\n\u001b[0;31mSyntaxError\u001b[0m\u001b[0;31m:\u001b[0m invalid syntax\n"
     ]
    }
   ],
   "source": [
    "a=1 \n",
    "b=2\n",
    "c=3\n",
    "print(a;b;c)"
   ]
  },
  {
   "cell_type": "code",
   "execution_count": 36,
   "metadata": {},
   "outputs": [
    {
     "name": "stdout",
     "output_type": "stream",
     "text": [
      "456346\n",
      "126:45:46\n"
     ]
    }
   ],
   "source": [
    "N=int(input())\n",
    "h=N // 3600\n",
    "N1=N%3600\n",
    "m=N1 // 60\n",
    "N2=N1%60\n",
    "s=N2\n",
    "print(h,':',m,':',s,sep='')"
   ]
  },
  {
   "cell_type": "code",
   "execution_count": 37,
   "metadata": {},
   "outputs": [
    {
     "data": {
      "text/plain": [
       "45"
      ]
     },
     "execution_count": 37,
     "metadata": {},
     "output_type": "execute_result"
    }
   ],
   "source": [
    "int(45)"
   ]
  },
  {
   "cell_type": "code",
   "execution_count": 38,
   "metadata": {},
   "outputs": [
    {
     "data": {
      "text/plain": [
       "4"
      ]
     },
     "execution_count": 38,
     "metadata": {},
     "output_type": "execute_result"
    }
   ],
   "source": [
    "int(4.5)"
   ]
  },
  {
   "cell_type": "code",
   "execution_count": 52,
   "metadata": {},
   "outputs": [
    {
     "name": "stdout",
     "output_type": "stream",
     "text": [
      "2141.56\n",
      "NOTAS:\n",
      "21 nota(s) de R$ 100.00\n",
      "0 nota(s) de R$ 50.00\n",
      "2 nota(s) de R$ 20.00\n",
      "0 nota(s) de R$ 10.00\n",
      "0 nota(s) de R$ 5.00\n",
      "0 nota(s) de R$ 2.00\n",
      "MOEDAS:\n",
      "1 moeda(s) de R$ 1.00\n",
      "1 moeda(s) de R$ 0.50\n",
      "0 moeda(s) de R$ 0.25\n",
      "0 moeda(s) de R$ 0.10\n",
      "1 moeda(s) de R$ 0.05\n",
      "0 moeda(s) de R$ 0.01\n"
     ]
    }
   ],
   "source": [
    "Np=float(input())\n",
    "if 0<Np<1000000.00:\n",
    "    N=int(Np)\n",
    "    a=N // 100\n",
    "    N1=N%100\n",
    "    b=N1 // 50\n",
    "    N2=N1%50\n",
    "    c=N2 // 20\n",
    "    N3=N2%20\n",
    "    d=N3 // 10\n",
    "    N4=N3%10\n",
    "    e=N4 // 5\n",
    "    N5=N4%5\n",
    "    f=N5 // 2\n",
    "    N6=N5%2\n",
    "    g=N6\n",
    "    M=int((Np-int(Np))*100)\n",
    "    h=M // 50\n",
    "    M1=M%50\n",
    "    i=M1 // 25\n",
    "    M2=M1%25\n",
    "    j=M2 // 10\n",
    "    M3=M2%10\n",
    "    k=M3 // 5\n",
    "    M4=M3%5\n",
    "    l=M4\n",
    "print('NOTAS:')   \n",
    "print(a,\"nota(s) de R$ 100.00\")\n",
    "print(b,\"nota(s) de R$ 50.00\") \n",
    "print(c,\"nota(s) de R$ 20.00\") \n",
    "print(d,\"nota(s) de R$ 10.00\") \n",
    "print(e,\"nota(s) de R$ 5.00\") \n",
    "print(f,\"nota(s) de R$ 2.00\")\n",
    "print('MOEDAS:')\n",
    "print(g,\"moeda(s) de R$ 1.00\") \n",
    "print(h,\"moeda(s) de R$ 0.50\")\n",
    "print(i,\"moeda(s) de R$ 0.25\") \n",
    "print(j,\"moeda(s) de R$ 0.10\") \n",
    "print(k,\"moeda(s) de R$ 0.05\") \n",
    "print(l,\"moeda(s) de R$ 0.01\") \n",
    "\n",
    "\n",
    "\n"
   ]
  },
  {
   "cell_type": "code",
   "execution_count": 51,
   "metadata": {},
   "outputs": [
    {
     "name": "stdout",
     "output_type": "stream",
     "text": [
      "66\n"
     ]
    }
   ],
   "source": [
    "x=1243.66\n",
    "k=x-int(x)\n",
    "print(int(k*100))"
   ]
  },
  {
   "cell_type": "code",
   "execution_count": 43,
   "metadata": {},
   "outputs": [
    {
     "data": {
      "text/plain": [
       "1243"
      ]
     },
     "execution_count": 43,
     "metadata": {},
     "output_type": "execute_result"
    }
   ],
   "source": [
    "int(N)"
   ]
  },
  {
   "cell_type": "code",
   "execution_count": 53,
   "metadata": {},
   "outputs": [
    {
     "data": {
      "text/plain": [
       "1"
      ]
     },
     "execution_count": 53,
     "metadata": {},
     "output_type": "execute_result"
    }
   ],
   "source": [
    "33%2"
   ]
  },
  {
   "cell_type": "code",
   "execution_count": 56,
   "metadata": {},
   "outputs": [
    {
     "name": "stdout",
     "output_type": "stream",
     "text": [
      "2 3 2 6\n",
      "Valores aceitos\n"
     ]
    }
   ],
   "source": [
    "A,B,C,D=input().split()\n",
    "A=int(A)\n",
    "B=int(B)\n",
    "C=int(C)\n",
    "D=int(D)\n",
    "if B>C and D>A and C+D>A+B and C>0 and D>0 and A%2==0:\n",
    "    print('Valores aceitos')\n",
    "else:\n",
    "    print('Valores nao aceitos')\n",
    "    "
   ]
  },
  {
   "cell_type": "code",
   "execution_count": null,
   "metadata": {},
   "outputs": [],
   "source": [
    "A,B,C=input().split()\n",
    "A=float(A)\n",
    "B=float(B)\n",
    "C=float(C)\n",
    "delta=B**2-4*A*C\n",
    "if delta<0:\n",
    "    print('Impossivel calcular')\n",
    "elif A==0:\n",
    "    print('Impossivel calcular')\n",
    "else:\n",
    "    R1=(-B+delta**(1/2))/(2*A)\n",
    "    R2=(-B-delta**(1/2))/(2*A)\n",
    "    print('R1 = %.5f'%R1)\n",
    "    print('R2 = %.5f'%R2)\n",
    "    "
   ]
  },
  {
   "cell_type": "code",
   "execution_count": 57,
   "metadata": {},
   "outputs": [
    {
     "name": "stdout",
     "output_type": "stream",
     "text": [
      "12\n",
      "Intervalo (25,50]\n"
     ]
    }
   ],
   "source": [
    "N=float(input())\n",
    "if 0<=N<=25:\n",
    "    print('Intervalo [0,25]')\n",
    "elif 25<N<=50:\n",
    "    print('Intervalo (25,50]')\n",
    "elif 50<N<=75:\n",
    "    print('Intervalo (50,75]')\n",
    "elif 75<N<=100:\n",
    "    print('Intervalo (75,100]')\n",
    "else:\n",
    "    print('Fora de intervalo')\n"
   ]
  },
  {
   "cell_type": "code",
   "execution_count": 60,
   "metadata": {},
   "outputs": [
    {
     "name": "stdout",
     "output_type": "stream",
     "text": [
      "9 3\n"
     ]
    }
   ],
   "source": [
    "C,Q=input().split()\n",
    "C=int(C)\n",
    "Q=int(Q)\n",
    "if 0<C<6:\n",
    "    if C==1:\n",
    "        print('Total: R$ %.2f'%(4*Q))\n",
    "    elif C==2:\n",
    "        print('Total: R$ %.2f'%(4.5*Q))\n",
    "    elif C==3:\n",
    "        print('Total: R$ %.2f'%(5*Q))\n",
    "    elif C==4:\n",
    "        print('Total: R$ %.2f'%(2*Q))\n",
    "    else:\n",
    "        print('Total: R$ %.2f'%(1.5*Q))"
   ]
  },
  {
   "cell_type": "code",
   "execution_count": 61,
   "metadata": {},
   "outputs": [
    {
     "name": "stdout",
     "output_type": "stream",
     "text": [
      "3 4 7 8\n",
      "Media: 5.4\n",
      "Aluno em exame.\n",
      "5\n",
      "Nota do exame: 5.0\n",
      "Aluno aprovado.\n",
      "Media final: 5.2\n"
     ]
    }
   ],
   "source": [
    "N1,N2,N3,N4=input().split()\n",
    "N1=float(N1)\n",
    "N2=float(N2)\n",
    "N3=float(N3)\n",
    "N4=float(N4)\n",
    "media=(2*N1+3*N2+4*N3+N4)/10\n",
    "if (media >= 7):\n",
    "    print(\"Media: %0.1f\" %media)\n",
    "    print(\"Aluno aprovado.\")\n",
    "  \n",
    "elif (media >= 5):\n",
    "    print(\"Media: %0.1f\" %media)\n",
    "    print(\"Aluno em exame.\")\n",
    "    \n",
    "    exame = input()\n",
    "    exame = float(exame)\n",
    "    \n",
    "    media2 = (media + exame) / 2\n",
    "    \n",
    "    if (media2 >= 5):\n",
    "      print(\"Nota do exame: %0.1f\" %exame)\n",
    "      print(\"Aluno aprovado.\")\n",
    "      print(\"Media final: %0.1f\" %media2)\n",
    "    \n",
    "    else:\n",
    "      print(\"Nota do exame: %0.1f\" %exame)\n",
    "      print(\"Aluno reprovado.\")\n",
    "      print(\"Media final: %0.1f\" %media2)\n",
    "\n",
    "else:\n",
    "  print(\"Media: %0.1f\" %media)\n",
    "  print(\"Aluno reprovado.\")\n"
   ]
  },
  {
   "cell_type": "code",
   "execution_count": 69,
   "metadata": {},
   "outputs": [
    {
     "name": "stdout",
     "output_type": "stream",
     "text": [
      "-3 -4\n",
      "Q3\n"
     ]
    }
   ],
   "source": [
    "x,y=input().split()\n",
    "x=float(x)\n",
    "y=float(y)\n",
    "if x==0 and y==0:\n",
    "    print('Origem')\n",
    "elif x==0:\n",
    "    print('Eixo Y')\n",
    "elif y==0:\n",
    "    print('Eixo X')\n",
    "elif x>0 and y>0:\n",
    "    print('Q1')\n",
    "elif x>0 and y<0:\n",
    "    print('Q4')\n",
    "elif x<0 and y>0:\n",
    "    print('Q2')\n",
    "elif x<0 and y<0:\n",
    "    print('Q3')\n",
    "    \n",
    "    \n",
    "    \n"
   ]
  },
  {
   "cell_type": "code",
   "execution_count": null,
   "metadata": {},
   "outputs": [],
   "source": [
    "n1, n2, n3 = input().split()\n",
    "\n",
    "n1 = int(n1)\n",
    "n2 = int(n2)\n",
    "n3 = int(n3)\n",
    "\n",
    "if (n1 < n2 and n1 < n3):\n",
    "    o1 = n1\n",
    "    if (n2 < n3):\n",
    "        o2 = n2\n",
    "        o3 = n3\n",
    "    else:\n",
    "        o2 = n3\n",
    "        o3 = n2\n",
    "elif (n2 < n1 and n2 < n3):\n",
    "    o1 = n2\n",
    "    if (n1 < n3):\n",
    "        o2 = n1\n",
    "        o3 = n3\n",
    "    else:\n",
    "        o2 = n3\n",
    "        o3 = n1\n",
    "elif (n3 < n1 and n3 < n2):\n",
    "    o1 = n3\n",
    "    if (n1 < n2):\n",
    "        o2 = n1\n",
    "        o3 = n2\n",
    "    else:\n",
    "        o2 = n2\n",
    "        o3 = n1\n",
    "\n",
    "print(o1)\n",
    "print(o2)\n",
    "print(o3)\n",
    "print()\n",
    "print(n1)\n",
    "print(n2)\n",
    "print(n3)"
   ]
  },
  {
   "cell_type": "code",
   "execution_count": 77,
   "metadata": {},
   "outputs": [
    {
     "name": "stdout",
     "output_type": "stream",
     "text": [
      "1 2 777\n",
      "Area = 1165.5\n"
     ]
    }
   ],
   "source": [
    "A,B,C=input().split()\n",
    "A=float(A)\n",
    "B=float(B)\n",
    "C=float(C)\n",
    "p=A+B+C\n",
    "area=(A+B)*C/2\n",
    "if abs(B-C)<A<B+C and abs(A-C)<B<A+C and abs(A-B)<C<A+B:\n",
    "    print('Perimetro = %.1f'%p)\n",
    "else:\n",
    "    print('Area = %.1f'%area)"
   ]
  },
  {
   "cell_type": "code",
   "execution_count": 79,
   "metadata": {},
   "outputs": [
    {
     "name": "stdout",
     "output_type": "stream",
     "text": [
      "24 4\n",
      "Sao Multiplos\n"
     ]
    }
   ],
   "source": [
    "A,B=input().split()\n",
    "A=int(A)\n",
    "B=int(B)\n",
    "if A>B:\n",
    "    maior=A\n",
    "    menor=B\n",
    "else:\n",
    "    maior=B\n",
    "    menor=A\n",
    "if maior%menor==0:\n",
    "    print('Sao Multiplos')\n",
    "else:\n",
    "    print('Nao sao Multiplos')\n"
   ]
  },
  {
   "cell_type": "code",
   "execution_count": 89,
   "metadata": {},
   "outputs": [
    {
     "name": "stdout",
     "output_type": "stream",
     "text": [
      "22 3\n",
      "O JOGO DUROU 5 HORA(S)\n"
     ]
    }
   ],
   "source": [
    "A,B=input().split()\n",
    "A=int(A)\n",
    "B=int(B)\n",
    "if A==B:\n",
    "    t=24\n",
    "    print('O JOGO DUROU',t,'HORA(S)')\n",
    "else:\n",
    "    if B>A:\n",
    "        t=B-A\n",
    "        print('O JOGO DUROU',t,'HORA(S)')\n",
    "    else:\n",
    "        t=24+B-A\n",
    "        print('O JOGO DUROU',t,'HORA(S)')\n",
    "        \n",
    "    "
   ]
  },
  {
   "cell_type": "code",
   "execution_count": 117,
   "metadata": {},
   "outputs": [
    {
     "name": "stdout",
     "output_type": "stream",
     "text": [
      "7 8 9 10\n",
      "O JOGO DUROU 2 HORA(S) E 2 MINUTO(S)\n"
     ]
    }
   ],
   "source": [
    "A,B,C,D=input().split()\n",
    "A=int(A)\n",
    "B=int(B)\n",
    "C=int(C)\n",
    "D=int(D)\n",
    "\n",
    "if A==C:\n",
    "    if B==D:\n",
    "        h=24\n",
    "        m=0\n",
    "    elif B>D:\n",
    "        h=23\n",
    "        m=60+D-B\n",
    "    elif B<D:\n",
    "        h=0 \n",
    "        m=D-B\n",
    "elif A>C:\n",
    "    if B==D:\n",
    "        m=0\n",
    "        h=24+C-A\n",
    "    elif B>D:\n",
    "        m=60+D-B\n",
    "        h=24+C-A-1\n",
    "    elif B<D:\n",
    "        m=D-B\n",
    "        h=24+C-A\n",
    "elif A<C:\n",
    "    if B==D:\n",
    "        m=0\n",
    "        h=C-A\n",
    "    elif B>D:\n",
    "        m=60+D-B\n",
    "        h=C-A-1\n",
    "    elif B<D:\n",
    "        m=D-B\n",
    "        h=C-A\n",
    "                \n",
    "                            \n",
    "print('O JOGO DUROU',h,'HORA(S) E',m,'MINUTO(S)')\n",
    "        "
   ]
  },
  {
   "cell_type": "code",
   "execution_count": 127,
   "metadata": {},
   "outputs": [
    {
     "name": "stdout",
     "output_type": "stream",
     "text": [
      "400\n",
      "Novo salario: 460.00\n",
      "Reajuste ganho: 60.00\n",
      "Em percentual: 15 %\n"
     ]
    }
   ],
   "source": [
    "S=float(input())\n",
    "if 0<=S<=400:\n",
    "    r=0.15\n",
    "    Sn=S+S*r\n",
    "elif 400.01<=S<=800:\n",
    "    r=0.12\n",
    "    Sn=S+S*r\n",
    "elif 800.01<=S<=1200:\n",
    "    r=0.1\n",
    "    Sn=S+S*r\n",
    "elif 1200.01<=S<=2000:\n",
    "    r=0.07\n",
    "    Sn=S+S*r\n",
    "else:\n",
    "    r=0.04\n",
    "    Sn=S+S*r\n",
    "\n",
    "print('Novo salario: %.2f'%Sn)\n",
    "print('Reajuste ganho: %.2f'%(S*r))\n",
    "print('Em percentual:',int(r*100),'%')\n",
    "    \n",
    "    \n",
    "\n",
    "    \n",
    "    \n",
    "    "
   ]
  },
  {
   "cell_type": "code",
   "execution_count": 3,
   "metadata": {},
   "outputs": [
    {
     "name": "stdout",
     "output_type": "stream",
     "text": [
      "223\n",
      "DDD nao cadastrado\n"
     ]
    }
   ],
   "source": [
    "A=int(input())\n",
    "\n",
    "\n",
    "if(A == 61):\n",
    "    print(\"Brasilia\")\n",
    "elif(A == 71):\n",
    "    print (\"Salvador\")\n",
    "elif(A == 11):\n",
    "    print (\"Sao Paulo\")\n",
    "elif(A == 21):\n",
    "    print (\"Rio de Janeiro\")\n",
    "elif(A == 32):\n",
    "    print (\"Juiz de Fora\")\n",
    "elif(A == 19):\n",
    "    print (\"Campinas\")\n",
    "elif(A == 27):\n",
    "    print (\"Vitoria\")\n",
    "elif(A == 31):\n",
    "    print (\"Belo Horizonte\")\n",
    "else:\n",
    "    print(\"DDD nao cadastrado\")"
   ]
  },
  {
   "cell_type": "code",
   "execution_count": 7,
   "metadata": {},
   "outputs": [
    {
     "name": "stdout",
     "output_type": "stream",
     "text": [
      "vertebrado\n",
      "ave\n",
      "carnivoro\n",
      "aguia\n"
     ]
    }
   ],
   "source": [
    "A=str(input())\n",
    "B=str(input())\n",
    "C=str(input())\n",
    "if A=='vertebrado':\n",
    "    if B=='ave':\n",
    "        if C=='carnivoro':\n",
    "            print(\"aguia\")\n",
    "        else:\n",
    "            print('pomba')\n",
    "    else:\n",
    "        if C=='onivoro':\n",
    "            print('homem')\n",
    "        else:\n",
    "            print('vaca')\n",
    "else:\n",
    "    if B=='inseto':\n",
    "        if C=='hematofago':\n",
    "            print('pulga')\n",
    "        else:\n",
    "            print('lagarta')\n",
    "    else:\n",
    "        if C=='hematofago':\n",
    "            print('sanguessuga')\n",
    "        else:\n",
    "            print('minhoca')\n"
   ]
  },
  {
   "cell_type": "code",
   "execution_count": 15,
   "metadata": {},
   "outputs": [
    {
     "name": "stdout",
     "output_type": "stream",
     "text": [
      "0\n",
      "Isento\n"
     ]
    }
   ],
   "source": [
    "A=float(input())\n",
    "if 0<=A<=2000:\n",
    "    print('Isento')\n",
    "elif 2000.01<=A<=3000:\n",
    "    S=(A-2000) * 0.08\n",
    "    print(\"R$ %.2f\"%S)\n",
    "elif 3000.01<=A<=4500:\n",
    "    S=((A-3000) * 0.18) + (1000 * 0.08)\n",
    "    print(\"R$ %.2f\"%S)\n",
    "else:\n",
    "    S=((A-4500) * 0.28) + (1500 * 0.18) + (1000 * 0.08)\n",
    "    print(\"R$ %.2f\"%S)\n",
    "    \n",
    "\n"
   ]
  },
  {
   "cell_type": "code",
   "execution_count": 17,
   "metadata": {},
   "outputs": [
    {
     "name": "stdout",
     "output_type": "stream",
     "text": [
      "3\n",
      "March\n"
     ]
    }
   ],
   "source": [
    "M=int(input())\n",
    "if M==1:\n",
    "    print('January')\n",
    "elif M==2:\n",
    "    print('February')\n",
    "elif M==3:\n",
    "    print('March')\n",
    "elif M==4:\n",
    "    print('April')\n",
    "elif M==5:\n",
    "    print('May')\n",
    "elif M==6:\n",
    "    print('June')\n",
    "elif M==7:\n",
    "    print('July')\n",
    "elif M==8:\n",
    "    print('August')\n",
    "elif M==9:\n",
    "    print('September')\n",
    "elif M==10:\n",
    "    print('October')\n",
    "elif M==11:\n",
    "    print('November')\n",
    "elif M==12:\n",
    "    print('December')\n"
   ]
  },
  {
   "cell_type": "code",
   "execution_count": 28,
   "metadata": {},
   "outputs": [
    {
     "name": "stdout",
     "output_type": "stream",
     "text": [
      "2\n",
      "4\n",
      "6\n",
      "8\n",
      "10\n",
      "12\n",
      "14\n",
      "16\n",
      "18\n",
      "20\n",
      "22\n",
      "24\n",
      "26\n",
      "28\n",
      "30\n",
      "32\n",
      "34\n",
      "36\n",
      "38\n",
      "40\n",
      "42\n",
      "44\n",
      "46\n",
      "48\n",
      "50\n",
      "52\n",
      "54\n",
      "56\n",
      "58\n",
      "60\n",
      "62\n",
      "64\n",
      "66\n",
      "68\n",
      "70\n",
      "72\n",
      "74\n",
      "76\n",
      "78\n",
      "80\n",
      "82\n",
      "84\n",
      "86\n",
      "88\n",
      "90\n",
      "92\n",
      "94\n",
      "96\n",
      "98\n",
      "100\n"
     ]
    }
   ],
   "source": [
    "for i in range(2,101,2):\n",
    "    print(i)     "
   ]
  },
  {
   "cell_type": "code",
   "execution_count": 22,
   "metadata": {},
   "outputs": [
    {
     "data": {
      "text/plain": [
       "[1, 2, 3, 4, 5, 6, 7, 8, 9, 10, 11, 12]"
      ]
     },
     "execution_count": 22,
     "metadata": {},
     "output_type": "execute_result"
    }
   ],
   "source": [
    "list(range(1,13))"
   ]
  },
  {
   "cell_type": "code",
   "execution_count": 30,
   "metadata": {},
   "outputs": [
    {
     "name": "stdout",
     "output_type": "stream",
     "text": [
      "-2\n",
      "-3\n",
      "-7\n",
      "3   \n",
      "1 \n",
      "9\n",
      "3 valores positivos\n"
     ]
    }
   ],
   "source": [
    "lista = []\n",
    "lista.append(float(input()))\n",
    "lista.append(float(input()))\n",
    "lista.append(float(input()))\n",
    "lista.append(float(input()))\n",
    "lista.append(float(input()))\n",
    "lista.append(float(input()))\n",
    "\n",
    "pares = 0\n",
    "\n",
    "for n in lista:\n",
    "    if n>0:\n",
    "        pares += 1\n",
    "\n",
    "print(pares,'valores positivos')"
   ]
  },
  {
   "cell_type": "code",
   "execution_count": 33,
   "metadata": {},
   "outputs": [
    {
     "name": "stdout",
     "output_type": "stream",
     "text": [
      "7\n",
      "-5\n",
      "6\n",
      "-3.4\n",
      "4.6\n",
      "12\n",
      "4 valores positivos\n",
      "7.4\n"
     ]
    }
   ],
   "source": [
    "lista = []\n",
    "lista.append(float(input()))\n",
    "lista.append(float(input()))\n",
    "lista.append(float(input()))\n",
    "lista.append(float(input()))\n",
    "lista.append(float(input()))\n",
    "lista.append(float(input()))\n",
    "\n",
    "pos=0\n",
    "soma=0\n",
    "\n",
    "for n in lista:\n",
    "    if n>0:\n",
    "        pos += 1\n",
    "        soma += n\n",
    "media=soma/pos\n",
    "        \n",
    "print(pares,'valores positivos')\n",
    "print(\"%.1f\"%media)"
   ]
  },
  {
   "cell_type": "code",
   "execution_count": null,
   "metadata": {},
   "outputs": [],
   "source": [
    "lista = []\n",
    "lista.append(float(input()))\n",
    "lista.append(float(input()))\n",
    "lista.append(float(input()))\n",
    "lista.append(float(input()))\n",
    "lista.append(float(input()))\n",
    "pares=0\n",
    "\n",
    "for n in lista:\n",
    "    if n%2==0:\n",
    "        pares +=1\n",
    "\n",
    "print(pares,'valores pares')"
   ]
  },
  {
   "cell_type": "code",
   "execution_count": 37,
   "metadata": {},
   "outputs": [
    {
     "name": "stdout",
     "output_type": "stream",
     "text": [
      "-5\n",
      "0\n",
      "-3\n",
      "-4\n",
      "12\n",
      "3 valor(es) par(es)\n",
      "2 valor(es) impar(es)\n",
      "1 valor(es) positivo(s)\n",
      "3 valor(es) negativo(s)\n"
     ]
    }
   ],
   "source": [
    "lista = []\n",
    "lista.append(float(input()))\n",
    "lista.append(float(input()))\n",
    "lista.append(float(input()))\n",
    "lista.append(float(input()))\n",
    "lista.append(float(input()))\n",
    "pares=0\n",
    "pos=0\n",
    "neg=0\n",
    "for n in lista:\n",
    "    if n%2==0:\n",
    "        pares +=1\n",
    "impares=5-pares\n",
    "\n",
    "for i in lista:\n",
    "    if i>0:\n",
    "        pos +=1\n",
    "for j in lista:\n",
    "    if j<0:\n",
    "        neg +=1\n",
    "\n",
    "print(pares,'valor(es) par(es)')\n",
    "print(impares,'valor(es) impar(es)')\n",
    "print(pos,'valor(es) positivo(s)')\n",
    "print(neg,'valor(es) negativo(s)')\n",
    "        \n",
    "\n"
   ]
  },
  {
   "cell_type": "markdown",
   "metadata": {},
   "source": []
  },
  {
   "cell_type": "code",
   "execution_count": 43,
   "metadata": {},
   "outputs": [
    {
     "name": "stdout",
     "output_type": "stream",
     "text": [
      "7\n",
      "1\n",
      "3\n",
      "5\n",
      "7\n"
     ]
    }
   ],
   "source": [
    "X=int(input())\n",
    "\n",
    "if 1<=X<=1000:\n",
    "    lista=list(range(1,X+1,2))\n",
    "for n in lista:\n",
    "    print(n)\n",
    "    "
   ]
  },
  {
   "cell_type": "code",
   "execution_count": 52,
   "metadata": {},
   "outputs": [
    {
     "name": "stdout",
     "output_type": "stream",
     "text": [
      "10\n",
      "11\n",
      "13\n",
      "15\n",
      "17\n",
      "19\n",
      "21\n"
     ]
    }
   ],
   "source": [
    "X=int(input())\n",
    "\n",
    "lista=list(range(X,X+2*6))\n",
    "for n in lista:\n",
    "    if n%2==1:\n",
    "        print(n)"
   ]
  },
  {
   "cell_type": "code",
   "execution_count": 64,
   "metadata": {},
   "outputs": [
    {
     "name": "stdout",
     "output_type": "stream",
     "text": [
      "15 \n",
      "12\n",
      "13\n"
     ]
    }
   ],
   "source": [
    "X=int(input())\n",
    "Y=int(input())\n",
    "if X>Y:\n",
    "    maior=X\n",
    "    menor=Y\n",
    "else:\n",
    "    maior=Y\n",
    "    menor=X\n",
    "\n",
    "lista=list(range(menor+1,maior))\n",
    "\n",
    "soma=0\n",
    "for n in lista:\n",
    "    if n%2==1:\n",
    "        soma +=n\n",
    "print(soma)"
   ]
  },
  {
   "cell_type": "code",
   "execution_count": 65,
   "metadata": {},
   "outputs": [],
   "source": [
    "lista = [1,2,2, [2,3,4], 3.9, 4, 2.8,'uma string']\n"
   ]
  },
  {
   "cell_type": "code",
   "execution_count": 77,
   "metadata": {},
   "outputs": [],
   "source": [
    "seu_novo_nome = [2,6,3,8]"
   ]
  },
  {
   "cell_type": "code",
   "execution_count": 80,
   "metadata": {},
   "outputs": [
    {
     "data": {
      "text/plain": [
       "3"
      ]
     },
     "execution_count": 80,
     "metadata": {},
     "output_type": "execute_result"
    }
   ],
   "source": [
    "seu_novo_nome.pop(2)\n"
   ]
  },
  {
   "cell_type": "code",
   "execution_count": 81,
   "metadata": {},
   "outputs": [
    {
     "data": {
      "text/plain": [
       "[2, 6, 8]"
      ]
     },
     "execution_count": 81,
     "metadata": {},
     "output_type": "execute_result"
    }
   ],
   "source": [
    "seu_novo_nome"
   ]
  },
  {
   "cell_type": "code",
   "execution_count": 82,
   "metadata": {},
   "outputs": [],
   "source": [
    "nova2 = [[[2,1],7,9,3,3,2,[2,6]],4,5,7]"
   ]
  },
  {
   "cell_type": "code",
   "execution_count": 83,
   "metadata": {},
   "outputs": [
    {
     "data": {
      "text/plain": [
       "1"
      ]
     },
     "execution_count": 83,
     "metadata": {},
     "output_type": "execute_result"
    }
   ],
   "source": [
    "lista.index(2)"
   ]
  },
  {
   "cell_type": "code",
   "execution_count": 84,
   "metadata": {},
   "outputs": [
    {
     "data": {
      "text/plain": [
       "8"
      ]
     },
     "execution_count": 84,
     "metadata": {},
     "output_type": "execute_result"
    }
   ],
   "source": [
    "len(lista)"
   ]
  },
  {
   "cell_type": "code",
   "execution_count": 86,
   "metadata": {},
   "outputs": [
    {
     "name": "stdout",
     "output_type": "stream",
     "text": [
      "3\n",
      "3\n",
      "99\n",
      "10\n",
      "1 in\n",
      "2 out\n"
     ]
    }
   ],
   "source": [
    "lista=[]\n",
    "a=int(input())\n",
    "for n in range(1,a+1):\n",
    "    lista.append(int(input()))\n",
    "somadentro=0\n",
    "somafora=0\n",
    "for n in lista:\n",
    "    if 10<=n<=20:\n",
    "        somadentro+=1\n",
    "    else:\n",
    "        somafora+=1\n",
    "print(somadentro,\"in\")\n",
    "print(somafora,\"out\")"
   ]
  },
  {
   "cell_type": "code",
   "execution_count": 9,
   "metadata": {},
   "outputs": [
    {
     "name": "stdout",
     "output_type": "stream",
     "text": [
      "8\n",
      "2^2 = 4\n",
      "4^2 = 16\n",
      "6^2 = 36\n",
      "8^2 = 64\n"
     ]
    }
   ],
   "source": [
    "N=int(input())\n",
    "lista=list(range(2,N+1,2))\n",
    "for n in lista:\n",
    "    print('%d^2 = %d'%(n,n**2))\n"
   ]
  },
  {
   "cell_type": "code",
   "execution_count": 14,
   "metadata": {},
   "outputs": [
    {
     "data": {
      "text/plain": [
       "[4, 5, 6, 7]"
      ]
     },
     "execution_count": 14,
     "metadata": {},
     "output_type": "execute_result"
    }
   ],
   "source": [
    "lista=list(range(4,8))\n",
    "\n",
    "lista"
   ]
  },
  {
   "cell_type": "code",
   "execution_count": 16,
   "metadata": {},
   "outputs": [
    {
     "name": "stdout",
     "output_type": "stream",
     "text": [
      "3\n",
      "3\n",
      "0\n",
      "-4\n",
      "ODD POSITIVE\n",
      "NULL\n",
      "EVEN NEGATIVE\n"
     ]
    }
   ],
   "source": [
    "lista=[]\n",
    "N=int(input())\n",
    "for n in range(1,N+1):\n",
    "    lista.append(int(input()))\n",
    "for i in lista:\n",
    "    if i==0:\n",
    "        print('NULL')\n",
    "    elif i%2==0:\n",
    "        if i>0:\n",
    "            print('EVEN POSITIVE')\n",
    "        else:\n",
    "            print('EVEN NEGATIVE')\n",
    "    else:\n",
    "        if i>0:\n",
    "            print('ODD POSITIVE')\n",
    "        else:\n",
    "            print('ODD NEGATIVE')\n",
    "\n",
    "        \n"
   ]
  },
  {
   "cell_type": "markdown",
   "metadata": {},
   "source": [
    "\n"
   ]
  },
  {
   "cell_type": "code",
   "execution_count": 20,
   "metadata": {},
   "outputs": [
    {
     "name": "stdout",
     "output_type": "stream",
     "text": [
      "999\n",
      "2\n",
      "1001\n",
      "2000\n",
      "2999\n",
      "3998\n",
      "4997\n",
      "5996\n",
      "6995\n",
      "7994\n",
      "8993\n",
      "9992\n"
     ]
    }
   ],
   "source": [
    "N=int(input())\n",
    "for i in range(1,10001):\n",
    "    if i%N==2:\n",
    "        print(i)\n",
    "        \n"
   ]
  },
  {
   "cell_type": "code",
   "execution_count": 25,
   "metadata": {},
   "outputs": [
    {
     "name": "stdout",
     "output_type": "stream",
     "text": [
      "5\n",
      "1 x 5 = 5\n",
      "2 x 5 = 10\n",
      "3 x 5 = 15\n",
      "4 x 5 = 20\n",
      "5 x 5 = 25\n",
      "6 x 5 = 30\n",
      "7 x 5 = 35\n",
      "8 x 5 = 40\n",
      "9 x 5 = 45\n",
      "10 x 5 = 50\n"
     ]
    }
   ],
   "source": [
    "N=int(input())\n",
    "if 2<N<1000:\n",
    "    print('1 x',N,'=',N*1)\n",
    "    print('2 x',N,'=',N*2)\n",
    "    print('3 x',N,'=',N*3)\n",
    "    print('4 x',N,'=',N*4)\n",
    "    print('5 x',N,'=',N*5)\n",
    "    print('6 x',N,'=',N*6)\n",
    "    print('7 x',N,'=',N*7)\n",
    "    print('8 x',N,'=',N*8)\n",
    "    print('9 x',N,'=',N*9)\n",
    "    print('10 x',N,'=',N*10)\n",
    "    "
   ]
  },
  {
   "cell_type": "markdown",
   "metadata": {},
   "source": [
    "\n"
   ]
  },
  {
   "cell_type": "code",
   "execution_count": 34,
   "metadata": {},
   "outputs": [
    {
     "name": "stdout",
     "output_type": "stream",
     "text": [
      "3\n",
      "6.5 4.3 6.2\n",
      "5.1 4.2 8.1\n",
      "8.0 9.0 10.0\n",
      "5.7\n",
      "6.3\n",
      "9.3\n"
     ]
    }
   ],
   "source": [
    "N=int(input())\n",
    "lista=[]\n",
    "for i in range(1,N+1):\n",
    "    A,B,C=input().split()\n",
    "    A=float(A)\n",
    "    B=float(B)\n",
    "    C=float(C)\n",
    "    media=(2*A+3*B+5*C)/10\n",
    "    lista.append(media)\n",
    "for n in lista:\n",
    "    print('%.1f'%n)\n",
    "\n"
   ]
  },
  {
   "cell_type": "code",
   "execution_count": 83,
   "metadata": {},
   "outputs": [
    {
     "name": "stdout",
     "output_type": "stream",
     "text": [
      "33\n",
      "4\n",
      "6\n",
      "58\n",
      "4\n",
      "5\n",
      "58\n",
      "4\n"
     ]
    }
   ],
   "source": [
    "lista=[]\n",
    "ordem=[]\n",
    "for i in range(1,101):\n",
    "    A=int(input())\n",
    "    lista.append(A)\n",
    "    ordem.append(A)\n",
    "ordem.sort()\n",
    "print(ordem[-1])\n",
    "print(lista.index(ordem[-1])+1)\n"
   ]
  },
  {
   "cell_type": "code",
   "execution_count": 90,
   "metadata": {},
   "outputs": [
    {
     "name": "stdout",
     "output_type": "stream",
     "text": [
      "I=1 J=60\n",
      "I=4 J=55\n",
      "I=7 J=50\n",
      "I=10 J=45\n",
      "I=13 J=40\n",
      "I=16 J=35\n",
      "I=19 J=30\n",
      "I=22 J=25\n",
      "I=25 J=20\n",
      "I=28 J=15\n",
      "I=31 J=10\n",
      "I=34 J=5\n",
      "I=37 J=0\n"
     ]
    }
   ],
   "source": [
    "i=1\n",
    "j=60\n",
    "while j>=0:\n",
    "    print('I=%d J=%d'%(i,j))\n",
    "    i+=3\n",
    "    j+=-5"
   ]
  },
  {
   "cell_type": "code",
   "execution_count": 108,
   "metadata": {},
   "outputs": [],
   "source": [
    "def soma(x,y):\n",
    "    return x + y\n",
    "    "
   ]
  },
  {
   "cell_type": "code",
   "execution_count": 109,
   "metadata": {},
   "outputs": [
    {
     "data": {
      "text/plain": [
       "8"
      ]
     },
     "execution_count": 109,
     "metadata": {},
     "output_type": "execute_result"
    }
   ],
   "source": [
    "soma(5,3)"
   ]
  },
  {
   "cell_type": "code",
   "execution_count": 110,
   "metadata": {},
   "outputs": [],
   "source": [
    "a=soma(4,5)"
   ]
  },
  {
   "cell_type": "code",
   "execution_count": 112,
   "metadata": {},
   "outputs": [],
   "source": [
    "def diz_se_e_par(numero):\n",
    "    if numero%2 == 0:\n",
    "        return 'Par'\n",
    "    else:\n",
    "        return 'Ímpar'\n",
    "    "
   ]
  },
  {
   "cell_type": "code",
   "execution_count": 140,
   "metadata": {},
   "outputs": [
    {
     "name": "stdout",
     "output_type": "stream",
     "text": [
      "\u001b[H\u001b[2J"
     ]
    }
   ],
   "source": [
    "clear"
   ]
  },
  {
   "cell_type": "code",
   "execution_count": 141,
   "metadata": {},
   "outputs": [],
   "source": [
    "def soma2(*args):\n",
    "    print(args)\n",
    "    print('a soma é {}'.format(sum(args)))\n",
    "    return sum(args)"
   ]
  },
  {
   "cell_type": "markdown",
   "metadata": {},
   "source": []
  },
  {
   "cell_type": "code",
   "execution_count": 142,
   "metadata": {},
   "outputs": [
    {
     "name": "stdout",
     "output_type": "stream",
     "text": [
      "(12, 34, 56, 6)\n",
      "a soma é 108\n"
     ]
    },
    {
     "data": {
      "text/plain": [
       "108"
      ]
     },
     "execution_count": 142,
     "metadata": {},
     "output_type": "execute_result"
    }
   ],
   "source": [
    "soma2(12,34,56,6)"
   ]
  },
  {
   "cell_type": "code",
   "execution_count": 143,
   "metadata": {},
   "outputs": [],
   "source": [
    "lista=[1,2,3,4,5]"
   ]
  },
  {
   "cell_type": "code",
   "execution_count": 144,
   "metadata": {},
   "outputs": [
    {
     "name": "stdout",
     "output_type": "stream",
     "text": [
      "[1, 2, 3, 4, 5]\n"
     ]
    }
   ],
   "source": [
    "print(lista)"
   ]
  },
  {
   "cell_type": "code",
   "execution_count": 145,
   "metadata": {},
   "outputs": [
    {
     "data": {
      "text/plain": [
       "15"
      ]
     },
     "execution_count": 145,
     "metadata": {},
     "output_type": "execute_result"
    }
   ],
   "source": [
    "sum(lista)"
   ]
  },
  {
   "cell_type": "code",
   "execution_count": 161,
   "metadata": {},
   "outputs": [
    {
     "name": "stdout",
     "output_type": "stream",
     "text": [
      "I=1 J=7\n",
      "I=1 J=6\n",
      "I=1 J=5\n",
      "I=3 J=9\n",
      "I=3 J=8\n",
      "I=3 J=7\n",
      "I=5 J=11\n",
      "I=5 J=10\n",
      "I=5 J=9\n",
      "I=7 J=13\n",
      "I=7 J=12\n",
      "I=7 J=11\n",
      "I=9 J=15\n",
      "I=9 J=14\n",
      "I=9 J=13\n"
     ]
    }
   ],
   "source": [
    "i=1\n",
    "j=8\n",
    "while i!=9 or j!=13:\n",
    "    if j-i>4:\n",
    "        j+=-1\n",
    "    else:\n",
    "        i+=2\n",
    "        j=i+6\n",
    "    print('I=%d J=%d'%(i,j))"
   ]
  },
  {
   "cell_type": "code",
   "execution_count": null,
   "metadata": {},
   "outputs": [],
   "source": [
    "i=0\n",
    "j=0\n",
    "while i<2.2:\n",
    "    if j-i<3:\n",
    "        j+=1\n",
    "    else:\n",
    "        i+=0.2\n",
    "        j=i+1\n",
    "    print('I=%.1f J=%.1f'%(i,j))"
   ]
  },
  {
   "cell_type": "code",
   "execution_count": null,
   "metadata": {},
   "outputs": [],
   "source": [
    "clear()"
   ]
  },
  {
   "cell_type": "code",
   "execution_count": 173,
   "metadata": {},
   "outputs": [],
   "source": [
    "\n",
    "#Cuidado com valores altos na função abaixo\n",
    "def fibo_recursivo(n):\n",
    "    if n <= 0:\n",
    "        print('número inválido')\n",
    "        return\n",
    "    if n == 1:\n",
    "        return 0\n",
    "    elif n == 2:\n",
    "        return 1\n",
    "    else:\n",
    "        #print(fibo_recursivo(n-1) + fibo_recursivo(n-2))\n",
    "        return fibo_recursivo(n-1) + fibo_recursivo(n-2)"
   ]
  },
  {
   "cell_type": "code",
   "execution_count": 171,
   "metadata": {},
   "outputs": [
    {
     "data": {
      "text/plain": [
       "377"
      ]
     },
     "execution_count": 171,
     "metadata": {},
     "output_type": "execute_result"
    }
   ],
   "source": [
    "fibo_recursivo(15)"
   ]
  },
  {
   "cell_type": "code",
   "execution_count": 174,
   "metadata": {},
   "outputs": [],
   "source": [
    "lista = [1,2,3,'4',5,6.3,7.4 + 2j,\"123\",[1,2,3], 93, \"98\", (1,2,3,'4')]"
   ]
  },
  {
   "cell_type": "code",
   "execution_count": 175,
   "metadata": {},
   "outputs": [
    {
     "name": "stdout",
     "output_type": "stream",
     "text": [
      "[1, 2, 3, '4', 5, 6.3, (7.4+2j), '123', [1, 2, 3], 93, '98', (1, 2, 3, '4')]\n"
     ]
    }
   ],
   "source": [
    "def imprime_a_s(container):\n",
    "    for i in range(len(container)):\n",
    "        if i == 0:\n",
    "            print(container)-"
   ]
  },
  {
   "cell_type": "code",
   "execution_count": 176,
   "metadata": {},
   "outputs": [
    {
     "data": {
      "text/plain": [
       "12"
      ]
     },
     "execution_count": 176,
     "metadata": {},
     "output_type": "execute_result"
    }
   ],
   "source": [
    "len(lista)"
   ]
  },
  {
   "cell_type": "code",
   "execution_count": 177,
   "metadata": {},
   "outputs": [],
   "source": [
    "import time"
   ]
  },
  {
   "cell_type": "code",
   "execution_count": 191,
   "metadata": {},
   "outputs": [
    {
     "name": "stdout",
     "output_type": "stream",
     "text": [
      "\u001b[H\u001b[2J"
     ]
    }
   ],
   "source": [
    "clear"
   ]
  },
  {
   "cell_type": "code",
   "execution_count": 197,
   "metadata": {},
   "outputs": [
    {
     "data": {
      "text/plain": [
       "range(0, 11)"
      ]
     },
     "execution_count": 197,
     "metadata": {},
     "output_type": "execute_result"
    }
   ],
   "source": [
    "sequencia = range(11)\n",
    "sequencia"
   ]
  },
  {
   "cell_type": "code",
   "execution_count": 198,
   "metadata": {},
   "outputs": [
    {
     "data": {
      "text/plain": [
       "[0, 1, 2, 3, 4, 5, 6, 7, 8, 9, 10]"
      ]
     },
     "execution_count": 198,
     "metadata": {},
     "output_type": "execute_result"
    }
   ],
   "source": [
    "list(sequencia)"
   ]
  },
  {
   "cell_type": "code",
   "execution_count": 201,
   "metadata": {},
   "outputs": [
    {
     "data": {
      "text/plain": [
       "[0, 4, 16, 36, 64, 100]"
      ]
     },
     "execution_count": 201,
     "metadata": {},
     "output_type": "execute_result"
    }
   ],
   "source": [
    "\n",
    "[elemento**2 for elemento in sequencia if elemento%2==0]"
   ]
  },
  {
   "cell_type": "code",
   "execution_count": 196,
   "metadata": {},
   "outputs": [],
   "source": [
    "del list"
   ]
  },
  {
   "cell_type": "code",
   "execution_count": 202,
   "metadata": {},
   "outputs": [],
   "source": [
    "estringue='But I know the reason why you keep your silence up, oh no you don\\'t fool me'"
   ]
  },
  {
   "cell_type": "code",
   "execution_count": 203,
   "metadata": {},
   "outputs": [
    {
     "name": "stdout",
     "output_type": "stream",
     "text": [
      "But I know the reason why you keep your silence up, oh no you don't fool me\n"
     ]
    }
   ],
   "source": [
    "print(estringue)"
   ]
  },
  {
   "cell_type": "code",
   "execution_count": 205,
   "metadata": {},
   "outputs": [
    {
     "data": {
      "text/plain": [
       "['But',\n",
       " 'I',\n",
       " 'know',\n",
       " 'the',\n",
       " 'reason',\n",
       " 'why',\n",
       " 'you',\n",
       " 'keep',\n",
       " 'your',\n",
       " 'silence',\n",
       " 'up,',\n",
       " 'oh',\n",
       " 'no',\n",
       " 'you',\n",
       " \"don't\",\n",
       " 'fool',\n",
       " 'me']"
      ]
     },
     "execution_count": 205,
     "metadata": {},
     "output_type": "execute_result"
    }
   ],
   "source": [
    "estringue.split()"
   ]
  },
  {
   "cell_type": "code",
   "execution_count": 206,
   "metadata": {},
   "outputs": [
    {
     "name": "stdout",
     "output_type": "stream",
     "text": [
      "But I know the reason why you keep your silence up, oh no you don't fool me\n"
     ]
    }
   ],
   "source": [
    "print(estringue)"
   ]
  },
  {
   "cell_type": "code",
   "execution_count": 207,
   "metadata": {},
   "outputs": [],
   "source": [
    "k=estringue.split()"
   ]
  },
  {
   "cell_type": "code",
   "execution_count": 208,
   "metadata": {},
   "outputs": [
    {
     "name": "stdout",
     "output_type": "stream",
     "text": [
      "['But', 'I', 'know', 'the', 'reason', 'why', 'you', 'keep', 'your', 'silence', 'up,', 'oh', 'no', 'you', \"don't\", 'fool', 'me']\n"
     ]
    }
   ],
   "source": [
    "print(k)"
   ]
  },
  {
   "cell_type": "code",
   "execution_count": 209,
   "metadata": {},
   "outputs": [
    {
     "data": {
      "text/plain": [
       "['but',\n",
       " 'i',\n",
       " 'know',\n",
       " 'the',\n",
       " 'reason',\n",
       " 'why',\n",
       " 'you',\n",
       " 'keep',\n",
       " 'your',\n",
       " 'silence',\n",
       " 'up,',\n",
       " 'oh',\n",
       " 'no',\n",
       " 'you',\n",
       " \"don't\",\n",
       " 'fool',\n",
       " 'me']"
      ]
     },
     "execution_count": 209,
     "metadata": {},
     "output_type": "execute_result"
    }
   ],
   "source": [
    "[palavra.lower() for palavra in k]"
   ]
  },
  {
   "cell_type": "code",
   "execution_count": 220,
   "metadata": {},
   "outputs": [],
   "source": [
    "[palavra.upper() for palavra in k]\n",
    "import string"
   ]
  },
  {
   "cell_type": "code",
   "execution_count": 222,
   "metadata": {},
   "outputs": [
    {
     "data": {
      "text/plain": [
       "'pala.vra'"
      ]
     },
     "execution_count": 222,
     "metadata": {},
     "output_type": "execute_result"
    }
   ],
   "source": [
    "'.pala.vra.'.strip(string.punctuation)\n"
   ]
  },
  {
   "cell_type": "code",
   "execution_count": 227,
   "metadata": {},
   "outputs": [
    {
     "name": "stdout",
     "output_type": "stream",
     "text": [
      "['but', 'i', 'know', 'the', 'reason', 'why', 'you', 'keep', 'your', 'silence', 'up', 'oh', 'no', 'you', \"don't\", 'fool', 'me']\n",
      "['reason', 'your']\n"
     ]
    }
   ],
   "source": [
    "palavras = [p.lower().strip(string.punctuation) for p in k]\n",
    "escolhidas = [p for p in palavras if 'r' in p]\n",
    "print(palavras)\n",
    "print(escolhidas)\n"
   ]
  },
  {
   "cell_type": "code",
   "execution_count": 228,
   "metadata": {},
   "outputs": [
    {
     "data": {
      "text/plain": [
       "['1-HOME-SWEET-HOME']"
      ]
     },
     "execution_count": 228,
     "metadata": {},
     "output_type": "execute_result"
    }
   ],
   "source": [
    "k=\"1-HOME-SWEET-HOME\"\n",
    "k.split()"
   ]
  },
  {
   "cell_type": "code",
   "execution_count": 233,
   "metadata": {},
   "outputs": [
    {
     "name": "stdout",
     "output_type": "stream",
     "text": [
      "[0, 1, 2, 3, 4, 5, 6, 7, 8]\n"
     ]
    }
   ],
   "source": [
    "popo=list(range(0,9))\n",
    "print(popo)"
   ]
  },
  {
   "cell_type": "code",
   "execution_count": 234,
   "metadata": {},
   "outputs": [],
   "source": [
    "dic={}"
   ]
  },
  {
   "cell_type": "code",
   "execution_count": 235,
   "metadata": {},
   "outputs": [],
   "source": [
    "dic['meu pau']=30"
   ]
  },
  {
   "cell_type": "code",
   "execution_count": 236,
   "metadata": {},
   "outputs": [
    {
     "name": "stdout",
     "output_type": "stream",
     "text": [
      "{'meu pau': 30}\n"
     ]
    }
   ],
   "source": [
    "print(dic)"
   ]
  },
  {
   "cell_type": "code",
   "execution_count": 237,
   "metadata": {},
   "outputs": [],
   "source": [
    "dic['Danillo']=666"
   ]
  },
  {
   "cell_type": "code",
   "execution_count": 238,
   "metadata": {},
   "outputs": [
    {
     "name": "stdout",
     "output_type": "stream",
     "text": [
      "{'Danillo': 666, 'meu pau': 30}\n"
     ]
    }
   ],
   "source": [
    "print(dic)"
   ]
  },
  {
   "cell_type": "code",
   "execution_count": 249,
   "metadata": {},
   "outputs": [],
   "source": [
    "import matplotlib.pyplot as plt\n",
    "import numpy as np\n"
   ]
  },
  {
   "cell_type": "code",
   "execution_count": 243,
   "metadata": {},
   "outputs": [
    {
     "data": {
      "image/png": "[encoded data removed]",
      "text/plain": [
       "<Figure size 432x288 with 1 Axes>"
      ]
     },
     "metadata": {},
     "output_type": "display_data"
    }
   ],
   "source": [
    "plt.plot([1,2,3,4])\n",
    "plt.ylabel('some numbers')\n",
    "plt.axis([0,9,0,10])\n",
    "plt.show()"
   ]
  },
  {
   "cell_type": "code",
   "execution_count": 250,
   "metadata": {},
   "outputs": [
    {
     "data": {
      "image/png": "[encoded data removed]",
      "text/plain": [
       "<Figure size 864x576 with 2 Axes>"
      ]
     },
     "metadata": {},
     "output_type": "display_data"
    }
   ],
   "source": [
    "x = np.linspace(-100, 100, 10000)\n",
    "y1 = 2*x**2 - 10*x - 32\n",
    "y2 = 2*x**3 - 12*x**2 + 4*x +2\n",
    "y3 = np.zeros(10000)\n",
    "\n",
    "fig, ax = plt.subplots(1,2, figsize=(12,8))\n",
    "ax[0].plot(x,y1)\n",
    "ax[0].plot(x,y3)\n",
    "ax[0].set_xlim([-30,30])\n",
    "ax[0].set_ylim([-55,400])\n",
    "\n",
    "ax[1].plot(x,y2)\n",
    "ax[1].plot(x,y3)\n",
    "ax[1].set_xlim([-10,12])\n",
    "ax[1].set_ylim([-50,10])\n",
    "\n",
    "plt.show()"
   ]
  },
  {
   "cell_type": "code",
   "execution_count": 2,
   "metadata": {},
   "outputs": [],
   "source": [
    "def gera_quadrados(x):\n",
    "    while True:\n",
    "        yield(x**2)\n",
    "        x+=1"
   ]
  },
  {
   "cell_type": "code",
   "execution_count": 3,
   "metadata": {},
   "outputs": [],
   "source": [
    "gen5 = gera_quadrados(1)"
   ]
  },
  {
   "cell_type": "code",
   "execution_count": 23,
   "metadata": {},
   "outputs": [
    {
     "data": {
      "text/plain": [
       "400"
      ]
     },
     "execution_count": 23,
     "metadata": {},
     "output_type": "execute_result"
    }
   ],
   "source": [
    "next(gen5)"
   ]
  },
  {
   "cell_type": "code",
   "execution_count": 27,
   "metadata": {},
   "outputs": [],
   "source": [
    "import random"
   ]
  },
  {
   "cell_type": "code",
   "execution_count": 31,
   "metadata": {},
   "outputs": [],
   "source": [
    "lista=[1,2,2,3,3,3,4,4,4,4,5,5,5,5,5,6,6,6,6,6,6,7,7,7,7,7,7,7,8,8,8,8,8,8,8,8]"
   ]
  },
  {
   "cell_type": "code",
   "execution_count": 32,
   "metadata": {},
   "outputs": [],
   "source": [
    "def gerador():\n",
    "    while True:\n",
    "        k=random.choice(lista)\n",
    "        yield k"
   ]
  },
  {
   "cell_type": "code",
   "execution_count": 33,
   "metadata": {},
   "outputs": [],
   "source": [
    "gen=gerador()"
   ]
  },
  {
   "cell_type": "code",
   "execution_count": 35,
   "metadata": {},
   "outputs": [
    {
     "data": {
      "text/plain": [
       "5"
      ]
     },
     "execution_count": 35,
     "metadata": {},
     "output_type": "execute_result"
    }
   ],
   "source": [
    "next(gen)"
   ]
  },
  {
   "cell_type": "code",
   "execution_count": 36,
   "metadata": {},
   "outputs": [],
   "source": [
    "class inutil:\n",
    "    pass"
   ]
  },
  {
   "cell_type": "code",
   "execution_count": 37,
   "metadata": {},
   "outputs": [
    {
     "data": {
      "text/plain": [
       "__main__.inutil"
      ]
     },
     "execution_count": 37,
     "metadata": {},
     "output_type": "execute_result"
    }
   ],
   "source": [
    "inutil"
   ]
  },
  {
   "cell_type": "code",
   "execution_count": 38,
   "metadata": {},
   "outputs": [
    {
     "data": {
      "text/plain": [
       "['__class__',\n",
       " '__delattr__',\n",
       " '__dict__',\n",
       " '__dir__',\n",
       " '__doc__',\n",
       " '__eq__',\n",
       " '__format__',\n",
       " '__ge__',\n",
       " '__getattribute__',\n",
       " '__gt__',\n",
       " '__hash__',\n",
       " '__init__',\n",
       " '__le__',\n",
       " '__lt__',\n",
       " '__module__',\n",
       " '__ne__',\n",
       " '__new__',\n",
       " '__reduce__',\n",
       " '__reduce_ex__',\n",
       " '__repr__',\n",
       " '__setattr__',\n",
       " '__sizeof__',\n",
       " '__str__',\n",
       " '__subclasshook__',\n",
       " '__weakref__']"
      ]
     },
     "execution_count": 38,
     "metadata": {},
     "output_type": "execute_result"
    }
   ],
   "source": [
    "dir(inutil)"
   ]
  },
  {
   "cell_type": "code",
   "execution_count": 42,
   "metadata": {},
   "outputs": [],
   "source": [
    "alguma_instancia = inutil()"
   ]
  },
  {
   "cell_type": "code",
   "execution_count": 58,
   "metadata": {},
   "outputs": [
    {
     "data": {
      "text/plain": [
       "['__class__',\n",
       " '__delattr__',\n",
       " '__dict__',\n",
       " '__dir__',\n",
       " '__doc__',\n",
       " '__eq__',\n",
       " '__format__',\n",
       " '__ge__',\n",
       " '__getattribute__',\n",
       " '__gt__',\n",
       " '__hash__',\n",
       " '__init__',\n",
       " '__le__',\n",
       " '__lt__',\n",
       " '__module__',\n",
       " '__ne__',\n",
       " '__new__',\n",
       " '__reduce__',\n",
       " '__reduce_ex__',\n",
       " '__repr__',\n",
       " '__setattr__',\n",
       " '__sizeof__',\n",
       " '__str__',\n",
       " '__subclasshook__',\n",
       " '__weakref__']"
      ]
     },
     "execution_count": 58,
     "metadata": {},
     "output_type": "execute_result"
    }
   ],
   "source": [
    "dir(alguma_instancia)\n"
   ]
  },
  {
   "cell_type": "code",
   "execution_count": 8,
   "metadata": {},
   "outputs": [],
   "source": [
    "class MyClass:\n",
    "    \"\"\"\n",
    "    Aqui eu vou colocar\n",
    "    uma string que define as\n",
    "    principais informações sobre\n",
    "    a classe que estou criando\n",
    "    \"\"\"\n",
    "    \n",
    "    atributo_da_classe = 1234\n",
    "    outro_atributo = 5678\n",
    "    \n",
    "    def metodo_da_classe(self):\n",
    "        return 'Olá povo!'"
   ]
  },
  {
   "cell_type": "code",
   "execution_count": 9,
   "metadata": {},
   "outputs": [],
   "source": [
    "x=MyClass()"
   ]
  },
  {
   "cell_type": "code",
   "execution_count": 14,
   "metadata": {},
   "outputs": [
    {
     "data": {
      "text/plain": [
       "4321"
      ]
     },
     "execution_count": 14,
     "metadata": {},
     "output_type": "execute_result"
    }
   ],
   "source": [
    "x.atributo_da_classe"
   ]
  },
  {
   "cell_type": "code",
   "execution_count": 13,
   "metadata": {},
   "outputs": [],
   "source": [
    "x.atributo_da_classe = 4321"
   ]
  },
  {
   "cell_type": "code",
   "execution_count": 15,
   "metadata": {},
   "outputs": [],
   "source": [
    "\n",
    "class MyComplex:\n",
    "    def __init__(self, realpart, imagpart):\n",
    "        self.r = realpart\n",
    "        self.i = imagpart"
   ]
  },
  {
   "cell_type": "code",
   "execution_count": 16,
   "metadata": {},
   "outputs": [],
   "source": [
    "z = MyComplex(2,-4)\n",
    "j = MyComplex(13,12)"
   ]
  },
  {
   "cell_type": "code",
   "execution_count": 17,
   "metadata": {},
   "outputs": [
    {
     "data": {
      "text/plain": [
       "-4"
      ]
     },
     "execution_count": 17,
     "metadata": {},
     "output_type": "execute_result"
    }
   ],
   "source": [
    "z.i"
   ]
  },
  {
   "cell_type": "code",
   "execution_count": 19,
   "metadata": {},
   "outputs": [],
   "source": [
    "class Pessoa:\n",
    "\n",
    "    def __init__(self, nome):\n",
    "        self.nome = nome\n",
    "\n",
    "    def __str__(self):\n",
    "        return self.nome"
   ]
  },
  {
   "cell_type": "code",
   "execution_count": 20,
   "metadata": {},
   "outputs": [],
   "source": [
    "danny=Pessoa('Danillo')"
   ]
  },
  {
   "cell_type": "code",
   "execution_count": 22,
   "metadata": {},
   "outputs": [
    {
     "name": "stdout",
     "output_type": "stream",
     "text": [
      "Danillo\n"
     ]
    }
   ],
   "source": [
    "print(danny)"
   ]
  },
  {
   "cell_type": "code",
   "execution_count": 1,
   "metadata": {},
   "outputs": [],
   "source": [
    "class User:\n",
    "\n",
    "    seq = 0\n",
    "    objects = []\n",
    "\n",
    "    def __init__(self, nome, idade):\n",
    "        self.id = None\n",
    "        self.nome = nome\n",
    "        self.idade = idade\n",
    "\n",
    "    def save(self):     #acho que so bota os parenteses quando o metodo nao printa nada\n",
    "        self.__class__.seq += 1\n",
    "        self.id = self.__class__.seq\n",
    "        self.__class__.objects.append(self)\n",
    "\n",
    "    def __str__(self):   #aparentemente isso é pra quando vc vai dar print na instância\n",
    "        return self.nome\n",
    "    \n",
    "   \n",
    "    def __repr__(self): # aparentemente isso representa a instância, veja que isso deu o append no objects(self) \n",
    "        return '<{}: {} - {} - {}>\\n'.format(self.__class__.__name__, self.id, self.nome, self.idade)\n"
   ]
  },
  {
   "cell_type": "code",
   "execution_count": 2,
   "metadata": {},
   "outputs": [],
   "source": [
    "u1 = User('Regis', 35)\n",
    "u2 = User('Fabio',20)"
   ]
  },
  {
   "cell_type": "code",
   "execution_count": 3,
   "metadata": {},
   "outputs": [],
   "source": [
    "u1.save()\n",
    "u2.save()"
   ]
  },
  {
   "cell_type": "code",
   "execution_count": 22,
   "metadata": {},
   "outputs": [
    {
     "data": {
      "text/plain": [
       "<User: 1 - Regis - 35>"
      ]
     },
     "execution_count": 22,
     "metadata": {},
     "output_type": "execute_result"
    }
   ],
   "source": [
    "u1"
   ]
  },
  {
   "cell_type": "code",
   "execution_count": 41,
   "metadata": {},
   "outputs": [
    {
     "data": {
      "text/plain": [
       "[<User: 1 - Regis - 35>, <User: 2 - Fabio - 20>]"
      ]
     },
     "execution_count": 41,
     "metadata": {},
     "output_type": "execute_result"
    }
   ],
   "source": [
    "u1.objects"
   ]
  },
  {
   "cell_type": "code",
   "execution_count": 29,
   "metadata": {},
   "outputs": [],
   "source": [
    "class Triangulo:\n",
    "    def __init__(self,lado1,lado2,lado3):\n",
    "        self.lado1 = lado1\n",
    "        self.lado2 = lado2\n",
    "        self.lado3 = lado3\n",
    "        \n",
    "        \n",
    "    def __repr__(self):\n",
    "        return \"Triangulo nas paradas\"\n",
    "        \n",
    "    def tipo(self):  # note que apos darmos um primeiro tipo() ocorre um print e a self.tipo=... depois nao faz mais\n",
    "        if self.lado1 == self.lado2 and self.lado1 == self.lado3:\n",
    "            print('equilátero')\n",
    "            self.tipo = 'equilátero'\n",
    "        elif self.lado1 == self.lado2 or \\\n",
    "             self.lado1 == self.lado3 or \\\n",
    "             self.lado2 == self.lado3:\n",
    "            print('isósceles')\n",
    "            self.tipo = 'isósceles'\n",
    "        else:\n",
    "            print('escaleno')\n",
    "            self.tipo = 'escaleno'"
   ]
  },
  {
   "cell_type": "code",
   "execution_count": 30,
   "metadata": {},
   "outputs": [],
   "source": [
    "t=Triangulo(5,5,5)"
   ]
  },
  {
   "cell_type": "code",
   "execution_count": 31,
   "metadata": {},
   "outputs": [
    {
     "name": "stdout",
     "output_type": "stream",
     "text": [
      "Triangulo nas paradas\n"
     ]
    }
   ],
   "source": [
    "print(t)"
   ]
  },
  {
   "cell_type": "code",
   "execution_count": 34,
   "metadata": {},
   "outputs": [
    {
     "data": {
      "text/plain": [
       "'equilátero'"
      ]
     },
     "execution_count": 34,
     "metadata": {},
     "output_type": "execute_result"
    }
   ],
   "source": [
    "t.tipo"
   ]
  },
  {
   "cell_type": "code",
   "execution_count": 6,
   "metadata": {},
   "outputs": [
    {
     "data": {
      "text/plain": [
       "__main__.Triangulo"
      ]
     },
     "execution_count": 6,
     "metadata": {},
     "output_type": "execute_result"
    }
   ],
   "source": [
    "Triangulo\n",
    "\n"
   ]
  },
  {
   "cell_type": "code",
   "execution_count": 1,
   "metadata": {},
   "outputs": [],
   "source": [
    "class Dog:\n",
    "    def __init__(self, name, raca='vira lata'):\n",
    "        self.name = name\n",
    "        self.raca = raca\n",
    "        self.tricks = []\n",
    "\n",
    "    def add_trick(self, trick):\n",
    "        if not trick in self.tricks:\n",
    "            self.tricks.append(trick)"
   ]
  },
  {
   "cell_type": "code",
   "execution_count": 51,
   "metadata": {},
   "outputs": [],
   "source": [
    "d = Dog('Fido','Pastor Alemao')\n",
    "e = Dog('Buddy','Cocker')\n",
    "f = Dog('Rex')\n",
    "d.add_trick('Rolar')\n",
    "e.add_trick('Fingir-se de morto')\n",
    "d.add_trick('Pedir Comida')"
   ]
  },
  {
   "cell_type": "code",
   "execution_count": 47,
   "metadata": {},
   "outputs": [
    {
     "data": {
      "text/plain": [
       "'Fido'"
      ]
     },
     "execution_count": 47,
     "metadata": {},
     "output_type": "execute_result"
    }
   ],
   "source": [
    "d.name"
   ]
  },
  {
   "cell_type": "code",
   "execution_count": 54,
   "metadata": {},
   "outputs": [
    {
     "data": {
      "text/plain": [
       "'Doberman'"
      ]
     },
     "execution_count": 54,
     "metadata": {},
     "output_type": "execute_result"
    }
   ],
   "source": [
    "f.raca"
   ]
  },
  {
   "cell_type": "code",
   "execution_count": 52,
   "metadata": {},
   "outputs": [
    {
     "data": {
      "text/plain": [
       "['Rolar', 'Pedir Comida']"
      ]
     },
     "execution_count": 52,
     "metadata": {},
     "output_type": "execute_result"
    }
   ],
   "source": [
    "d.tricks\n"
   ]
  },
  {
   "cell_type": "code",
   "execution_count": 53,
   "metadata": {},
   "outputs": [],
   "source": [
    "f = Dog('Rex','Doberman')"
   ]
  },
  {
   "cell_type": "code",
   "execution_count": 2,
   "metadata": {},
   "outputs": [],
   "source": [
    "import time\n",
    "class SuperDog(Dog):\n",
    "    \n",
    "    def __init__(self, name, raca, rabo):\n",
    "        Dog.__init__(self, name, raca)\n",
    "        self.comida = False\n",
    "        self.adestrado = False\n",
    "        self.ultima_refeicao = time.time()\n",
    "        self.rabo=rabo\n",
    "        \n",
    "        \n",
    "    def esta_com_fome(self):\n",
    "        if time.time() - self.ultima_refeicao < 5:\n",
    "            print('Não')\n",
    "        else:\n",
    "            print('Sim, a última refeição foi')\n",
    "            print('há {:.2f} min'.format((time.time() - self.ultima_refeicao)/60))\n",
    "    \n",
    "    def adestra(self):\n",
    "        self.adestrado = True\n",
    "    \n",
    "    def alimenta(self):\n",
    "        self.ultima_refeicao = time.time()"
   ]
  },
  {
   "cell_type": "code",
   "execution_count": 4,
   "metadata": {},
   "outputs": [],
   "source": [
    "d = SuperDog('Fido','Pastor Alemao','grandao')"
   ]
  },
  {
   "cell_type": "code",
   "execution_count": 5,
   "metadata": {},
   "outputs": [
    {
     "data": {
      "text/plain": [
       "'grandao'"
      ]
     },
     "execution_count": 5,
     "metadata": {},
     "output_type": "execute_result"
    }
   ],
   "source": [
    "d.rabo"
   ]
  },
  {
   "cell_type": "code",
   "execution_count": 94,
   "metadata": {},
   "outputs": [
    {
     "name": "stdout",
     "output_type": "stream",
     "text": [
      "Não\n"
     ]
    }
   ],
   "source": [
    "d.esta_com_fome()"
   ]
  },
  {
   "cell_type": "code",
   "execution_count": 65,
   "metadata": {},
   "outputs": [
    {
     "data": {
      "text/plain": [
       "True"
      ]
     },
     "execution_count": 65,
     "metadata": {},
     "output_type": "execute_result"
    }
   ],
   "source": [
    "d.adestrado"
   ]
  },
  {
   "cell_type": "code",
   "execution_count": 68,
   "metadata": {},
   "outputs": [],
   "source": [
    "d.adestra()"
   ]
  },
  {
   "cell_type": "code",
   "execution_count": 80,
   "metadata": {},
   "outputs": [],
   "source": [
    "d.add_trick('lamber as propias bolas')"
   ]
  },
  {
   "cell_type": "code",
   "execution_count": 81,
   "metadata": {},
   "outputs": [
    {
     "data": {
      "text/plain": [
       "['lamber as propias bolas']"
      ]
     },
     "execution_count": 81,
     "metadata": {},
     "output_type": "execute_result"
    }
   ],
   "source": [
    "d.tricks"
   ]
  },
  {
   "cell_type": "code",
   "execution_count": 1,
   "metadata": {},
   "outputs": [],
   "source": [
    "class Calculadora:\n",
    "\n",
    "    def __init__(self, a, b):\n",
    "        self.a = a\n",
    "        self.b = b\n",
    "\n",
    "    def soma(self):\n",
    "        return self.a + self.b\n",
    "\n",
    "    def subtrai(self):\n",
    "        return self.a - self.b\n",
    "\n",
    "    def multiplica(self):\n",
    "        return self.a * self.b\n",
    "\n",
    "    def divide(self):\n",
    "        return self.a / self.b"
   ]
  },
  {
   "cell_type": "code",
   "execution_count": 2,
   "metadata": {},
   "outputs": [],
   "source": [
    "poc=Calculadora(3,4)"
   ]
  },
  {
   "cell_type": "code",
   "execution_count": 8,
   "metadata": {},
   "outputs": [
    {
     "data": {
      "text/plain": [
       "0.75"
      ]
     },
     "execution_count": 8,
     "metadata": {},
     "output_type": "execute_result"
    }
   ],
   "source": [
    "poc.divide()"
   ]
  },
  {
   "cell_type": "code",
   "execution_count": 6,
   "metadata": {},
   "outputs": [],
   "source": [
    "import random\n"
   ]
  },
  {
   "cell_type": "code",
   "execution_count": 8,
   "metadata": {},
   "outputs": [
    {
     "name": "stdout",
     "output_type": "stream",
     "text": [
      "['BPF', 'LOG4', 'NV_MAGICCONST', 'RECIP_BPF', 'Random', 'SG_MAGICCONST', 'SystemRandom', 'TWOPI', '_BuiltinMethodType', '_MethodType', '_Sequence', '_Set', '__all__', '__builtins__', '__cached__', '__doc__', '__file__', '__loader__', '__name__', '__package__', '__spec__', '_acos', '_ceil', '_cos', '_e', '_exp', '_inst', '_log', '_pi', '_random', '_sha512', '_sin', '_sqrt', '_test', '_test_generator', '_urandom', '_warn', 'betavariate', 'choice', 'expovariate', 'gammavariate', 'gauss', 'getrandbits', 'getstate', 'lognormvariate', 'normalvariate', 'paretovariate', 'randint', 'random', 'randrange', 'sample', 'seed', 'setstate', 'shuffle', 'triangular', 'uniform', 'vonmisesvariate', 'weibullvariate']\n"
     ]
    }
   ],
   "source": [
    "print(dir(random))"
   ]
  },
  {
   "cell_type": "code",
   "execution_count": 11,
   "metadata": {},
   "outputs": [
    {
     "ename": "TypeError",
     "evalue": "'module' object is not callable",
     "output_type": "error",
     "traceback": [
      "\u001b[0;31m---------------------------------------------------------------------------\u001b[0m",
      "\u001b[0;31mTypeError\u001b[0m                                 Traceback (most recent call last)",
      "\u001b[0;32m<ipython-input-11-347a394b3b57>\u001b[0m in \u001b[0;36m<module>\u001b[0;34m()\u001b[0m\n\u001b[0;32m----> 1\u001b[0;31m \u001b[0mrandom\u001b[0m\u001b[0;34m(\u001b[0m\u001b[0;34m)\u001b[0m\u001b[0;34m\u001b[0m\u001b[0m\n\u001b[0m",
      "\u001b[0;31mTypeError\u001b[0m: 'module' object is not callable"
     ]
    }
   ],
   "source": [
    "random()"
   ]
  },
  {
   "cell_type": "code",
   "execution_count": 1,
   "metadata": {},
   "outputs": [],
   "source": [
    "strin='abcdf'"
   ]
  },
  {
   "cell_type": "code",
   "execution_count": 2,
   "metadata": {},
   "outputs": [
    {
     "data": {
      "text/plain": [
       "'a'"
      ]
     },
     "execution_count": 2,
     "metadata": {},
     "output_type": "execute_result"
    }
   ],
   "source": [
    "strin[0]"
   ]
  },
  {
   "cell_type": "code",
   "execution_count": 3,
   "metadata": {},
   "outputs": [],
   "source": [
    "grupo=['1asdfawerf','asdvfgernys','w4rfe4tg']\n"
   ]
  },
  {
   "cell_type": "code",
   "execution_count": 5,
   "metadata": {},
   "outputs": [
    {
     "name": "stdout",
     "output_type": "stream",
     "text": [
      "1\n",
      "a\n",
      "w\n"
     ]
    }
   ],
   "source": [
    "for k in grupo:\n",
    "    print(k[0])"
   ]
  },
  {
   "cell_type": "code",
   "execution_count": 6,
   "metadata": {},
   "outputs": [],
   "source": [
    "ficha = {'Peso':73, 'Altura':183, 'Idade':44, 'Nome':'Renato'}"
   ]
  },
  {
   "cell_type": "code",
   "execution_count": 9,
   "metadata": {},
   "outputs": [
    {
     "ename": "SyntaxError",
     "evalue": "invalid syntax (<ipython-input-9-4b7859c715d7>, line 1)",
     "output_type": "error",
     "traceback": [
      "\u001b[0;36m  File \u001b[0;32m\"<ipython-input-9-4b7859c715d7>\"\u001b[0;36m, line \u001b[0;32m1\u001b[0m\n\u001b[0;31m    ficha{0}\u001b[0m\n\u001b[0m         ^\u001b[0m\n\u001b[0;31mSyntaxError\u001b[0m\u001b[0;31m:\u001b[0m invalid syntax\n"
     ]
    }
   ],
   "source": [
    "ficha"
   ]
  },
  {
   "cell_type": "code",
   "execution_count": 1,
   "metadata": {},
   "outputs": [],
   "source": [
    "import string\n"
   ]
  },
  {
   "cell_type": "code",
   "execution_count": 22,
   "metadata": {},
   "outputs": [],
   "source": [
    "s='dfdsvfer.:sfddsf`'\n"
   ]
  },
  {
   "cell_type": "code",
   "execution_count": 12,
   "metadata": {},
   "outputs": [
    {
     "data": {
      "text/plain": [
       "'!\"#$%&\\'()*+,-./:;<=>?@[\\\\]^_`{|}~'"
      ]
     },
     "execution_count": 12,
     "metadata": {},
     "output_type": "execute_result"
    }
   ],
   "source": [
    "string.punctuation"
   ]
  },
  {
   "cell_type": "code",
   "execution_count": 25,
   "metadata": {},
   "outputs": [
    {
     "data": {
      "text/plain": [
       "'dfdsvfer.:sfddsf`'"
      ]
     },
     "execution_count": 25,
     "metadata": {},
     "output_type": "execute_result"
    }
   ],
   "source": [
    "s.translate(string.punctuation)"
   ]
  },
  {
   "cell_type": "code",
   "execution_count": 24,
   "metadata": {},
   "outputs": [
    {
     "ename": "TypeError",
     "evalue": "translate() takes exactly one argument (2 given)",
     "output_type": "error",
     "traceback": [
      "\u001b[0;31m---------------------------------------------------------------------------\u001b[0m",
      "\u001b[0;31mTypeError\u001b[0m                                 Traceback (most recent call last)",
      "\u001b[0;32m<ipython-input-24-08215435084a>\u001b[0m in \u001b[0;36m<module>\u001b[0;34m()\u001b[0m\n\u001b[0;32m----> 1\u001b[0;31m \u001b[0mprint\u001b[0m\u001b[0;34m(\u001b[0m\u001b[0ms\u001b[0m\u001b[0;34m.\u001b[0m\u001b[0mtranslate\u001b[0m\u001b[0;34m(\u001b[0m\u001b[0;32mNone\u001b[0m\u001b[0;34m,\u001b[0m \u001b[0mstring\u001b[0m\u001b[0;34m.\u001b[0m\u001b[0mpunctuation\u001b[0m\u001b[0;34m)\u001b[0m\u001b[0;34m)\u001b[0m\u001b[0;34m\u001b[0m\u001b[0m\n\u001b[0m",
      "\u001b[0;31mTypeError\u001b[0m: translate() takes exactly one argument (2 given)"
     ]
    }
   ],
   "source": [
    "print(s.translate(None, string.punctuation))"
   ]
  },
  {
   "cell_type": "code",
   "execution_count": 10,
   "metadata": {},
   "outputs": [],
   "source": [
    "k=''"
   ]
  },
  {
   "cell_type": "code",
   "execution_count": 6,
   "metadata": {},
   "outputs": [],
   "source": [
    "k=('!\"#$%&\\'()*+,-./:;<=>?@[\\\\]^_`{|}~')"
   ]
  },
  {
   "cell_type": "code",
   "execution_count": 29,
   "metadata": {},
   "outputs": [
    {
     "data": {
      "text/plain": [
       "'ABCDEFGHIJKLMNOPQRSTUVWXYZ'"
      ]
     },
     "execution_count": 29,
     "metadata": {},
     "output_type": "execute_result"
    }
   ],
   "source": [
    "string.ascii_uppercase"
   ]
  },
  {
   "cell_type": "code",
   "execution_count": 30,
   "metadata": {},
   "outputs": [],
   "source": [
    "grande=[string.ascii_uppercase]"
   ]
  },
  {
   "cell_type": "code",
   "execution_count": 31,
   "metadata": {},
   "outputs": [
    {
     "data": {
      "text/plain": [
       "['ABCDEFGHIJKLMNOPQRSTUVWXYZ']"
      ]
     },
     "execution_count": 31,
     "metadata": {},
     "output_type": "execute_result"
    }
   ],
   "source": [
    "grande\n"
   ]
  },
  {
   "cell_type": "code",
   "execution_count": 11,
   "metadata": {},
   "outputs": [
    {
     "ename": "IndexError",
     "evalue": "string index out of range",
     "output_type": "error",
     "traceback": [
      "\u001b[0;31m---------------------------------------------------------------------------\u001b[0m",
      "\u001b[0;31mIndexError\u001b[0m                                Traceback (most recent call last)",
      "\u001b[0;32m<ipython-input-11-b4ab567bcd7d>\u001b[0m in \u001b[0;36m<module>\u001b[0;34m()\u001b[0m\n\u001b[0;32m----> 1\u001b[0;31m \u001b[0mk\u001b[0m\u001b[0;34m[\u001b[0m\u001b[0;36m0\u001b[0m\u001b[0;34m]\u001b[0m\u001b[0;34m\u001b[0m\u001b[0m\n\u001b[0m",
      "\u001b[0;31mIndexError\u001b[0m: string index out of range"
     ]
    }
   ],
   "source": [
    "k[0]"
   ]
  },
  {
   "cell_type": "code",
   "execution_count": 14,
   "metadata": {},
   "outputs": [
    {
     "name": "stdout",
     "output_type": "stream",
     "text": [
      "range(0, 9)\n"
     ]
    }
   ],
   "source": [
    "list=range(9)\n",
    "print(list)"
   ]
  },
  {
   "cell_type": "code",
   "execution_count": 2,
   "metadata": {},
   "outputs": [],
   "source": [
    "import string"
   ]
  },
  {
   "cell_type": "code",
   "execution_count": 3,
   "metadata": {},
   "outputs": [],
   "source": [
    "k='asfsad'"
   ]
  },
  {
   "cell_type": "code",
   "execution_count": 4,
   "metadata": {},
   "outputs": [
    {
     "data": {
      "text/plain": [
       "<function str.upper>"
      ]
     },
     "execution_count": 4,
     "metadata": {},
     "output_type": "execute_result"
    }
   ],
   "source": [
    "k.upper"
   ]
  },
  {
   "cell_type": "code",
   "execution_count": 5,
   "metadata": {},
   "outputs": [
    {
     "data": {
      "text/plain": [
       "'ASFSAD'"
      ]
     },
     "execution_count": 5,
     "metadata": {},
     "output_type": "execute_result"
    }
   ],
   "source": [
    "k.upper()"
   ]
  },
  {
   "cell_type": "code",
   "execution_count": 6,
   "metadata": {},
   "outputs": [],
   "source": [
    "k='á'"
   ]
  },
  {
   "cell_type": "code",
   "execution_count": 7,
   "metadata": {},
   "outputs": [
    {
     "data": {
      "text/plain": [
       "'Á'"
      ]
     },
     "execution_count": 7,
     "metadata": {},
     "output_type": "execute_result"
    }
   ],
   "source": [
    "k.upper()"
   ]
  },
  {
   "cell_type": "code",
   "execution_count": 8,
   "metadata": {},
   "outputs": [
    {
     "data": {
      "text/plain": [
       "'ABCDEFGHIJKLMNOPQRSTUVWXYZ'"
      ]
     },
     "execution_count": 8,
     "metadata": {},
     "output_type": "execute_result"
    }
   ],
   "source": [
    "string.ascii_uppercase"
   ]
  },
  {
   "cell_type": "code",
   "execution_count": 44,
   "metadata": {},
   "outputs": [],
   "source": [
    "lista=[12,56,876,213,55,4,2,1234,7,434,234]"
   ]
  },
  {
   "cell_type": "code",
   "execution_count": 144,
   "metadata": {},
   "outputs": [],
   "source": [
    "def insertion_sort(A):\n",
    "    for i in range(0,len(A)):\n",
    "        x=A[i]\n",
    "        j=i-1\n",
    "        while (j>=0 and A[j]>x):\n",
    "            A[j+1]=A[j]\n",
    "            j=j-1\n",
    "            A[j+1]=x\n",
    "    return A"
   ]
  },
  {
   "cell_type": "code",
   "execution_count": 58,
   "metadata": {},
   "outputs": [],
   "source": [
    "A=[1,4,7,10,12,23,56]\n",
    "B=[2,3,8,9,15,24,25,77]"
   ]
  },
  {
   "cell_type": "code",
   "execution_count": 145,
   "metadata": {},
   "outputs": [],
   "source": [
    "def merge(A,B):\n",
    "    resultado = []\n",
    "    while len(A)!=0 and len(B)!=0:\n",
    "        if A[0] < B[0]:\n",
    "            resultado.append(A[0])\n",
    "            A.pop(0)         \n",
    "        else:\n",
    "            resultado.append(B[0])\n",
    "            B.pop(0)\n",
    "    if len(A)==0:\n",
    "        resultado.extend(B)\n",
    "    elif len(B)==0:\n",
    "        resultado.extend(A)\n",
    "    return resultado\n"
   ]
  },
  {
   "cell_type": "code",
   "execution_count": 91,
   "metadata": {},
   "outputs": [],
   "source": [
    "A=[121,23,6,7,345,23,98,1,3434,878,131]"
   ]
  },
  {
   "cell_type": "code",
   "execution_count": 146,
   "metadata": {},
   "outputs": [],
   "source": [
    "def mergesort(A):\n",
    "    if len(A)<=1:\n",
    "        return A\n",
    "    e=[]\n",
    "    d=[]\n",
    "    for i in range(int(len(A)/2)):\n",
    "        e.append(A[i])\n",
    "    for i in range(int(len(A)/2),len(A)):\n",
    "        d.append(A[i])\n",
    "    return merge(mergesort(e),mergesort(d))\n"
   ]
  },
  {
   "cell_type": "code",
   "execution_count": 93,
   "metadata": {},
   "outputs": [
    {
     "data": {
      "text/plain": [
       "[1, 6, 7, 23, 23, 98, 121, 131, 345, 878, 3434]"
      ]
     },
     "execution_count": 93,
     "metadata": {},
     "output_type": "execute_result"
    }
   ],
   "source": [
    "mergesort(A)"
   ]
  },
  {
   "cell_type": "code",
   "execution_count": 60,
   "metadata": {},
   "outputs": [
    {
     "data": {
      "text/plain": [
       "[1, 2, 3, 4, 7, 8, 9, 10, 12, 15, 23, 24, 25, 56]"
      ]
     },
     "execution_count": 60,
     "metadata": {},
     "output_type": "execute_result"
    }
   ],
   "source": [
    "merge(A,B)"
   ]
  },
  {
   "cell_type": "code",
   "execution_count": 49,
   "metadata": {},
   "outputs": [
    {
     "data": {
      "text/plain": [
       "[4, 7, 12, 55, 56, 213, 234, 434, 876, 1234]"
      ]
     },
     "execution_count": 49,
     "metadata": {},
     "output_type": "execute_result"
    }
   ],
   "source": [
    "lista"
   ]
  },
  {
   "cell_type": "code",
   "execution_count": 71,
   "metadata": {},
   "outputs": [
    {
     "name": "stdout",
     "output_type": "stream",
     "text": [
      "0\n",
      "1\n",
      "2\n",
      "3\n",
      "4\n",
      "5\n",
      "6\n",
      "7\n",
      "8\n",
      "9\n",
      "10\n",
      "11\n",
      "12\n",
      "13\n",
      "14\n"
     ]
    }
   ],
   "source": [
    "for i in range(15):\n",
    "    print(i)"
   ]
  },
  {
   "cell_type": "code",
   "execution_count": 74,
   "metadata": {},
   "outputs": [
    {
     "name": "stdout",
     "output_type": "stream",
     "text": [
      "15\n",
      "16\n",
      "17\n",
      "18\n",
      "19\n",
      "20\n",
      "21\n",
      "22\n",
      "23\n",
      "24\n",
      "25\n",
      "26\n",
      "27\n",
      "28\n",
      "29\n"
     ]
    }
   ],
   "source": [
    "for i in range(15,30):\n",
    "    print(i)"
   ]
  },
  {
   "cell_type": "code",
   "execution_count": 196,
   "metadata": {},
   "outputs": [],
   "source": [
    "import random\n",
    "import time\n",
    "import matplotlib.pyplot as plt\n",
    "import numpy as np\n",
    "import pandas as pd\n"
   ]
  },
  {
   "cell_type": "code",
   "execution_count": 191,
   "metadata": {},
   "outputs": [
    {
     "name": "stdout",
     "output_type": "stream",
     "text": [
      "[9.175770998001099, 40.534507274627686, 88.77243494987488, 155.70131850242615, 257.4537525177002, 353.39615964889526, 476.9310884475708, 629.6490051746368, 805.654584646225, 1013.943831205368]\n",
      "[10000, 20000, 30000, 40000, 50000, 60000, 70000, 80000, 90000, 100000]\n"
     ]
    }
   ],
   "source": [
    "tempo1=[]\n",
    "numerodeelementos1=[]\n",
    "for j in range(1,11):\n",
    "    A=[]\n",
    "    for i in range(j*10000):\n",
    "        A.append(random.random())\n",
    "    t0=time.time()\n",
    "    insertion_sort(A)\n",
    "    t0=time.time() - t0\n",
    "    tempo1.append(t0)\n",
    "    numerodeelementos1.append(j*10000)\n",
    "print(tempo1)\n",
    "print(numerodeelementos1)"
   ]
  },
  {
   "cell_type": "code",
   "execution_count": 236,
   "metadata": {},
   "outputs": [
    {
     "name": "stdout",
     "output_type": "stream",
     "text": [
      "[0.2995145320892334, 0.5394785404205322, 0.8602478504180908, 1.3161637783050537, 1.65993070602417, 2.6136417388916016, 3.5240325927734375, 4.329973220825195, 5.48171591758728, 5.932679653167725]\n",
      "[10000, 20000, 30000, 40000, 50000, 60000, 70000, 80000, 90000, 100000]\n"
     ]
    }
   ],
   "source": [
    "tempo2=[]\n",
    "numerodeelementos2=[]\n",
    "for j in range(1,11):\n",
    "    A=[]\n",
    "    for i in range(j*10000):\n",
    "        A.append(random.random())\n",
    "    t0=time.time()\n",
    "    mergesort(A)\n",
    "    t0=time.time() - t0\n",
    "    tempo2.append(t0)\n",
    "    numerodeelementos2.append(j*10000)\n",
    "print(tempo2)\n",
    "print(numerodeelementos2)"
   ]
  },
  {
   "cell_type": "code",
   "execution_count": 192,
   "metadata": {},
   "outputs": [],
   "source": [
    "data={'Número de elementos':numerodeelementos1,'Insertion Sort':tempo1,'Merge Sort':tempo2}"
   ]
  },
  {
   "cell_type": "code",
   "execution_count": 197,
   "metadata": {},
   "outputs": [],
   "source": [
    "df=pd.DataFrame(data,columns=['Número de elementos','Insertion Sort','Merge Sort'])"
   ]
  },
  {
   "cell_type": "code",
   "execution_count": 199,
   "metadata": {},
   "outputs": [
    {
     "data": {
      "text/html": [
       "<div>\n",
       "<style scoped>\n",
       "    .dataframe tbody tr th:only-of-type {\n",
       "        vertical-align: middle;\n",
       "    }\n",
       "\n",
       "    .dataframe tbody tr th {\n",
       "        vertical-align: top;\n",
       "    }\n",
       "\n",
       "    .dataframe thead th {\n",
       "        text-align: right;\n",
       "    }\n",
       "</style>\n",
       "<table border=\"1\" class=\"dataframe\">\n",
       "  <thead>\n",
       "    <tr style=\"text-align: right;\">\n",
       "      <th></th>\n",
       "      <th>Número de elementos</th>\n",
       "      <th>Insertion Sort</th>\n",
       "      <th>Merge Sort</th>\n",
       "    </tr>\n",
       "  </thead>\n",
       "  <tbody>\n",
       "    <tr>\n",
       "      <th>0</th>\n",
       "      <td>10000</td>\n",
       "      <td>9.175771</td>\n",
       "      <td>0.181269</td>\n",
       "    </tr>\n",
       "    <tr>\n",
       "      <th>1</th>\n",
       "      <td>20000</td>\n",
       "      <td>40.534507</td>\n",
       "      <td>0.521201</td>\n",
       "    </tr>\n",
       "    <tr>\n",
       "      <th>2</th>\n",
       "      <td>30000</td>\n",
       "      <td>88.772435</td>\n",
       "      <td>0.876739</td>\n",
       "    </tr>\n",
       "    <tr>\n",
       "      <th>3</th>\n",
       "      <td>40000</td>\n",
       "      <td>155.701319</td>\n",
       "      <td>1.310394</td>\n",
       "    </tr>\n",
       "    <tr>\n",
       "      <th>4</th>\n",
       "      <td>50000</td>\n",
       "      <td>257.453753</td>\n",
       "      <td>2.073258</td>\n",
       "    </tr>\n",
       "    <tr>\n",
       "      <th>5</th>\n",
       "      <td>60000</td>\n",
       "      <td>353.396160</td>\n",
       "      <td>2.478800</td>\n",
       "    </tr>\n",
       "    <tr>\n",
       "      <th>6</th>\n",
       "      <td>70000</td>\n",
       "      <td>476.931088</td>\n",
       "      <td>2.800008</td>\n",
       "    </tr>\n",
       "    <tr>\n",
       "      <th>7</th>\n",
       "      <td>80000</td>\n",
       "      <td>629.649005</td>\n",
       "      <td>3.704218</td>\n",
       "    </tr>\n",
       "    <tr>\n",
       "      <th>8</th>\n",
       "      <td>90000</td>\n",
       "      <td>805.654585</td>\n",
       "      <td>4.099101</td>\n",
       "    </tr>\n",
       "    <tr>\n",
       "      <th>9</th>\n",
       "      <td>100000</td>\n",
       "      <td>1013.943831</td>\n",
       "      <td>4.923375</td>\n",
       "    </tr>\n",
       "  </tbody>\n",
       "</table>\n",
       "</div>"
      ],
      "text/plain": [
       "   Número de elementos  Insertion Sort  Merge Sort\n",
       "0                10000        9.175771    0.181269\n",
       "1                20000       40.534507    0.521201\n",
       "2                30000       88.772435    0.876739\n",
       "3                40000      155.701319    1.310394\n",
       "4                50000      257.453753    2.073258\n",
       "5                60000      353.396160    2.478800\n",
       "6                70000      476.931088    2.800008\n",
       "7                80000      629.649005    3.704218\n",
       "8                90000      805.654585    4.099101\n",
       "9               100000     1013.943831    4.923375"
      ]
     },
     "execution_count": 199,
     "metadata": {},
     "output_type": "execute_result"
    }
   ],
   "source": [
    "df"
   ]
  },
  {
   "cell_type": "code",
   "execution_count": 206,
   "metadata": {},
   "outputs": [
    {
     "name": "stdout",
     "output_type": "stream",
     "text": [
      "/dados/home/danillo/FGV_Programming_Languages/Python\r\n"
     ]
    }
   ],
   "source": [
    "!pwd\n"
   ]
  },
  {
   "cell_type": "code",
   "execution_count": 207,
   "metadata": {},
   "outputs": [],
   "source": [
    "df.to_excel(\"output.xlsx\", encoding=\"utf-8\")"
   ]
  },
  {
   "cell_type": "code",
   "execution_count": 231,
   "metadata": {},
   "outputs": [],
   "source": [
    "listaum=[]\n",
    "for i in range(100000):\n",
    "    listaum.append(i)"
   ]
  },
  {
   "cell_type": "code",
   "execution_count": null,
   "metadata": {},
   "outputs": [],
   "source": [
    "listaum"
   ]
  },
  {
   "cell_type": "code",
   "execution_count": null,
   "metadata": {},
   "outputs": [],
   "source": [
    "insertion_sort(listaum)"
   ]
  },
  {
   "cell_type": "code",
   "execution_count": 232,
   "metadata": {},
   "outputs": [],
   "source": [
    "listaum.reverse()"
   ]
  },
  {
   "cell_type": "code",
   "execution_count": 278,
   "metadata": {},
   "outputs": [],
   "source": [
    "#countint sort\n",
    "\n",
    "def counting_sort(A,k):\n",
    "    coon=[0]*k\n",
    "    for i in A:\n",
    "        coon[i-1]+=1\n",
    "    resultado=[]\n",
    "    for j in range(len(coon)):\n",
    "        resultado.extend([j+1]*coon[j])\n",
    "    return resultado"
   ]
  },
  {
   "cell_type": "code",
   "execution_count": 279,
   "metadata": {},
   "outputs": [],
   "source": [
    "listin=[3,2,3,2,1,2,3,2,1,2,2,3,3,2,3,2,1,1,2,2,3,2,1,1]"
   ]
  },
  {
   "cell_type": "code",
   "execution_count": 280,
   "metadata": {},
   "outputs": [
    {
     "data": {
      "text/plain": [
       "[1, 1, 1, 1, 1, 1, 2, 2, 2, 2, 2, 2, 2, 2, 2, 2, 2, 3, 3, 3, 3, 3, 3, 3]"
      ]
     },
     "execution_count": 280,
     "metadata": {},
     "output_type": "execute_result"
    }
   ],
   "source": [
    "counting_sort(listin,3)\n",
    "    "
   ]
  },
  {
   "cell_type": "code",
   "execution_count": 256,
   "metadata": {},
   "outputs": [
    {
     "data": {
      "text/plain": [
       "3"
      ]
     },
     "execution_count": 256,
     "metadata": {},
     "output_type": "execute_result"
    }
   ],
   "source": [
    "listin[0]"
   ]
  },
  {
   "cell_type": "code",
   "execution_count": null,
   "metadata": {},
   "outputs": [],
   "source": [
    "def bucket_sort(A,k,n):\n",
    "    buckets=\n"
   ]
  },
  {
   "cell_type": "code",
   "execution_count": 4,
   "metadata": {},
   "outputs": [],
   "source": [
    "def bubbleSort(arr):\n",
    "    n = len(arr)\n",
    " \n",
    "    # Traverse through all array elements\n",
    "    for i in range(n):\n",
    " \n",
    "        # Last i elements are already in place\n",
    "        for j in range(0, n-i-1):\n",
    " \n",
    "            # traverse the array from 0 to n-i-1\n",
    "            # Swap if the element found is greater\n",
    "            # than the next element\n",
    "            if arr[j] > arr[j+1] :\n",
    "                arr[j], arr[j+1] = arr[j+1], arr[j]\n",
    "    return(arr)\n",
    " "
   ]
  },
  {
   "cell_type": "code",
   "execution_count": 146,
   "metadata": {},
   "outputs": [],
   "source": [
    "lista=[3,6,2,9,8,67,54,653,78,43,683,35,9,1]"
   ]
  },
  {
   "cell_type": "code",
   "execution_count": 6,
   "metadata": {},
   "outputs": [
    {
     "data": {
      "text/plain": [
       "[1, 2, 3, 6, 8, 9, 9, 35, 43, 54, 67, 78, 653, 683, 7523]"
      ]
     },
     "execution_count": 6,
     "metadata": {},
     "output_type": "execute_result"
    }
   ],
   "source": [
    "bubbleSort(lista)"
   ]
  },
  {
   "cell_type": "code",
   "execution_count": 16,
   "metadata": {},
   "outputs": [
    {
     "data": {
      "text/plain": [
       "1"
      ]
     },
     "execution_count": 16,
     "metadata": {},
     "output_type": "execute_result"
    }
   ],
   "source": [
    "34%3"
   ]
  },
  {
   "cell_type": "code",
   "execution_count": 25,
   "metadata": {},
   "outputs": [],
   "source": [
    "def transforma(a,p):\n",
    "    c=str(a)\n",
    "    if len(c)<3:\n",
    "        c='0'*(p-len(c))+c\n",
    "    return c\n",
    "        "
   ]
  },
  {
   "cell_type": "code",
   "execution_count": 17,
   "metadata": {},
   "outputs": [
    {
     "data": {
      "text/plain": [
       "1"
      ]
     },
     "execution_count": 17,
     "metadata": {},
     "output_type": "execute_result"
    }
   ],
   "source": [
    "int('001')"
   ]
  },
  {
   "cell_type": "code",
   "execution_count": 18,
   "metadata": {},
   "outputs": [],
   "source": [
    "a=[(1,221),(2,542)]"
   ]
  },
  {
   "cell_type": "code",
   "execution_count": 22,
   "metadata": {},
   "outputs": [
    {
     "data": {
      "text/plain": [
       "1"
      ]
     },
     "execution_count": 22,
     "metadata": {},
     "output_type": "execute_result"
    }
   ],
   "source": [
    "a[0][0]"
   ]
  },
  {
   "cell_type": "code",
   "execution_count": 23,
   "metadata": {},
   "outputs": [],
   "source": [
    "k=\"0\"*3"
   ]
  },
  {
   "cell_type": "code",
   "execution_count": 26,
   "metadata": {},
   "outputs": [
    {
     "data": {
      "text/plain": [
       "'007'"
      ]
     },
     "execution_count": 26,
     "metadata": {},
     "output_type": "execute_result"
    }
   ],
   "source": [
    "transforma(7,3)"
   ]
  },
  {
   "cell_type": "code",
   "execution_count": 122,
   "metadata": {},
   "outputs": [],
   "source": [
    "def transformalista(A,d):\n",
    "    for i in range(len(A)):\n",
    "        A[i]=transforma(A[i],3)\n",
    "        A[i]=(int(A[i][2-d]),int(A[i]))\n",
    "    return A"
   ]
  },
  {
   "cell_type": "code",
   "execution_count": 124,
   "metadata": {},
   "outputs": [
    {
     "data": {
      "text/plain": [
       "[(3, 3),\n",
       " (6, 6),\n",
       " (2, 2),\n",
       " (9, 9),\n",
       " (8, 8),\n",
       " (7, 67),\n",
       " (4, 54),\n",
       " (3, 653),\n",
       " (8, 78),\n",
       " (3, 43),\n",
       " (3, 683),\n",
       " (5, 35),\n",
       " (9, 9),\n",
       " (1, 1)]"
      ]
     },
     "execution_count": 124,
     "metadata": {},
     "output_type": "execute_result"
    }
   ],
   "source": [
    "lista=[3,6,2,9,8,67,54,653,78,43,683,35,9,1]\n",
    "transformalista(lista,0)"
   ]
  },
  {
   "cell_type": "code",
   "execution_count": 129,
   "metadata": {},
   "outputs": [
    {
     "data": {
      "text/plain": [
       "[(3, 3),\n",
       " (6, 6),\n",
       " (2, 2),\n",
       " (9, 9),\n",
       " (8, 8),\n",
       " (7, 67),\n",
       " (4, 54),\n",
       " (3, 653),\n",
       " (8, 78),\n",
       " (3, 43),\n",
       " (3, 683),\n",
       " (5, 35),\n",
       " (9, 9),\n",
       " (1, 1)]"
      ]
     },
     "execution_count": 129,
     "metadata": {},
     "output_type": "execute_result"
    }
   ],
   "source": [
    "lista"
   ]
  },
  {
   "cell_type": "code",
   "execution_count": 130,
   "metadata": {},
   "outputs": [],
   "source": [
    "def bucket_sort(A,k,n):\n",
    "    buckets = [[] for _ in range(n)]\n",
    "    for i in range(len(A)):\n",
    "        #valor maximo do elemento de A é (k-1), varia de 0 a (k-1)\n",
    "        #tem n baldes\n",
    "        buckets[int(A[i][0]*n/k)].append(A[i][1])\n",
    "    if n<k:\n",
    "        for b in buckets:\n",
    "            insertion_sort(b)\n",
    "    lista=[]\n",
    "    for i in range(len(buckets)):\n",
    "        lista.extend(buckets[i])\n",
    "    return lista       "
   ]
  },
  {
   "cell_type": "code",
   "execution_count": 131,
   "metadata": {},
   "outputs": [
    {
     "data": {
      "text/plain": [
       "[1, 2, 3, 653, 43, 683, 54, 35, 6, 67, 8, 78, 9, 9]"
      ]
     },
     "execution_count": 131,
     "metadata": {},
     "output_type": "execute_result"
    }
   ],
   "source": [
    "bucket_sort(lista,10,10)"
   ]
  },
  {
   "cell_type": "code",
   "execution_count": 144,
   "metadata": {},
   "outputs": [],
   "source": [
    "def Radix_sort(A,d,k):\n",
    "    for p in range(d):\n",
    "        for i in range(len(A)):\n",
    "            A[i]=transforma(A[i],d)\n",
    "            A[i]=(int(A[i][(d-1)-p]),int(A[i]))\n",
    "        Aj=A\n",
    "        resultado=bucket_sort(Aj,k,k)\n",
    "        A=resultado\n",
    "    return A        "
   ]
  },
  {
   "cell_type": "code",
   "execution_count": 147,
   "metadata": {},
   "outputs": [
    {
     "data": {
      "text/plain": [
       "[1, 2, 3, 6, 8, 9, 9, 35, 43, 54, 67, 78, 653, 683]"
      ]
     },
     "execution_count": 147,
     "metadata": {},
     "output_type": "execute_result"
    }
   ],
   "source": [
    "Radix_sort(lista,3,10)"
   ]
  },
  {
   "cell_type": "markdown",
   "metadata": {},
   "source": [
    "Bagulhos de Grapho"
   ]
  },
  {
   "cell_type": "code",
   "execution_count": 2,
   "metadata": {},
   "outputs": [],
   "source": [
    "G={\n",
    "    'A':{'B','F','G'},\n",
    "    'B':{'A','E','F','G'},\n",
    "    'C':{'D','E','I','H'},\n",
    "    'D':{'C','I','H'},\n",
    "    'E':{'B','C','G','H','I'},\n",
    "    'F':{'A','B','G'},\n",
    "    'G':{'A','B','E','F'},\n",
    "    'H':{'C','D','E','I'},\n",
    "    'I':{'C','D','E','H'}\n",
    "}"
   ]
  },
  {
   "cell_type": "code",
   "execution_count": 18,
   "metadata": {},
   "outputs": [],
   "source": [
    "class No:\n",
    "    def __init__(self,nome):\n",
    "        self.nome=nome\n",
    "        self.start_time=0\n",
    "        self.end_time=0"
   ]
  },
  {
   "cell_type": "code",
   "execution_count": 19,
   "metadata": {},
   "outputs": [],
   "source": [
    "A=No(\"A\")\n",
    "B=No('B')"
   ]
  },
  {
   "cell_type": "code",
   "execution_count": 20,
   "metadata": {},
   "outputs": [],
   "source": [
    "dic = {'chave1':[1,2,3],'chave2':2,'outra chave':4,45:26, 'outro':23,A:[B]}"
   ]
  },
  {
   "cell_type": "code",
   "execution_count": 21,
   "metadata": {},
   "outputs": [
    {
     "data": {
      "text/plain": [
       "{45: 26,\n",
       " <__main__.No at 0x7fa2d409b898>: [<__main__.No at 0x7fa2d409bda0>],\n",
       " 'chave1': [1, 2, 3],\n",
       " 'chave2': 2,\n",
       " 'outra chave': 4,\n",
       " 'outro': 23}"
      ]
     },
     "execution_count": 21,
     "metadata": {},
     "output_type": "execute_result"
    }
   ],
   "source": [
    "dic"
   ]
  },
  {
   "cell_type": "code",
   "execution_count": 1,
   "metadata": {},
   "outputs": [],
   "source": [
    "G = {'A':[('B',4), ('H',8)],\n",
    "         'B':[('A',4), ('C',8), ('H',11)],\n",
    "         'C':[('B',8), ('D',7), ('F',4), ('I',2)],\n",
    "         'D':[('C',7), ('E',9), ('F',14)],\n",
    "         'E':[('D',9), ('F',10)],\n",
    "         'F':[('C',4), ('D',14), ('E',10), ('G',2)],\n",
    "         'G':[('F',2), ('H',1), ('I',6)],\n",
    "         'H':[('A',8), ('B',11), ('G',1), ('I',7)],\n",
    "         \"I\":[('C',2), ('G',6), ('H',7)]\n",
    "        }"
   ]
  },
  {
   "cell_type": "code",
   "execution_count": 6,
   "metadata": {},
   "outputs": [
    {
     "ename": "SyntaxError",
     "evalue": "invalid syntax (<ipython-input-6-f92c6e47d7a8>, line 6)",
     "output_type": "error",
     "traceback": [
      "\u001b[0;36m  File \u001b[0;32m\"<ipython-input-6-f92c6e47d7a8>\"\u001b[0;36m, line \u001b[0;32m6\u001b[0m\n\u001b[0;31m    visited_vertices.append(s)\u001b[0m\n\u001b[0m                   ^\u001b[0m\n\u001b[0;31mSyntaxError\u001b[0m\u001b[0;31m:\u001b[0m invalid syntax\n"
     ]
    }
   ],
   "source": [
    "import random\n",
    "def slow_prim(G):\n",
    "    l=[]\n",
    "    visited_vertices=[]\n",
    "    s=random.choice(list(G.keys())\n",
    "    visited_vertices.append(s)\n",
    "    while len(visited_vertices) < len(G.keys()):\n",
    "        (a,b) = lightest_edge(G,visited_vertices)\n",
    "        l.append((a,b))\n",
    "        visited_vertices.append(b)\n",
    "    return l\n",
    "\n",
    "def lightest_edge(G,visited_vertices):\n",
    "    no_visited = set(G.keys() - visited_vertices)\n",
    "    vizinhos = []\n",
    "    for i in visited_vertices:\n",
    "        for j in G[i]:\n",
    "            if j[0] not in visited_vertices:\n",
    "                vizinhos.append([j,i])\n",
    "                \n",
    "    k=min(vizinhos, key = lambda x : x[0][1])\n",
    "        \n",
    "    return (k[1],k[0][0])"
   ]
  },
  {
   "cell_type": "code",
   "execution_count": null,
   "metadata": {},
   "outputs": [],
   "source": []
  }
 ],
 "metadata": {
  "kernelspec": {
   "display_name": "Python 3",
   "language": "python",
   "name": "python3"
  },
  "language_info": {
   "codemirror_mode": {
    "name": "ipython",
    "version": 3
   },
   "file_extension": ".py",
   "mimetype": "text/x-python",
   "name": "python",
   "nbconvert_exporter": "python",
   "pygments_lexer": "ipython3",
   "version": "3.5.2"
  }
 },
 "nbformat": 4,
 "nbformat_minor": 2
}
