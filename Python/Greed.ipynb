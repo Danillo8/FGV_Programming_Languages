{
 "cells": [
  {
   "cell_type": "code",
   "execution_count": 31,
   "metadata": {},
   "outputs": [],
   "source": [
    "G = {'A':[('B',4), ('H',8)],\n",
    "         'B':[('A',4), ('C',8), ('H',11)],\n",
    "         'C':[('B',8), ('D',7), ('F',4), ('I',2)],\n",
    "         'D':[('C',7), ('E',9), ('F',14)],\n",
    "         'E':[('D',9), ('F',10)],\n",
    "         'F':[('C',4), ('D',14), ('E',10), ('G',2)],\n",
    "         'G':[('F',2), ('H',1), ('I',6)],\n",
    "         'H':[('A',8), ('B',11), ('G',1), ('I',7)],\n",
    "         \"I\":[('C',2), ('G',6), ('H',7)]\n",
    "        }"
   ]
  },
  {
   "cell_type": "code",
   "execution_count": 14,
   "metadata": {},
   "outputs": [],
   "source": [
    "import random"
   ]
  },
  {
   "cell_type": "code",
   "execution_count": 72,
   "metadata": {},
   "outputs": [
    {
     "ename": "SyntaxError",
     "evalue": "invalid syntax (<ipython-input-72-b514d094368b>, line 16)",
     "output_type": "error",
     "traceback": [
      "\u001b[0;36m  File \u001b[0;32m\"<ipython-input-72-b514d094368b>\"\u001b[0;36m, line \u001b[0;32m16\u001b[0m\n\u001b[0;31m    MST=[]\u001b[0m\n\u001b[0m      ^\u001b[0m\n\u001b[0;31mSyntaxError\u001b[0m\u001b[0;31m:\u001b[0m invalid syntax\n"
     ]
    }
   ],
   "source": [
    "def lightest_edge(G,visited_vertices):\n",
    "    no_visited = set(G.keys() - visited_vertices)\n",
    "    vizinhos = []\n",
    "    for i in visited_vertices:\n",
    "        for j in G[i]:\n",
    "            if j[0] not in visited_vertices:\n",
    "                vizinhos.append([j,i])\n",
    "                \n",
    "    k=min(vizinhos, key = lambda x : x[0][1])\n",
    "        \n",
    "    return (k[1],k[0][0])"
   ]
  },
  {
   "cell_type": "code",
   "execution_count": 88,
   "metadata": {},
   "outputs": [],
   "source": [
    "import random\n",
    "\n",
    "def slow_prim(G):\n",
    "    s=random.choice(list(G.keys()))\n",
    "    l=[]\n",
    "    visited_vertices = [s]\n",
    "    while len(visited_vertices) < len(G.keys()):\n",
    "        (a,b) = lightest_edge(G,visited_vertices)\n",
    "        l.append((a,b))\n",
    "        visited_vertices.append(b)\n",
    "    return l\n",
    "\n",
    "def lightest_edge(G,visited_vertices):\n",
    "    no_visited = set(G.keys() - visited_vertices)\n",
    "    vizinhos = []\n",
    "    for i in visited_vertices:\n",
    "        for j in G[i]:\n",
    "            if j[0] not in visited_vertices:\n",
    "                vizinhos.append([j,i])\n",
    "                \n",
    "    k=min(vizinhos, key = lambda x : x[0][1])\n",
    "        \n",
    "    return (k[1],k[0][0])"
   ]
  },
  {
   "cell_type": "code",
   "execution_count": 90,
   "metadata": {},
   "outputs": [],
   "source": [
    "def lightest_edge(G,visited_vertices):\n",
    "    no_visited = set(G.keys() - visited_vertices)\n",
    "    vizinhos = []\n",
    "    for i in visited_vertices:\n",
    "        for j in G[i]:\n",
    "            if j[0] not in visited_vertices:\n",
    "                vizinhos.append([j,i])\n",
    "                \n",
    "    k=min(vizinhos, key = lambda x : x[0][1])\n",
    "        \n",
    "    return (k[1],k[0][0])"
   ]
  },
  {
   "cell_type": "code",
   "execution_count": 66,
   "metadata": {},
   "outputs": [
    {
     "data": {
      "text/plain": [
       "[('I', 2), 'C']"
      ]
     },
     "execution_count": 66,
     "metadata": {},
     "output_type": "execute_result"
    }
   ],
   "source": [
    "lightest_edge(G,['A','B','C'])"
   ]
  },
  {
   "cell_type": "code",
   "execution_count": 103,
   "metadata": {},
   "outputs": [
    {
     "data": {
      "text/plain": [
       "[('F', 'G'),\n",
       " ('G', 'H'),\n",
       " ('F', 'C'),\n",
       " ('C', 'I'),\n",
       " ('C', 'D'),\n",
       " ('H', 'A'),\n",
       " ('A', 'B'),\n",
       " ('D', 'E')]"
      ]
     },
     "execution_count": 103,
     "metadata": {},
     "output_type": "execute_result"
    }
   ],
   "source": [
    "slow_prim(G)"
   ]
  },
  {
   "cell_type": "code",
   "execution_count": null,
   "metadata": {},
   "outputs": [],
   "source": []
  },
  {
   "cell_type": "code",
   "execution_count": null,
   "metadata": {},
   "outputs": [],
   "source": []
  }
 ],
 "metadata": {
  "kernelspec": {
   "display_name": "Python 3",
   "language": "python",
   "name": "python3"
  },
  "language_info": {
   "codemirror_mode": {
    "name": "ipython",
    "version": 3
   },
   "file_extension": ".py",
   "mimetype": "text/x-python",
   "name": "python",
   "nbconvert_exporter": "python",
   "pygments_lexer": "ipython3",
   "version": "3.5.2"
  }
 },
 "nbformat": 4,
 "nbformat_minor": 2
}
