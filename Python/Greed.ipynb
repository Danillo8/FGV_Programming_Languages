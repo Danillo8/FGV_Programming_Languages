{
 "cells": [
  {
   "cell_type": "markdown",
   "metadata": {},
   "source": [
    "Frog Hopping\n"
   ]
  },
  {
   "cell_type": "code",
   "execution_count": 4,
   "metadata": {},
   "outputs": [],
   "source": [
    "lilys=[0, 1, 3, 4, 6, 10]"
   ]
  },
  {
   "cell_type": "code",
   "execution_count": 12,
   "metadata": {},
   "outputs": [],
   "source": [
    "def frog_hopping(lilys, r, n):\n",
    "    H=[0]\n",
    "    cur_lily=0\n",
    "    while cur_lily < n:\n",
    "        next_lily=furthest_reachable_lily(cur_lily, lilys, r)\n",
    "        H.append(next_lily)\n",
    "        cur_lily=next_lily\n",
    "    return H    "
   ]
  },
  {
   "cell_type": "code",
   "execution_count": 15,
   "metadata": {},
   "outputs": [],
   "source": [
    "def furthest_reachable_lily(cur_lily, lilys, r):\n",
    "    for i in reversed(range(r+1)):\n",
    "        if cur_lily+i in lilys:\n",
    "            break\n",
    "    return cur_lily+i"
   ]
  },
  {
   "cell_type": "code",
   "execution_count": 16,
   "metadata": {},
   "outputs": [
    {
     "data": {
      "text/plain": [
       "[0, 4, 6, 10]"
      ]
     },
     "execution_count": 16,
     "metadata": {},
     "output_type": "execute_result"
    }
   ],
   "source": [
    "frog_hopping(lilys, 4, 10)"
   ]
  },
  {
   "cell_type": "code",
   "execution_count": 8,
   "metadata": {},
   "outputs": [],
   "source": []
  },
  {
   "cell_type": "code",
   "execution_count": null,
   "metadata": {},
   "outputs": [],
   "source": []
  },
  {
   "cell_type": "markdown",
   "metadata": {},
   "source": [
    "Prim"
   ]
  },
  {
   "cell_type": "code",
   "execution_count": null,
   "metadata": {},
   "outputs": [],
   "source": [
    "G = {'A':[('B',4), ('H',8)],\n",
    "         'B':[('A',4), ('C',8), ('H',11)],\n",
    "         'C':[('B',8), ('D',7), ('F',4), ('I',2)],\n",
    "         'D':[('C',7), ('E',9), ('F',14)],\n",
    "         'E':[('D',9), ('F',10)],\n",
    "         'F':[('C',4), ('D',14), ('E',10), ('G',2)],\n",
    "         'G':[('F',2), ('H',1), ('I',6)],\n",
    "         'H':[('A',8), ('B',11), ('G',1), ('I',7)],\n",
    "         \"I\":[('C',2), ('G',6), ('H',7)]\n",
    "        }"
   ]
  },
  {
   "cell_type": "code",
   "execution_count": 3,
   "metadata": {},
   "outputs": [],
   "source": [
    "import random\n",
    "\n",
    "def slow_prim(G):\n",
    "    s=random.choice(list(G.keys()))\n",
    "    l=[]\n",
    "    visited_vertices = [s]\n",
    "    while len(visited_vertices) < len(G.keys()):\n",
    "        (a,b) = lightest_edge(G,visited_vertices)\n",
    "        l.append((a,b))\n",
    "        visited_vertices.append(b)\n",
    "    return l\n",
    "\n",
    "def lightest_edge(G,visited_vertices):\n",
    "    vizinhos = []\n",
    "    for i in visited_vertices:\n",
    "        for j in G[i]:\n",
    "            if j[0] not in visited_vertices:\n",
    "                vizinhos.append([j,i])\n",
    "                \n",
    "    k=min(vizinhos, key = lambda x : x[0][1])\n",
    "        \n",
    "    return (k[1],k[0][0])"
   ]
  },
  {
   "cell_type": "code",
   "execution_count": 10,
   "metadata": {},
   "outputs": [],
   "source": [
    "def lightest_edge(G,visited_vertices):\n",
    "    vizinhos = []\n",
    "    for i in visited_vertices:\n",
    "        for j in G[i]:\n",
    "            if j[0] not in visited_vertices:\n",
    "                vizinhos.append([j,i])\n",
    "                \n",
    "    k=min(vizinhos, key = lambda x : x[0][1])\n",
    "        \n",
    "    return (k[1],k[0][0])"
   ]
  },
  {
   "cell_type": "code",
   "execution_count": 7,
   "metadata": {},
   "outputs": [
    {
     "data": {
      "text/plain": [
       "('C', 'I')"
      ]
     },
     "execution_count": 7,
     "metadata": {},
     "output_type": "execute_result"
    }
   ],
   "source": [
    "lightest_edge(G,['A','B','C'])"
   ]
  },
  {
   "cell_type": "code",
   "execution_count": 9,
   "metadata": {},
   "outputs": [
    {
     "data": {
      "text/plain": [
       "[('F', 'G'),\n",
       " ('G', 'H'),\n",
       " ('F', 'C'),\n",
       " ('C', 'I'),\n",
       " ('C', 'D'),\n",
       " ('H', 'A'),\n",
       " ('A', 'B'),\n",
       " ('D', 'E')]"
      ]
     },
     "execution_count": 9,
     "metadata": {},
     "output_type": "execute_result"
    }
   ],
   "source": [
    "slow_prim(G)"
   ]
  },
  {
   "cell_type": "markdown",
   "metadata": {},
   "source": [
    "Kruskal"
   ]
  },
  {
   "cell_type": "code",
   "execution_count": 17,
   "metadata": {},
   "outputs": [],
   "source": [
    "G = {'A':[('B',4), ('H',8)],\n",
    "         'B':[('A',4), ('C',8), ('H',11)],\n",
    "         'C':[('B',8), ('D',7), ('F',4), ('I',2)],\n",
    "         'D':[('C',7), ('E',9), ('F',14)],\n",
    "         'E':[('D',9), ('F',10)],\n",
    "         'F':[('C',4), ('D',14), ('E',10), ('G',2)],\n",
    "         'G':[('F',2), ('H',1), ('I',6)],\n",
    "         'H':[('A',8), ('B',11), ('G',1), ('I',7)],\n",
    "         \"I\":[('C',2), ('G',6), ('H',7)]\n",
    "        }"
   ]
  },
  {
   "cell_type": "code",
   "execution_count": 18,
   "metadata": {},
   "outputs": [
    {
     "data": {
      "text/plain": [
       "dict_keys(['G', 'E', 'C', 'H', 'D', 'B', 'A', 'F', 'I'])"
      ]
     },
     "execution_count": 18,
     "metadata": {},
     "output_type": "execute_result"
    }
   ],
   "source": [
    "G.keys()"
   ]
  },
  {
   "cell_type": "code",
   "execution_count": 21,
   "metadata": {},
   "outputs": [
    {
     "data": {
      "text/plain": [
       "[('B', 4), ('H', 8)]"
      ]
     },
     "execution_count": 21,
     "metadata": {},
     "output_type": "execute_result"
    }
   ],
   "source": [
    "G['A']"
   ]
  },
  {
   "cell_type": "code",
   "execution_count": 22,
   "metadata": {},
   "outputs": [
    {
     "data": {
      "text/plain": [
       "('B', 4)"
      ]
     },
     "execution_count": 22,
     "metadata": {},
     "output_type": "execute_result"
    }
   ],
   "source": [
    "G['A'][0]"
   ]
  },
  {
   "cell_type": "code",
   "execution_count": 58,
   "metadata": {},
   "outputs": [],
   "source": [
    "def kruskal(G):\n",
    "    E=[]\n",
    "    for i in list(G.keys()):\n",
    "        for j in G[i]:\n",
    "            if ((j[0],i),j[1]) not in E:\n",
    "                E.append(((i,j[0]),j[1]))\n",
    "    E=sorted(E, key=lambda x : x[1])\n",
    "    \n",
    "    MST=[]\n",
    "    \n",
    "    T=list(G.keys())\n",
    "    \n",
    "    for i in E:\n",
    "        if fainde(T,i[0][0])!=fainde(T,i[0][1]):\n",
    "            MST.append(i[0])\n",
    "            union(T,i[0][0],i[0][1])\n",
    "    return MST  "
   ]
  },
  {
   "cell_type": "code",
   "execution_count": 60,
   "metadata": {},
   "outputs": [],
   "source": [
    "def fainde(T,u):\n",
    "    for i in range(len(T)):\n",
    "        a=i\n",
    "        if u in T[i]:\n",
    "            return a\n",
    "def union(T,u,v):\n",
    "    k=T[fainde(T,u)]+T[fainde(T,v)]\n",
    "    T.append(k)\n",
    "    T.remove(T[fainde(T,u)])\n",
    "    T.remove(T[fainde(T,v)])"
   ]
  },
  {
   "cell_type": "code",
   "execution_count": 61,
   "metadata": {},
   "outputs": [
    {
     "data": {
      "text/plain": [
       "[('G', 'H'),\n",
       " ('G', 'F'),\n",
       " ('C', 'I'),\n",
       " ('C', 'F'),\n",
       " ('B', 'A'),\n",
       " ('C', 'D'),\n",
       " ('C', 'B'),\n",
       " ('E', 'D')]"
      ]
     },
     "execution_count": 61,
     "metadata": {},
     "output_type": "execute_result"
    }
   ],
   "source": [
    "kruskal(G)"
   ]
  },
  {
   "cell_type": "code",
   "execution_count": 30,
   "metadata": {},
   "outputs": [
    {
     "data": {
      "text/plain": [
       "'acdfh'"
      ]
     },
     "execution_count": 30,
     "metadata": {},
     "output_type": "execute_result"
    }
   ],
   "source": [
    "c='adcfh'\n",
    "''.join(sorted(c))"
   ]
  },
  {
   "cell_type": "code",
   "execution_count": 46,
   "metadata": {},
   "outputs": [],
   "source": [
    "E=[]\n",
    "for i in list(G.keys()):\n",
    "    for j in G[i]:\n",
    "        if ((j[0],i),j[1]) not in E:\n",
    "            E.append(((i,j[0]),j[1]))\n",
    "E=sorted(E, key=lambda x : x[1])"
   ]
  },
  {
   "cell_type": "code",
   "execution_count": 47,
   "metadata": {},
   "outputs": [
    {
     "data": {
      "text/plain": [
       "[(('G', 'H'), 1),\n",
       " (('G', 'F'), 2),\n",
       " (('C', 'I'), 2),\n",
       " (('C', 'F'), 4),\n",
       " (('B', 'A'), 4),\n",
       " (('G', 'I'), 6),\n",
       " (('C', 'D'), 7),\n",
       " (('H', 'I'), 7),\n",
       " (('C', 'B'), 8),\n",
       " (('H', 'A'), 8),\n",
       " (('E', 'D'), 9),\n",
       " (('E', 'F'), 10),\n",
       " (('H', 'B'), 11),\n",
       " (('D', 'F'), 14)]"
      ]
     },
     "execution_count": 47,
     "metadata": {},
     "output_type": "execute_result"
    }
   ],
   "source": [
    "E"
   ]
  },
  {
   "cell_type": "code",
   "execution_count": 48,
   "metadata": {},
   "outputs": [],
   "source": [
    "k=['abc','tyu','ev']"
   ]
  },
  {
   "cell_type": "code",
   "execution_count": 50,
   "metadata": {},
   "outputs": [
    {
     "ename": "ValueError",
     "evalue": "'a' is not in list",
     "output_type": "error",
     "traceback": [
      "\u001b[0;31m---------------------------------------------------------------------------\u001b[0m",
      "\u001b[0;31mValueError\u001b[0m                                Traceback (most recent call last)",
      "\u001b[0;32m<ipython-input-50-84d679d7aa21>\u001b[0m in \u001b[0;36m<module>\u001b[0;34m()\u001b[0m\n\u001b[0;32m----> 1\u001b[0;31m \u001b[0mk\u001b[0m\u001b[0;34m.\u001b[0m\u001b[0mindex\u001b[0m\u001b[0;34m(\u001b[0m\u001b[0;34m'a'\u001b[0m\u001b[0;34m)\u001b[0m\u001b[0;34m\u001b[0m\u001b[0m\n\u001b[0m",
      "\u001b[0;31mValueError\u001b[0m: 'a' is not in list"
     ]
    }
   ],
   "source": [
    "k.index('a')"
   ]
  },
  {
   "cell_type": "code",
   "execution_count": null,
   "metadata": {},
   "outputs": [],
   "source": []
  }
 ],
 "metadata": {
  "kernelspec": {
   "display_name": "Python 3",
   "language": "python",
   "name": "python3"
  },
  "language_info": {
   "codemirror_mode": {
    "name": "ipython",
    "version": 3
   },
   "file_extension": ".py",
   "mimetype": "text/x-python",
   "name": "python",
   "nbconvert_exporter": "python",
   "pygments_lexer": "ipython3",
   "version": "3.5.2"
  }
 },
 "nbformat": 4,
 "nbformat_minor": 2
}
