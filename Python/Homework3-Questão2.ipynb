{
 "cells": [
  {
   "cell_type": "code",
   "execution_count": 1,
   "metadata": {},
   "outputs": [],
   "source": [
    "def insertion_sort(A):\n",
    "    for i in range(0,len(A)):\n",
    "        x=A[i]\n",
    "        j=i-1\n",
    "        while (j>=0 and A[j]>x):\n",
    "            A[j+1]=A[j]\n",
    "            j=j-1\n",
    "            A[j+1]=x\n",
    "    return A"
   ]
  },
  {
   "cell_type": "code",
   "execution_count": 46,
   "metadata": {},
   "outputs": [],
   "source": [
    "def bucket_sort(A,k,n):\n",
    "    buckets = [[] for _ in range(n)]\n",
    "    for i in range(len(A)):\n",
    "        #valor maximo do elemento de A é (k-1), varia de 0 a (k-1)\n",
    "        #tem n baldes\n",
    "        buckets[int(A[i][0]*n/k)].append(A[i][1])\n",
    "    if n<k:\n",
    "        for b in buckets:\n",
    "            insertion_sort(b)\n",
    "    lista=[]\n",
    "    for i in range(len(buckets)):\n",
    "        lista.extend(buckets[i])\n",
    "    return lista       "
   ]
  },
  {
   "cell_type": "code",
   "execution_count": 55,
   "metadata": {},
   "outputs": [],
   "source": [
    "def transforma(a,p):\n",
    "    c=str(a)\n",
    "    if len(c)<p:\n",
    "        c='0'*(p-len(c))+c\n",
    "    return c"
   ]
  },
  {
   "cell_type": "code",
   "execution_count": 56,
   "metadata": {},
   "outputs": [],
   "source": [
    "def Radix_sort(A,d,k):\n",
    "    for p in range(d):\n",
    "        for i in range(len(A)):\n",
    "            A[i]=transforma(A[i],d)\n",
    "            A[i]=(int(A[i][(d-1)-p]),int(A[i]))\n",
    "        Aj=A\n",
    "        resultado=bucket_sort(Aj,k,k)\n",
    "        A=resultado\n",
    "    return A        "
   ]
  },
  {
   "cell_type": "code",
   "execution_count": 57,
   "metadata": {},
   "outputs": [
    {
     "name": "stdout",
     "output_type": "stream",
     "text": [
      "[3, 10, 100, 201]\n"
     ]
    }
   ],
   "source": [
    "A = [201 , 10 , 3 ,100]\n",
    "A_sorted=Radix_sort(A,3,10)\n",
    "print(A_sorted)"
   ]
  }
 ],
 "metadata": {
  "kernelspec": {
   "display_name": "Python 3",
   "language": "python",
   "name": "python3"
  },
  "language_info": {
   "codemirror_mode": {
    "name": "ipython",
    "version": 3
   },
   "file_extension": ".py",
   "mimetype": "text/x-python",
   "name": "python",
   "nbconvert_exporter": "python",
   "pygments_lexer": "ipython3",
   "version": "3.5.2"
  }
 },
 "nbformat": 4,
 "nbformat_minor": 2
}
