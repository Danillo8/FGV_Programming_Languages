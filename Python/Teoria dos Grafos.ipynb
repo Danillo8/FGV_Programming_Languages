{
 "cells": [
  {
   "cell_type": "markdown",
   "metadata": {},
   "source": [
    "Depth-First Search"
   ]
  },
  {
   "cell_type": "code",
   "execution_count": 540,
   "metadata": {},
   "outputs": [],
   "source": [
    "G = {    'A':['B','C','G'],\n",
    "         'B':['A'],\n",
    "         'C':['A','D','F','H'],\n",
    "         'D':['C','E'],\n",
    "         'E':['D','F','H'],\n",
    "         'F':['C','E'],\n",
    "         'G':['A','H'],\n",
    "         'H':['C','E','G']\n",
    "        }\n",
    "\n",
    "E={\n",
    "    'S':[],\n",
    "    'SC':['S','U'],\n",
    "    'Cal':['SC','S'],\n",
    "    'Ucla':['U','S','SC','Cal'],\n",
    "    'U':['Cal']\n",
    "}"
   ]
  },
  {
   "cell_type": "code",
   "execution_count": 574,
   "metadata": {},
   "outputs": [],
   "source": [
    "status={}\n",
    "tempos={}\n",
    "for i in list(E.keys()):\n",
    "    status[i]='Unvisited'\n",
    "    tempos[i]=[]"
   ]
  },
  {
   "cell_type": "code",
   "execution_count": 461,
   "metadata": {},
   "outputs": [],
   "source": [
    "import random"
   ]
  },
  {
   "cell_type": "code",
   "execution_count": 564,
   "metadata": {},
   "outputs": [],
   "source": [
    "def dfs(G,u,time):\n",
    "    tempos[u].append(time)\n",
    "    time += 1\n",
    "    status[u]='in progress'\n",
    "    for v in G[u]:\n",
    "        if status[v]=='Unvisited':\n",
    "            time=dfs(G,v,time)\n",
    "            time += 1\n",
    "    tempos[u].append(time)\n",
    "    status[u]='Done'\n",
    "    return time   "
   ]
  },
  {
   "cell_type": "code",
   "execution_count": 573,
   "metadata": {},
   "outputs": [],
   "source": [
    "def direct_dfs(G,u,time):   #fiz esse pq o dfs sozinho nao resolvia grafos direcionados\n",
    "    time=dfs(G,u,time)\n",
    "    desconhecidos=[]\n",
    "    for i in list(E.keys()):\n",
    "        if status[i]=='Unvisited':\n",
    "            desconhecidos.append(i)\n",
    "            \n",
    "    if len(desconhecidos)==0:\n",
    "        return time\n",
    "    else:\n",
    "        time+=1\n",
    "        r=desconhecidos[random.randint(0,len(desconhecidos)-1)]\n",
    "        return direct_dfs(G,r,time)"
   ]
  },
  {
   "cell_type": "code",
   "execution_count": 575,
   "metadata": {},
   "outputs": [
    {
     "data": {
      "text/plain": [
       "9"
      ]
     },
     "execution_count": 575,
     "metadata": {},
     "output_type": "execute_result"
    }
   ],
   "source": [
    "direct_dfs(E,'S',0)"
   ]
  },
  {
   "cell_type": "code",
   "execution_count": 576,
   "metadata": {},
   "outputs": [
    {
     "data": {
      "text/plain": [
       "{'Cal': [2, 7], 'S': [0, 1], 'SC': [3, 6], 'U': [4, 5], 'Ucla': [8, 9]}"
      ]
     },
     "execution_count": 576,
     "metadata": {},
     "output_type": "execute_result"
    }
   ],
   "source": [
    "tempos"
   ]
  },
  {
   "cell_type": "markdown",
   "metadata": {},
   "source": [
    "Breadth-First Search\n"
   ]
  },
  {
   "cell_type": "code",
   "execution_count": 454,
   "metadata": {},
   "outputs": [],
   "source": [
    "def bfs(G,s,n): #o n fica como o maximo valor de steps que quer saber, s o nó inicial\n",
    "    L=[]\n",
    "    for i in range(n):\n",
    "        L.append([])\n",
    "    L[0]=[s]\n",
    "    status[s]='Visited'\n",
    "    for i in range(n):\n",
    "        for u in L[i]:\n",
    "            for v in G[u]:\n",
    "                if status[v]=='Unvisited':\n",
    "                    status[v]='Visited'\n",
    "                    L[i+1].append(v)\n",
    "    return L\n",
    "\n",
    "#Aplicação : achar o shortest path"
   ]
  },
  {
   "cell_type": "code",
   "execution_count": 360,
   "metadata": {},
   "outputs": [
    {
     "data": {
      "text/plain": [
       "[['A'], ['B', 'C', 'G'], ['D', 'F', 'H'], ['E'], [], []]"
      ]
     },
     "execution_count": 360,
     "metadata": {},
     "output_type": "execute_result"
    }
   ],
   "source": [
    "dfs(G,'A',6)"
   ]
  },
  {
   "cell_type": "markdown",
   "metadata": {},
   "source": [
    "Dijkstra Algorithm - Fornece o caminho mais curto para cada ponto do nó (com comprimento nas arestas)"
   ]
  },
  {
   "cell_type": "code",
   "execution_count": 3,
   "metadata": {},
   "outputs": [],
   "source": [
    "G={\n",
    "    'Gates':{'Caltrain':12,'Foster Field':3,'Memchu':2,'The Dish':21},\n",
    "    'The Dish':{'Gates':21,'Old Union':15},\n",
    "    'Memchu':{'Gates':2,'Stern Dining':2},\n",
    "    'Old Union':{'The Dish':15,'Stern Dining':1},\n",
    "    'Stern Dining':{'Memchu':2,'Old Union':1,'Panda Express':10},\n",
    "    'Caltrain':{'Gates':12,'Foster Field':4},\n",
    "    'Foster Field':{'Caltrain':4,'Gates':3,'Panda Express':15},\n",
    "    'Panda Express':{'Foster Field':15,'Stern Dining':10}\n",
    "    \n",
    "}\n",
    "\n",
    "status={}\n",
    "tempos={}\n",
    "for i in list(G.keys()):\n",
    "    status[i]='Unvisited'\n",
    "    tempos[i]=[]"
   ]
  },
  {
   "cell_type": "code",
   "execution_count": 364,
   "metadata": {},
   "outputs": [],
   "source": [
    "G['Gates']['Caltrain']=3"
   ]
  },
  {
   "cell_type": "code",
   "execution_count": 369,
   "metadata": {},
   "outputs": [
    {
     "data": {
      "text/plain": [
       "dict_keys(['The Dish', 'Memchu', 'Caltrain', 'Foster Field'])"
      ]
     },
     "execution_count": 369,
     "metadata": {},
     "output_type": "execute_result"
    }
   ],
   "source": [
    "G['Gates'].keys()"
   ]
  },
  {
   "cell_type": "code",
   "execution_count": 385,
   "metadata": {},
   "outputs": [
    {
     "data": {
      "text/plain": [
       "True"
      ]
     },
     "execution_count": 385,
     "metadata": {},
     "output_type": "execute_result"
    }
   ],
   "source": []
  },
  {
   "cell_type": "code",
   "execution_count": 448,
   "metadata": {},
   "outputs": [],
   "source": [
    "def Dijkstra(G,v):\n",
    "    dist={}\n",
    "    for k in list(G.keys()):\n",
    "        dist[k]=float(\"inf\")\n",
    "    \n",
    "    dist[v]=0\n",
    "    for i in bfs(G,v,3):\n",
    "        for j in i:\n",
    "            for u in list(G[j].keys()):\n",
    "                dist[u]=min(dist[u],dist[j]+G[j][u])\n",
    "    \n",
    "    for f in list(G.keys()):\n",
    "        for d in list(G[f].keys()):\n",
    "            dist[d]=min(dist[d],dist[f]+G[f][d])\n",
    "               \n",
    "    return dist"
   ]
  },
  {
   "cell_type": "code",
   "execution_count": 13,
   "metadata": {},
   "outputs": [],
   "source": [
    "def Dijkstra2(G,v):   #essa é a boa\n",
    "    dist={}\n",
    "    for k in list(G.keys()):\n",
    "        dist[k]=float(\"inf\")\n",
    "    \n",
    "    dist[v]=0\n",
    "    Q=list(G.keys())\n",
    "    \n",
    "    while len(Q)!=0:\n",
    "        dic={}\n",
    "        for i in Q:\n",
    "            dic[i]=dist[i]\n",
    "        u=min(dic, key = lambda x : dic.get(x))\n",
    "        Q.remove(u)\n",
    "        for k in list(G[u].keys()):\n",
    "            dist[k]=min(dist[k],dist[u]+G[u][k]) \n",
    "            \n",
    "    return dist"
   ]
  },
  {
   "cell_type": "code",
   "execution_count": 14,
   "metadata": {},
   "outputs": [
    {
     "data": {
      "text/plain": [
       "{'Caltrain': 7,\n",
       " 'Foster Field': 3,\n",
       " 'Gates': 0,\n",
       " 'Memchu': 2,\n",
       " 'Old Union': 5,\n",
       " 'Panda Express': 14,\n",
       " 'Stern Dining': 4,\n",
       " 'The Dish': 20}"
      ]
     },
     "execution_count": 14,
     "metadata": {},
     "output_type": "execute_result"
    }
   ],
   "source": [
    "Dijkstra2(G,'Gates')"
   ]
  },
  {
   "cell_type": "code",
   "execution_count": 382,
   "metadata": {},
   "outputs": [
    {
     "data": {
      "text/plain": [
       "[['Gates'],\n",
       " ['The Dish', 'Memchu', 'Caltrain', 'Foster Field'],\n",
       " ['Old Union', 'Stern Dining', 'Panda Express']]"
      ]
     },
     "execution_count": 382,
     "metadata": {},
     "output_type": "execute_result"
    }
   ],
   "source": [
    "dfs(G,'Gates',3)"
   ]
  },
  {
   "cell_type": "code",
   "execution_count": 441,
   "metadata": {},
   "outputs": [
    {
     "data": {
      "text/plain": [
       "{'Caltrain': 7,\n",
       " 'Foster Field': 3,\n",
       " 'Gates': 0,\n",
       " 'Memchu': 2,\n",
       " 'Old Union': 5,\n",
       " 'Panda Express': 14,\n",
       " 'Stern Dining': 4,\n",
       " 'The Dish': 20}"
      ]
     },
     "execution_count": 441,
     "metadata": {},
     "output_type": "execute_result"
    }
   ],
   "source": [
    "Dijkstra(G,'Gates')"
   ]
  },
  {
   "cell_type": "markdown",
   "metadata": {},
   "source": [
    "Kosaraju's Algorithm"
   ]
  },
  {
   "cell_type": "code",
   "execution_count": 577,
   "metadata": {},
   "outputs": [],
   "source": [
    "import random"
   ]
  },
  {
   "cell_type": "code",
   "execution_count": 17,
   "metadata": {},
   "outputs": [],
   "source": [
    "E={\n",
    "    'S':[],\n",
    "    'SC':['S','U'],\n",
    "    'Cal':['SC','S'],\n",
    "    'Ucla':['U','S','SC','Cal'],\n",
    "    'U':['Cal']\n",
    "}\n",
    "status={}\n",
    "tempos={}\n",
    "for i in list(E.keys()):\n",
    "    status[i]='Unvisited'\n",
    "    tempos[i]=[]"
   ]
  },
  {
   "cell_type": "code",
   "execution_count": 18,
   "metadata": {},
   "outputs": [],
   "source": [
    "def reverse_graph(G):\n",
    "    R={}\n",
    "    for i in list(G.keys()):\n",
    "        R[i]=[]\n",
    "    \n",
    "    for i in list(G.keys()):\n",
    "        for p in G[i]:\n",
    "            R[p].append(i)\n",
    "    return R"
   ]
  },
  {
   "cell_type": "code",
   "execution_count": 19,
   "metadata": {},
   "outputs": [
    {
     "data": {
      "text/plain": [
       "{'Cal': ['Ucla', 'U'],\n",
       " 'S': ['Cal', 'Ucla', 'SC'],\n",
       " 'SC': ['Cal', 'Ucla'],\n",
       " 'U': ['Ucla', 'SC'],\n",
       " 'Ucla': []}"
      ]
     },
     "execution_count": 19,
     "metadata": {},
     "output_type": "execute_result"
    }
   ],
   "source": [
    "reverse_graph(E)"
   ]
  },
  {
   "cell_type": "code",
   "execution_count": 1,
   "metadata": {},
   "outputs": [
    {
     "ename": "SyntaxError",
     "evalue": "invalid syntax (<ipython-input-1-6fdbe4e36680>, line 3)",
     "output_type": "error",
     "traceback": [
      "\u001b[0;36m  File \u001b[0;32m\"<ipython-input-1-6fdbe4e36680>\"\u001b[0;36m, line \u001b[0;32m3\u001b[0m\n\u001b[0;31m    time=\u001b[0m\n\u001b[0m         ^\u001b[0m\n\u001b[0;31mSyntaxError\u001b[0m\u001b[0;31m:\u001b[0m invalid syntax\n"
     ]
    }
   ],
   "source": [
    "def Kosaraju(G,u):\n",
    "    time=0\n",
    "    time="
   ]
  },
  {
   "cell_type": "code",
   "execution_count": 20,
   "metadata": {},
   "outputs": [
    {
     "data": {
      "text/plain": [
       "{'Cal': ['SC', 'S'],\n",
       " 'S': [],\n",
       " 'SC': ['S', 'U'],\n",
       " 'U': ['Cal'],\n",
       " 'Ucla': ['U', 'S', 'SC', 'Cal']}"
      ]
     },
     "execution_count": 20,
     "metadata": {},
     "output_type": "execute_result"
    }
   ],
   "source": [
    "E\n"
   ]
  },
  {
   "cell_type": "code",
   "execution_count": 21,
   "metadata": {},
   "outputs": [
    {
     "data": {
      "text/plain": [
       "['SC', 'S']"
      ]
     },
     "execution_count": 21,
     "metadata": {},
     "output_type": "execute_result"
    }
   ],
   "source": [
    "E.get('Cal')"
   ]
  },
  {
   "cell_type": "code",
   "execution_count": null,
   "metadata": {},
   "outputs": [],
   "source": []
  }
 ],
 "metadata": {
  "kernelspec": {
   "display_name": "Python 3",
   "language": "python",
   "name": "python3"
  },
  "language_info": {
   "codemirror_mode": {
    "name": "ipython",
    "version": 3
   },
   "file_extension": ".py",
   "mimetype": "text/x-python",
   "name": "python",
   "nbconvert_exporter": "python",
   "pygments_lexer": "ipython3",
   "version": "3.5.2"
  }
 },
 "nbformat": 4,
 "nbformat_minor": 2
}
