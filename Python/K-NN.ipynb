{
 "cells": [
  {
   "cell_type": "code",
   "execution_count": 1,
   "metadata": {},
   "outputs": [],
   "source": [
    "import random\n",
    "import math\n",
    "import matplotlib.pyplot as plt\n",
    "import numpy as np"
   ]
  },
  {
   "cell_type": "code",
   "execution_count": 30,
   "metadata": {},
   "outputs": [],
   "source": [
    "def data(n,a,b):\n",
    "    gen=([random.random(),random.random()] for i in range(n))\n",
    "    D=list(gen)\n",
    "    for k in D:\n",
    "        if k[0]>a and k[1]<b:\n",
    "            k.append(1)\n",
    "        else:\n",
    "            k.append(-1)\n",
    "    return D"
   ]
  },
  {
   "cell_type": "code",
   "execution_count": 77,
   "metadata": {},
   "outputs": [],
   "source": [
    "def distancia(i1,i2):\n",
    "    d=0\n",
    "    for k in range(len(i1)-1):\n",
    "        d+=(i1[k]-i2[k])**2\n",
    "    return d**0.5"
   ]
  },
  {
   "cell_type": "code",
   "execution_count": 84,
   "metadata": {},
   "outputs": [],
   "source": [
    "def k_nearest(X,t,k):\n",
    "    distancias=[]\n",
    "    vizinhos=[]\n",
    "    for i in X:\n",
    "        dis=distancia(i,t)\n",
    "        distancias.append((i,dis))\n",
    "    distancias.sort(key = lambda x : x[1])\n",
    "    for j in range(k):\n",
    "        vizinhos.append(distancias[j][0])\n",
    "    return vizinhos\n",
    "def "
   ]
  },
  {
   "cell_type": "code",
   "execution_count": 79,
   "metadata": {},
   "outputs": [],
   "source": [
    "X=data(50,0.3,0.5)\n",
    "t=[random.random(),random.random()]"
   ]
  },
  {
   "cell_type": "code",
   "execution_count": 87,
   "metadata": {},
   "outputs": [
    {
     "data": {
      "text/plain": [
       "[[0.3064473494195913, 0.9224103739926913, -1],\n",
       " [0.3739792558645162, 0.8468522041248475, -1],\n",
       " [0.4825962563391094, 0.7895871266741931, -1],\n",
       " [0.517722615137401, 0.901623367020952, -1],\n",
       " [0.1364028111050083, 0.8484674437391148, -1],\n",
       " [0.09751806171670352, 0.7934046093236239, -1],\n",
       " [0.05930731404902945, 0.8041964170656104, -1]]"
      ]
     },
     "execution_count": 87,
     "metadata": {},
     "output_type": "execute_result"
    }
   ],
   "source": [
    "k_nearest(X,t,7)"
   ]
  },
  {
   "cell_type": "code",
   "execution_count": 90,
   "metadata": {},
   "outputs": [],
   "source": [
    "def plotar(X):\n",
    "    A=[]\n",
    "    V=[]\n",
    "    for i in X:\n",
    "        if i[2]==1:\n",
    "            A.append(i)\n",
    "        else:\n",
    "            V.append(i)\n",
    "    plt.scatter([i[0] for i in A],[i[1] for i in A],color='Blue')\n",
    "    plt.scatter([i[0] for i in V],[i[1] for i in V],color='red')\n",
    "    plt.axis([0, 1, 0, 1])    "
   ]
  },
  {
   "cell_type": "code",
   "execution_count": 91,
   "metadata": {},
   "outputs": [
    {
     "data": {
      "image/png": "[encoded data removed]",
      "text/plain": [
       "<Figure size 432x288 with 1 Axes>"
      ]
     },
     "metadata": {},
     "output_type": "display_data"
    }
   ],
   "source": [
    "plotar(X)"
   ]
  },
  {
   "cell_type": "code",
   "execution_count": null,
   "metadata": {},
   "outputs": [],
   "source": []
  }
 ],
 "metadata": {
  "kernelspec": {
   "display_name": "Python 3",
   "language": "python",
   "name": "python3"
  },
  "language_info": {
   "codemirror_mode": {
    "name": "ipython",
    "version": 3
   },
   "file_extension": ".py",
   "mimetype": "text/x-python",
   "name": "python",
   "nbconvert_exporter": "python",
   "pygments_lexer": "ipython3",
   "version": "3.5.2"
  }
 },
 "nbformat": 4,
 "nbformat_minor": 2
}
