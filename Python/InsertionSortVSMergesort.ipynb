{
 "cells": [
  {
   "cell_type": "code",
   "execution_count": 1,
   "metadata": {},
   "outputs": [],
   "source": [
    "import random\n",
    "import time\n",
    "import matplotlib.pyplot as plt\n",
    "import numpy as np\n",
    "import pandas as pd"
   ]
  },
  {
   "cell_type": "markdown",
   "metadata": {},
   "source": [
    "Questão 2"
   ]
  },
  {
   "cell_type": "code",
   "execution_count": 14,
   "metadata": {},
   "outputs": [],
   "source": [
    "#Código do Insertion Sort, dado uma lista A\n",
    "\n",
    "def insertion_sort(A):\n",
    "    for i in range(0,len(A)):\n",
    "        x=A[i]\n",
    "        j=i-1\n",
    "        while (j>=0 and A[j]>x):\n",
    "            A[j+1]=A[j]\n",
    "            j=j-1\n",
    "        A[j+1]=x\n",
    "    return A"
   ]
  },
  {
   "cell_type": "code",
   "execution_count": 6,
   "metadata": {},
   "outputs": [],
   "source": [
    "#Codigo do Merge para usar no Mergesort\n",
    "\n",
    "def merge(A,B):\n",
    "    resultado = []\n",
    "    while len(A)!=0 and len(B)!=0:\n",
    "        if A[0] < B[0]:\n",
    "            resultado.append(A[0])\n",
    "            A.pop(0)         \n",
    "        else:\n",
    "            resultado.append(B[0])\n",
    "            B.pop(0)\n",
    "    if len(A)==0:\n",
    "        resultado.extend(B)\n",
    "    elif len(B)==0:\n",
    "        resultado.extend(A)\n",
    "    return resultado"
   ]
  },
  {
   "cell_type": "code",
   "execution_count": 5,
   "metadata": {},
   "outputs": [],
   "source": [
    "#Código do Mergesort, dado uma lista A\n",
    "\n",
    "def mergesort(A):\n",
    "    if len(A)<=1:\n",
    "        return A\n",
    "    e=[]\n",
    "    d=[]\n",
    "    for i in range(int(len(A)/2)):\n",
    "        e.append(A[i])\n",
    "    for i in range(int(len(A)/2),len(A)):\n",
    "        d.append(A[i])\n",
    "    return merge(mergesort(e),mergesort(d))"
   ]
  },
  {
   "cell_type": "markdown",
   "metadata": {},
   "source": [
    "2.1"
   ]
  },
  {
   "cell_type": "code",
   "execution_count": 12,
   "metadata": {},
   "outputs": [],
   "source": [
    "numerodeelementos=[10000,20000,30000,40000,50000,60000,70000,80000,90000,100000]"
   ]
  },
  {
   "cell_type": "code",
   "execution_count": 22,
   "metadata": {},
   "outputs": [
    {
     "name": "stdout",
     "output_type": "stream",
     "text": [
      "[7.122348070144653, 31.64184856414795, 66.47408032417297, 122.53201222419739, 200.12977957725525, 283.30182695388794, 377.9638874530792, 495.2188584804535, 635.0892307758331, 807.0523250102997]\n"
     ]
    }
   ],
   "source": [
    "# esse código cria uma lista aleatória com os tempos para fazer o insertion sort de 10000 elementos até 100000 elementos\n",
    "randomt1=[]\n",
    "for j in range(1,11):\n",
    "    A=[]\n",
    "    for i in range(j*10000):\n",
    "        A.append(random.random())\n",
    "        \n",
    "    t1=time.time()\n",
    "    insertion_sort(A)\n",
    "    t1=time.time() - t1\n",
    "    randomt1.append(t1)\n",
    "    \n",
    "print(randomt1)"
   ]
  },
  {
   "cell_type": "code",
   "execution_count": 27,
   "metadata": {},
   "outputs": [
    {
     "name": "stdout",
     "output_type": "stream",
     "text": [
      "[0.17290139198303223, 0.4554879665374756, 0.7195558547973633, 1.1087749004364014, 1.5350022315979004, 2.0796356201171875, 3.2447350025177, 3.778660297393799, 4.199172496795654, 5.306279182434082]\n"
     ]
    }
   ],
   "source": [
    "# esse código cria uma lista aleatória com os tempos para fazer o mergesort de 10000 elementos até 100000 elementos\n",
    "randomt2=[]\n",
    "for j in range(1,11):\n",
    "    A=[]\n",
    "    for i in range(j*10000):\n",
    "        A.append(random.random())\n",
    "        \n",
    "    t2=time.time()\n",
    "    mergesort(A)\n",
    "    t2=time.time() - t2\n",
    "    randomt2.append(t2) \n",
    "    \n",
    "print(randomt2)"
   ]
  },
  {
   "cell_type": "code",
   "execution_count": 24,
   "metadata": {},
   "outputs": [],
   "source": [
    "data={'Número de elementos':numerodeelementos,'Insertion Sort':randomt1,'Merge Sort':randomt2}"
   ]
  },
  {
   "cell_type": "code",
   "execution_count": 25,
   "metadata": {},
   "outputs": [],
   "source": [
    "df=pd.DataFrame(data,columns=['Número de elementos','Insertion Sort','Merge Sort'])"
   ]
  },
  {
   "cell_type": "code",
   "execution_count": 26,
   "metadata": {},
   "outputs": [
    {
     "data": {
      "text/html": [
       "<div>\n",
       "<style scoped>\n",
       "    .dataframe tbody tr th:only-of-type {\n",
       "        vertical-align: middle;\n",
       "    }\n",
       "\n",
       "    .dataframe tbody tr th {\n",
       "        vertical-align: top;\n",
       "    }\n",
       "\n",
       "    .dataframe thead th {\n",
       "        text-align: right;\n",
       "    }\n",
       "</style>\n",
       "<table border=\"1\" class=\"dataframe\">\n",
       "  <thead>\n",
       "    <tr style=\"text-align: right;\">\n",
       "      <th></th>\n",
       "      <th>Número de elementos</th>\n",
       "      <th>Insertion Sort</th>\n",
       "      <th>Merge Sort</th>\n",
       "    </tr>\n",
       "  </thead>\n",
       "  <tbody>\n",
       "    <tr>\n",
       "      <th>0</th>\n",
       "      <td>10000</td>\n",
       "      <td>7.122348</td>\n",
       "      <td>0.292633</td>\n",
       "    </tr>\n",
       "    <tr>\n",
       "      <th>1</th>\n",
       "      <td>20000</td>\n",
       "      <td>31.641849</td>\n",
       "      <td>0.535193</td>\n",
       "    </tr>\n",
       "    <tr>\n",
       "      <th>2</th>\n",
       "      <td>30000</td>\n",
       "      <td>66.474080</td>\n",
       "      <td>0.850705</td>\n",
       "    </tr>\n",
       "    <tr>\n",
       "      <th>3</th>\n",
       "      <td>40000</td>\n",
       "      <td>122.532012</td>\n",
       "      <td>1.297608</td>\n",
       "    </tr>\n",
       "    <tr>\n",
       "      <th>4</th>\n",
       "      <td>50000</td>\n",
       "      <td>200.129780</td>\n",
       "      <td>1.853175</td>\n",
       "    </tr>\n",
       "    <tr>\n",
       "      <th>5</th>\n",
       "      <td>60000</td>\n",
       "      <td>283.301827</td>\n",
       "      <td>2.441720</td>\n",
       "    </tr>\n",
       "    <tr>\n",
       "      <th>6</th>\n",
       "      <td>70000</td>\n",
       "      <td>377.963887</td>\n",
       "      <td>3.206869</td>\n",
       "    </tr>\n",
       "    <tr>\n",
       "      <th>7</th>\n",
       "      <td>80000</td>\n",
       "      <td>495.218858</td>\n",
       "      <td>4.179900</td>\n",
       "    </tr>\n",
       "    <tr>\n",
       "      <th>8</th>\n",
       "      <td>90000</td>\n",
       "      <td>635.089231</td>\n",
       "      <td>4.914397</td>\n",
       "    </tr>\n",
       "    <tr>\n",
       "      <th>9</th>\n",
       "      <td>100000</td>\n",
       "      <td>807.052325</td>\n",
       "      <td>6.853344</td>\n",
       "    </tr>\n",
       "  </tbody>\n",
       "</table>\n",
       "</div>"
      ],
      "text/plain": [
       "   Número de elementos  Insertion Sort  Merge Sort\n",
       "0                10000        7.122348    0.292633\n",
       "1                20000       31.641849    0.535193\n",
       "2                30000       66.474080    0.850705\n",
       "3                40000      122.532012    1.297608\n",
       "4                50000      200.129780    1.853175\n",
       "5                60000      283.301827    2.441720\n",
       "6                70000      377.963887    3.206869\n",
       "7                80000      495.218858    4.179900\n",
       "8                90000      635.089231    4.914397\n",
       "9               100000      807.052325    6.853344"
      ]
     },
     "execution_count": 26,
     "metadata": {},
     "output_type": "execute_result"
    }
   ],
   "source": [
    "df # Aqui eu criei um data frame para exportar pro excel e fazer os graficos dos resultados que gerei rodando uma vez "
   ]
  },
  {
   "cell_type": "code",
   "execution_count": 39,
   "metadata": {},
   "outputs": [],
   "source": [
    "df.to_excel(\"random.xlsx\", encoding=\"utf-8\")"
   ]
  },
  {
   "cell_type": "markdown",
   "metadata": {},
   "source": [
    "Aqui percebemos que os tempos do Insertion sort são bem maiores que do Mergesort, e sua lista demora quase 1 hora pra ser feita,e de acordo com os graficos, podemos perceber que o crescimento do tempo do Insertion Sort tem caráter exponencial e o Mergesort tem caráter linear"
   ]
  },
  {
   "cell_type": "markdown",
   "metadata": {},
   "source": [
    "2.2"
   ]
  },
  {
   "cell_type": "code",
   "execution_count": 21,
   "metadata": {},
   "outputs": [
    {
     "name": "stdout",
     "output_type": "stream",
     "text": [
      "[0.006638765335083008, 0.010303258895874023, 0.012269258499145508, 0.015617609024047852, 0.0199735164642334, 0.023270606994628906, 0.021943092346191406, 0.02498459815979004, 0.02800774574279785, 0.04781198501586914]\n",
      "[0.20127558708190918, 0.36859726905822754, 0.5234372615814209, 0.7721829414367676, 1.0553081035614014, 1.1161870956420898, 1.408111810684204, 1.7440569400787354, 2.5170202255249023, 3.141777992248535]\n"
     ]
    }
   ],
   "source": [
    "# esse código cria uma lista ordenada com os tempos para fazer o insertion sort e o mergesort de 10000 elementos até 100000 elementos\n",
    "#mas aqui aproveita e faz tudo de uma vez \n",
    "ascendingt3=[]\n",
    "ascendingt4=[]\n",
    "for j in range(1,11):\n",
    "    A=[]\n",
    "    for i in range(1,j*10000+1):\n",
    "        A.append(i)\n",
    "        \n",
    "    t3=time.time()\n",
    "    insertion_sort(A)\n",
    "    t3=time.time() - t3\n",
    "    ascendingt3.append(t3)\n",
    "    ## aqui passa uma A já ordenada\n",
    "    t4=time.time()\n",
    "    mergesort(A)\n",
    "    t4=time.time() - t4\n",
    "    ascendingt4.append(t4)\n",
    "    \n",
    "print(ascendingt3)\n",
    "print(ascendingt4)    "
   ]
  },
  {
   "cell_type": "code",
   "execution_count": 34,
   "metadata": {},
   "outputs": [],
   "source": [
    "datax={'Número de elementos':numerodeelementos,'Insertion Sort':ascendingt3,'Merge Sort':ascendingt4}\n",
    "dfx=pd.DataFrame(datax,columns=['Número de elementos','Insertion Sort','Merge Sort'])"
   ]
  },
  {
   "cell_type": "code",
   "execution_count": 35,
   "metadata": {},
   "outputs": [
    {
     "data": {
      "text/html": [
       "<div>\n",
       "<style scoped>\n",
       "    .dataframe tbody tr th:only-of-type {\n",
       "        vertical-align: middle;\n",
       "    }\n",
       "\n",
       "    .dataframe tbody tr th {\n",
       "        vertical-align: top;\n",
       "    }\n",
       "\n",
       "    .dataframe thead th {\n",
       "        text-align: right;\n",
       "    }\n",
       "</style>\n",
       "<table border=\"1\" class=\"dataframe\">\n",
       "  <thead>\n",
       "    <tr style=\"text-align: right;\">\n",
       "      <th></th>\n",
       "      <th>Número de elementos</th>\n",
       "      <th>Insertion Sort</th>\n",
       "      <th>Merge Sort</th>\n",
       "    </tr>\n",
       "  </thead>\n",
       "  <tbody>\n",
       "    <tr>\n",
       "      <th>0</th>\n",
       "      <td>10000</td>\n",
       "      <td>0.006639</td>\n",
       "      <td>0.201276</td>\n",
       "    </tr>\n",
       "    <tr>\n",
       "      <th>1</th>\n",
       "      <td>20000</td>\n",
       "      <td>0.010303</td>\n",
       "      <td>0.368597</td>\n",
       "    </tr>\n",
       "    <tr>\n",
       "      <th>2</th>\n",
       "      <td>30000</td>\n",
       "      <td>0.012269</td>\n",
       "      <td>0.523437</td>\n",
       "    </tr>\n",
       "    <tr>\n",
       "      <th>3</th>\n",
       "      <td>40000</td>\n",
       "      <td>0.015618</td>\n",
       "      <td>0.772183</td>\n",
       "    </tr>\n",
       "    <tr>\n",
       "      <th>4</th>\n",
       "      <td>50000</td>\n",
       "      <td>0.019974</td>\n",
       "      <td>1.055308</td>\n",
       "    </tr>\n",
       "    <tr>\n",
       "      <th>5</th>\n",
       "      <td>60000</td>\n",
       "      <td>0.023271</td>\n",
       "      <td>1.116187</td>\n",
       "    </tr>\n",
       "    <tr>\n",
       "      <th>6</th>\n",
       "      <td>70000</td>\n",
       "      <td>0.021943</td>\n",
       "      <td>1.408112</td>\n",
       "    </tr>\n",
       "    <tr>\n",
       "      <th>7</th>\n",
       "      <td>80000</td>\n",
       "      <td>0.024985</td>\n",
       "      <td>1.744057</td>\n",
       "    </tr>\n",
       "    <tr>\n",
       "      <th>8</th>\n",
       "      <td>90000</td>\n",
       "      <td>0.028008</td>\n",
       "      <td>2.517020</td>\n",
       "    </tr>\n",
       "    <tr>\n",
       "      <th>9</th>\n",
       "      <td>100000</td>\n",
       "      <td>0.047812</td>\n",
       "      <td>3.141778</td>\n",
       "    </tr>\n",
       "  </tbody>\n",
       "</table>\n",
       "</div>"
      ],
      "text/plain": [
       "   Número de elementos  Insertion Sort  Merge Sort\n",
       "0                10000        0.006639    0.201276\n",
       "1                20000        0.010303    0.368597\n",
       "2                30000        0.012269    0.523437\n",
       "3                40000        0.015618    0.772183\n",
       "4                50000        0.019974    1.055308\n",
       "5                60000        0.023271    1.116187\n",
       "6                70000        0.021943    1.408112\n",
       "7                80000        0.024985    1.744057\n",
       "8                90000        0.028008    2.517020\n",
       "9               100000        0.047812    3.141778"
      ]
     },
     "execution_count": 35,
     "metadata": {},
     "output_type": "execute_result"
    }
   ],
   "source": [
    "dfx # Aqui eu criei um data frame para exportar pro excel e fazer os graficos dos resultados que gerei rodando uma vez"
   ]
  },
  {
   "cell_type": "code",
   "execution_count": 40,
   "metadata": {},
   "outputs": [],
   "source": [
    "dfx.to_excel(\"ascending.xlsx\", encoding=\"utf-8\")"
   ]
  },
  {
   "cell_type": "markdown",
   "metadata": {},
   "source": [
    "Como as listas estão ordenadas, O tempo do Insertion Sort é realmente muito menor do que no caso anterior e Merge Sort mantém tempos parecidos por excecutar passos independente de estar ordenado ou não, e também seu caráter de crescimento linear."
   ]
  },
  {
   "cell_type": "markdown",
   "metadata": {},
   "source": [
    "2.3"
   ]
  },
  {
   "cell_type": "code",
   "execution_count": 23,
   "metadata": {},
   "outputs": [
    {
     "name": "stdout",
     "output_type": "stream",
     "text": [
      "[14.597290754318237, 54.72725296020508, 127.30964303016663, 234.2686369419098, 331.6486482620239, 504.0074589252472, 665.1439170837402, 878.8128986358643, 1111.4586448669434, 1361.8407130241394]\n"
     ]
    }
   ],
   "source": [
    "# esse código cria uma lista em ordem descendente com os tempos para fazer o insertion sort de 10000 elementos até 100000 elementos\n",
    "descendingt5=[]\n",
    "for j in range(1,11):\n",
    "    A=[]\n",
    "    for i in range(1,j*10000+1):\n",
    "        A.append(i)\n",
    "    A.reverse()\n",
    "    \n",
    "    t5=time.time()\n",
    "    insertion_sort(A)\n",
    "    t5=time.time() - t5\n",
    "    descendingt5.append(t5)\n",
    "    \n",
    "print(descendingt5)    "
   ]
  },
  {
   "cell_type": "code",
   "execution_count": 17,
   "metadata": {},
   "outputs": [
    {
     "name": "stdout",
     "output_type": "stream",
     "text": [
      "[0.2193295955657959, 0.38246583938598633, 0.5475449562072754, 0.770634651184082, 0.8772006034851074, 1.1320233345031738, 1.4425811767578125, 1.824676513671875, 2.1632678508758545, 2.6502161026000977]\n"
     ]
    }
   ],
   "source": [
    "# esse código cria uma lista em ordem descendente com os tempos para fazer o mergesort de 10000 elementos até 100000 elementos\n",
    "descendingt6=[]\n",
    "for j in range(1,11):\n",
    "    A=[]\n",
    "    for i in range(1,j*10000+1):\n",
    "        A.append(i)\n",
    "    A.reverse()\n",
    "    \n",
    "    t6=time.time()\n",
    "    mergesort(A)\n",
    "    t6=time.time() - t6\n",
    "    descendingt6.append(t6)\n",
    "    \n",
    "print(descendingt6)    "
   ]
  },
  {
   "cell_type": "code",
   "execution_count": 36,
   "metadata": {},
   "outputs": [],
   "source": [
    "datay={'Número de elementos':numerodeelementos,'Insertion Sort':descendingt5,'Merge Sort':descendingt6}\n",
    "dfy=pd.DataFrame(datay,columns=['Número de elementos','Insertion Sort','Merge Sort'])"
   ]
  },
  {
   "cell_type": "code",
   "execution_count": 37,
   "metadata": {},
   "outputs": [
    {
     "data": {
      "text/html": [
       "<div>\n",
       "<style scoped>\n",
       "    .dataframe tbody tr th:only-of-type {\n",
       "        vertical-align: middle;\n",
       "    }\n",
       "\n",
       "    .dataframe tbody tr th {\n",
       "        vertical-align: top;\n",
       "    }\n",
       "\n",
       "    .dataframe thead th {\n",
       "        text-align: right;\n",
       "    }\n",
       "</style>\n",
       "<table border=\"1\" class=\"dataframe\">\n",
       "  <thead>\n",
       "    <tr style=\"text-align: right;\">\n",
       "      <th></th>\n",
       "      <th>Número de elementos</th>\n",
       "      <th>Insertion Sort</th>\n",
       "      <th>Merge Sort</th>\n",
       "    </tr>\n",
       "  </thead>\n",
       "  <tbody>\n",
       "    <tr>\n",
       "      <th>0</th>\n",
       "      <td>10000</td>\n",
       "      <td>14.597291</td>\n",
       "      <td>0.219330</td>\n",
       "    </tr>\n",
       "    <tr>\n",
       "      <th>1</th>\n",
       "      <td>20000</td>\n",
       "      <td>54.727253</td>\n",
       "      <td>0.382466</td>\n",
       "    </tr>\n",
       "    <tr>\n",
       "      <th>2</th>\n",
       "      <td>30000</td>\n",
       "      <td>127.309643</td>\n",
       "      <td>0.547545</td>\n",
       "    </tr>\n",
       "    <tr>\n",
       "      <th>3</th>\n",
       "      <td>40000</td>\n",
       "      <td>234.268637</td>\n",
       "      <td>0.770635</td>\n",
       "    </tr>\n",
       "    <tr>\n",
       "      <th>4</th>\n",
       "      <td>50000</td>\n",
       "      <td>331.648648</td>\n",
       "      <td>0.877201</td>\n",
       "    </tr>\n",
       "    <tr>\n",
       "      <th>5</th>\n",
       "      <td>60000</td>\n",
       "      <td>504.007459</td>\n",
       "      <td>1.132023</td>\n",
       "    </tr>\n",
       "    <tr>\n",
       "      <th>6</th>\n",
       "      <td>70000</td>\n",
       "      <td>665.143917</td>\n",
       "      <td>1.442581</td>\n",
       "    </tr>\n",
       "    <tr>\n",
       "      <th>7</th>\n",
       "      <td>80000</td>\n",
       "      <td>878.812899</td>\n",
       "      <td>1.824677</td>\n",
       "    </tr>\n",
       "    <tr>\n",
       "      <th>8</th>\n",
       "      <td>90000</td>\n",
       "      <td>1111.458645</td>\n",
       "      <td>2.163268</td>\n",
       "    </tr>\n",
       "    <tr>\n",
       "      <th>9</th>\n",
       "      <td>100000</td>\n",
       "      <td>1361.840713</td>\n",
       "      <td>2.650216</td>\n",
       "    </tr>\n",
       "  </tbody>\n",
       "</table>\n",
       "</div>"
      ],
      "text/plain": [
       "   Número de elementos  Insertion Sort  Merge Sort\n",
       "0                10000       14.597291    0.219330\n",
       "1                20000       54.727253    0.382466\n",
       "2                30000      127.309643    0.547545\n",
       "3                40000      234.268637    0.770635\n",
       "4                50000      331.648648    0.877201\n",
       "5                60000      504.007459    1.132023\n",
       "6                70000      665.143917    1.442581\n",
       "7                80000      878.812899    1.824677\n",
       "8                90000     1111.458645    2.163268\n",
       "9               100000     1361.840713    2.650216"
      ]
     },
     "execution_count": 37,
     "metadata": {},
     "output_type": "execute_result"
    }
   ],
   "source": [
    "dfy #Aqui eu criei um data frame para exportar pro excel e fazer os graficos dos resultados que gerei rodando uma vez"
   ]
  },
  {
   "cell_type": "code",
   "execution_count": 41,
   "metadata": {},
   "outputs": [],
   "source": [
    "dfy.to_excel(\"descending.xlsx\", encoding=\"utf-8\")"
   ]
  },
  {
   "cell_type": "markdown",
   "metadata": {},
   "source": [
    "Aqui o Insertion Sort é realmente demorado, tanto que alista demora mais de 1 hora para ser gerada. Ambos mantém suas características de crescimento,e o Merge Sort ainda é semelhante aos outros casos.  "
   ]
  }
 ],
 "metadata": {
  "kernelspec": {
   "display_name": "Python 3",
   "language": "python",
   "name": "python3"
  },
  "language_info": {
   "codemirror_mode": {
    "name": "ipython",
    "version": 3
   },
   "file_extension": ".py",
   "mimetype": "text/x-python",
   "name": "python",
   "nbconvert_exporter": "python",
   "pygments_lexer": "ipython3",
   "version": "3.5.2"
  }
 },
 "nbformat": 4,
 "nbformat_minor": 2
}
